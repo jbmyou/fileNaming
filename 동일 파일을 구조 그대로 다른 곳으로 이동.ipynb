{
 "cells": [
  {
   "cell_type": "markdown",
   "id": "ee7af38f",
   "metadata": {},
   "source": [
    "아래 코드는 특정 위치부터 하위 폴더들까지 탐색해 동일한 파일(파일 명과 파일 크기가 같은 경우)이 발견되면 \"dest_root_path\"에 지정한 폴더로 이동하는 파이썬(Python) 코드이다.\n",
    "코드를 간단하게 설명하면 파일을 탐색하면서 최초 발견된 파일들은 딕셔너리 변수(Key: \"파일 명\", Value: \"파일의 크기\")를 넣고 계속 탐색하면서 파일명이 등록된 딕셔너리의 키에 존재하는지 확인하고 존재한다면 해당 딕셔너리의 값과 파일의 크기를 비교한다. 만약 파일명이 존재하면서 파일 크기도 같다면 동일 파일로 간주해 이동 처리하는 코드이다. "
   ]
  },
  {
   "cell_type": "code",
   "execution_count": null,
   "id": "d59afe65",
   "metadata": {},
   "outputs": [],
   "source": [
    "import os\n",
    "import shutil\n",
    "\n",
    "# 동일 파일을 이동시킬 폴더\n",
    "dest_root_path = \"E:/backup_o/\"\n",
    "\n",
    "# 파일 이동 함수\n",
    "def file_move(src):\n",
    "    # 현재 폴더 구조 그대로 dest_root_path에 지정한 위치에 이동\n",
    "    dest_file = dest_root_path + src\n",
    "    dest_folder = os.path.dirname(dest_file)\n",
    "    try:\n",
    "        shutil.move(src, dest_file)\n",
    "    except:\n",
    "        # 만약 에러가 발생하면 폴더가 존재하는지 확인 하여 없으면 파일 생성 후 이동\n",
    "        if not os.path.exists(dest_folder):\n",
    "            os.makedirs(dest_folder)\n",
    "            shutil.move(src, dest_file)\n",
    "        \n",
    "# 동일 파일 검색 및 이동\n",
    "def search_same_files(search_path):\n",
    "    exist_file_names = {}\n",
    "\n",
    "    for (path, dir, files) in os.walk(search_path):\n",
    "        for filename in files:\n",
    "            # 이미 발견된 파일 이름과 같은지 비교\n",
    "            if filename in exist_file_names:\n",
    "                '''\n",
    "                exist_file_names[파일명] = 파일 크기\n",
    "                '''\n",
    "                # 이미 발견된 파일 크기 얻기                \n",
    "                file_size_already_exist = exist_file_names[filename]\n",
    "                # 지금 발견된 파일 크기 얻기\n",
    "                file_size = os.path.getsize(path + \"/\" + filename)\n",
    "\n",
    "                # 파일 크기가 같으면 동일 파일\n",
    "                if file_size_already_exist == file_size:\n",
    "                    file_path = \"%s/%s\" % (path, filename)\n",
    "                    print(file_path)\n",
    "\n",
    "                    # 파일을 다른 곳으로 이동\n",
    "                    file_move(file_path)\n",
    "                    '''\n",
    "                    print('same file : ', filename, end='')\n",
    "                    print(', file_size_already_exist : ', file_size_already_exist, end='')\n",
    "                    print(', file size : ', file_size)\n",
    "                    '''\n",
    "                else: \n",
    "                    # 파일이름은 같지만 크기가 다르면 다른 파일로 간주\n",
    "                    #print('not the same file : ', filename)\n",
    "                    pass\n",
    "            else:\n",
    "                # 처음 발견된 파일 \n",
    "                # key로 파일 명을 지정하고\n",
    "                # value는 파일 크기를 저장한다.\n",
    "                exist_file_names[filename] = os.path.getsize(path + \"/\" + filename)            \n",
    "                \n",
    "search_same_files('./')"
   ]
  }
 ],
 "metadata": {
  "hide_input": false,
  "kernelspec": {
   "display_name": "Python 3.9.12 ('base')",
   "language": "python",
   "name": "python3"
  },
  "language_info": {
   "codemirror_mode": {
    "name": "ipython",
    "version": 3
   },
   "file_extension": ".py",
   "mimetype": "text/x-python",
   "name": "python",
   "nbconvert_exporter": "python",
   "pygments_lexer": "ipython3",
   "version": "3.9.12"
  },
  "varInspector": {
   "cols": {
    "lenName": 16,
    "lenType": 16,
    "lenVar": 40
   },
   "kernels_config": {
    "python": {
     "delete_cmd_postfix": "",
     "delete_cmd_prefix": "del ",
     "library": "var_list.py",
     "varRefreshCmd": "print(var_dic_list())"
    },
    "r": {
     "delete_cmd_postfix": ") ",
     "delete_cmd_prefix": "rm(",
     "library": "var_list.r",
     "varRefreshCmd": "cat(var_dic_list()) "
    }
   },
   "types_to_exclude": [
    "module",
    "function",
    "builtin_function_or_method",
    "instance",
    "_Feature"
   ],
   "window_display": false
  },
  "vscode": {
   "interpreter": {
    "hash": "38d617750889899e5f2f65cac6f27a322f361a63d334879a800ee5491961f90c"
   }
  }
 },
 "nbformat": 4,
 "nbformat_minor": 5
}
