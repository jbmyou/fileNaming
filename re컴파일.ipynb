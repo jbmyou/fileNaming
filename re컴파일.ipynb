{
 "cells": [
  {
   "cell_type": "code",
   "execution_count": 1,
   "metadata": {},
   "outputs": [],
   "source": [
    "import re\n",
    "#컴파일 객체 반환. 이 객체를 여러 Match 메서드와 함께 반복적으로 사용할 수 있다. 반복할 수록 Match함수만 썼을 때보다 성능이 좋다.\n",
    "p1 = re.compile('[0-9]{8}')\n",
    "p2 = re.compile('[0-9]{9}')"
   ]
  },
  {
   "cell_type": "code",
   "execution_count": 2,
   "metadata": {},
   "outputs": [
    {
     "name": "stdout",
     "output_type": "stream",
     "text": [
      "yes\n",
      "no\n",
      "yes\n",
      "yes\n",
      "yes\n"
     ]
    }
   ],
   "source": [
    "# Match함수(match, search)는 Match객체를 반환하는데, 표현식과 일치하는 부분의 시작인덱스와, 끝인덱스, 해당문자열을 가지고있다.\n",
    "a = ['12345678', '123456789_', '12345678_', '12345678_김명운', '집행문_87654321_사건번호']\n",
    "for i in a :\n",
    "    if (p1.search(i) != None) & (p2.search(i) == None) :\n",
    "        print('yes')\n",
    "    else : \n",
    "        print('no')"
   ]
  },
  {
   "cell_type": "code",
   "execution_count": 3,
   "metadata": {},
   "outputs": [
    {
     "name": "stdout",
     "output_type": "stream",
     "text": [
      "None\n",
      "<re.Match object; span=(0, 1), match='1'>\n",
      "1\n",
      "0\n",
      "1\n",
      "(0, 1)\n"
     ]
    }
   ],
   "source": [
    "p = p1.match('1234')\n",
    "print(p)\n",
    "\n",
    "if p != None : \n",
    "    print(p.group())\n",
    "    print(p.start())\n",
    "    print(p.end())\n",
    "    print(p.span())\n",
    "\n",
    "m = re.search('^\\d', '1234')\n",
    "print(m)\n",
    "if m != None : \n",
    "    print(m.group())\n",
    "    print(m.start())\n",
    "    print(m.end())\n",
    "    print(m.span())\n",
    "\n"
   ]
  },
  {
   "cell_type": "code",
   "execution_count": 5,
   "metadata": {},
   "outputs": [
    {
     "data": {
      "text/plain": [
       "'C:\\\\Users\\\\SL\\\\Desktop\\\\test'"
      ]
     },
     "execution_count": 5,
     "metadata": {},
     "output_type": "execute_result"
    }
   ],
   "source": [
    "import os\n",
    "path = r'C:\\Users\\SL\\Desktop\\test'\n",
    "os.chdir(path)\n",
    "os.getcwd()"
   ]
  },
  {
   "cell_type": "code",
   "execution_count": null,
   "metadata": {},
   "outputs": [],
   "source": []
  }
 ],
 "metadata": {
  "kernelspec": {
   "display_name": "Python 3.9.12 ('base')",
   "language": "python",
   "name": "python3"
  },
  "language_info": {
   "codemirror_mode": {
    "name": "ipython",
    "version": 3
   },
   "file_extension": ".py",
   "mimetype": "text/x-python",
   "name": "python",
   "nbconvert_exporter": "python",
   "pygments_lexer": "ipython3",
   "version": "3.9.12"
  },
  "orig_nbformat": 4,
  "vscode": {
   "interpreter": {
    "hash": "38d617750889899e5f2f65cac6f27a322f361a63d334879a800ee5491961f90c"
   }
  }
 },
 "nbformat": 4,
 "nbformat_minor": 2
}
