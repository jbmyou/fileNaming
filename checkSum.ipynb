{
 "cells": [
  {
   "cell_type": "code",
   "execution_count": 1,
   "metadata": {},
   "outputs": [],
   "source": [
    "# md5 : 속도보다 보안 but 보안도 이제는 떨어짐\n",
    "import hashlib\n",
    "def md5(file1):\n",
    "    md5h = hashlib.md5()\n",
    "    with open(file1, \"rb\") as f:\n",
    "        for chunk in iter(lambda: f.read(4096), b\"\"):\n",
    "            md5h.update(chunk)\n",
    "    return md5h.hexdigest()"
   ]
  },
  {
   "cell_type": "code",
   "execution_count": 7,
   "metadata": {},
   "outputs": [
    {
     "name": "stdout",
     "output_type": "stream",
     "text": [
      "a52ca7b42dc2c2b41214fc80a14cd2e5\n",
      "a52ca7b42dc2c2b41214fc80a14cd2e5\n",
      "a8683c0caadd3f3aaae4b02d04da253a\n",
      "a8683c0caadd3f3aaae4b02d04da253a\n"
     ]
    }
   ],
   "source": [
    "file = [r\"\\\\192.168.10.43\\공유폴더\\@◆통합파일◆@\\(6.케이에스자산관리대부_헬프)\\KS관련\\펜타원인서류\\6001001264\\06339_2002_000077_A_15_0005.tif\", \n",
    "r\"\\\\192.168.10.43\\공유폴더\\@◆통합파일◆@\\(6.케이에스자산관리대부_헬프)\\3.채권양도통지서\\20428933 김정태 (2)-2.tif\", \n",
    "r\"\\\\192.168.10.43\\공유폴더\\@◆통합파일◆@\\(6.케이에스자산관리대부_헬프)\\KS관련\\펜타원인서류\\6001000719\\01154_1998_139_A_10_20120816101224_1.tif\", \n",
    "r\"\\\\192.168.10.43\\공유폴더\\@◆통합파일◆@\\(6.케이에스자산관리대부_헬프)\\KS관련\\펜타원인서류\\6001000719\\01154_1998_139_A_10_20120816164806_3.tif\"\n",
    "]\n",
    "for f in file :\n",
    "\n",
    "    print(md5(f))"
   ]
  },
  {
   "cell_type": "code",
   "execution_count": 13,
   "metadata": {},
   "outputs": [],
   "source": [
    "# CRC32 : 속도가 빠름. 동일파일을 보장하지는 않지만, 다르면 무조건 다른 파일. 중복체크, 파일변경체크, 파일오류 체크에 사용\n",
    "# double killer 에서 사용하는 것.(결과도 동일함)\n",
    "import binascii\n",
    "\n",
    "def crc32(filename):\n",
    "    buf = open(filename,'rb').read()\n",
    "    buf = (binascii.crc32(buf) & 0xFFFFFFFF)\n",
    "    return \"%08X\" % buf"
   ]
  },
  {
   "cell_type": "code",
   "execution_count": 14,
   "metadata": {},
   "outputs": [
    {
     "name": "stdout",
     "output_type": "stream",
     "text": [
      "427D1DDB\n",
      "427D1DDB\n",
      "5DBD9265\n",
      "5DBD9265\n"
     ]
    }
   ],
   "source": [
    "for f in file :\n",
    "\n",
    "    print(crc32(f))"
   ]
  }
 ],
 "metadata": {
  "kernelspec": {
   "display_name": "Python 3.9.12 ('base')",
   "language": "python",
   "name": "python3"
  },
  "language_info": {
   "codemirror_mode": {
    "name": "ipython",
    "version": 3
   },
   "file_extension": ".py",
   "mimetype": "text/x-python",
   "name": "python",
   "nbconvert_exporter": "python",
   "pygments_lexer": "ipython3",
   "version": "3.9.12"
  },
  "orig_nbformat": 4,
  "vscode": {
   "interpreter": {
    "hash": "38d617750889899e5f2f65cac6f27a322f361a63d334879a800ee5491961f90c"
   }
  }
 },
 "nbformat": 4,
 "nbformat_minor": 2
}
