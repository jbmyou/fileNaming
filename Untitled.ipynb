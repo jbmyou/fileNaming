{
 "cells": [
  {
   "cell_type": "code",
   "execution_count": 2,
   "id": "c3977d0e",
   "metadata": {
    "ExecuteTime": {
     "end_time": "2022-08-23T08:45:28.561248Z",
     "start_time": "2022-08-23T08:45:28.515402Z"
    }
   },
   "outputs": [],
   "source": [
    "from tqdm.notebook import tqdm"
   ]
  },
  {
   "cell_type": "code",
   "execution_count": 5,
   "id": "b9ad2144",
   "metadata": {
    "ExecuteTime": {
     "end_time": "2022-08-23T08:47:00.021259Z",
     "start_time": "2022-08-23T08:46:49.661037Z"
    }
   },
   "outputs": [
    {
     "data": {
      "application/vnd.jupyter.widget-view+json": {
       "model_id": "f4d612f83c2744c98ea31518318bdb91",
       "version_major": 2,
       "version_minor": 0
      },
      "text/plain": [
       "바깥for문:   0%|          | 0/999 [00:00<?, ?it/s]"
      ]
     },
     "metadata": {},
     "output_type": "display_data"
    }
   ],
   "source": [
    "list = []\n",
    "for i in tqdm(range(1,1000), desc='바깥for문') : \n",
    "\tfor j in range(1,1000) : \n",
    "\t\tlist.append(i*j)\n"
   ]
  }
 ],
 "metadata": {
  "hide_input": false,
  "kernelspec": {
   "display_name": "Python 3 (ipykernel)",
   "language": "python",
   "name": "python3"
  },
  "language_info": {
   "codemirror_mode": {
    "name": "ipython",
    "version": 3
   },
   "file_extension": ".py",
   "mimetype": "text/x-python",
   "name": "python",
   "nbconvert_exporter": "python",
   "pygments_lexer": "ipython3",
   "version": "3.9.12"
  },
  "toc": {
   "base_numbering": 1,
   "nav_menu": {},
   "number_sections": true,
   "sideBar": true,
   "skip_h1_title": false,
   "title_cell": "Table of Contents",
   "title_sidebar": "Contents",
   "toc_cell": false,
   "toc_position": {},
   "toc_section_display": true,
   "toc_window_display": false
  },
  "varInspector": {
   "cols": {
    "lenName": 16,
    "lenType": 16,
    "lenVar": 40
   },
   "kernels_config": {
    "python": {
     "delete_cmd_postfix": "",
     "delete_cmd_prefix": "del ",
     "library": "var_list.py",
     "varRefreshCmd": "print(var_dic_list())"
    },
    "r": {
     "delete_cmd_postfix": ") ",
     "delete_cmd_prefix": "rm(",
     "library": "var_list.r",
     "varRefreshCmd": "cat(var_dic_list()) "
    }
   },
   "types_to_exclude": [
    "module",
    "function",
    "builtin_function_or_method",
    "instance",
    "_Feature"
   ],
   "window_display": false
  },
  "vscode": {
   "interpreter": {
    "hash": "38d617750889899e5f2f65cac6f27a322f361a63d334879a800ee5491961f90c"
   }
  }
 },
 "nbformat": 4,
 "nbformat_minor": 5
}
