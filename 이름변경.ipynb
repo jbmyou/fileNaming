{
 "cells": [
  {
   "cell_type": "code",
   "execution_count": 25,
   "id": "b00d4f65",
   "metadata": {
    "ExecuteTime": {
     "end_time": "2022-07-06T05:21:07.300210Z",
     "start_time": "2022-07-06T05:21:07.287110Z"
    }
   },
   "outputs": [],
   "source": [
    "import os\n",
    "import shutil\n",
    "import time\n",
    "import pandas as pd\n",
    "from tqdm.notebook import tqdm\n",
    "import re\n",
    "import file_function as ff\n",
    "from os.path import join"
   ]
  },
  {
   "cell_type": "markdown",
   "id": "3e146546",
   "metadata": {},
   "source": [
    "### 이름바꾸기"
   ]
  },
  {
   "cell_type": "code",
   "execution_count": null,
   "id": "9b632f2b",
   "metadata": {},
   "outputs": [],
   "source": []
  },
  {
   "cell_type": "code",
   "execution_count": null,
   "id": "b014e750",
   "metadata": {},
   "outputs": [],
   "source": []
  },
  {
   "cell_type": "code",
   "execution_count": null,
   "id": "a9d73f71",
   "metadata": {},
   "outputs": [],
   "source": []
  },
  {
   "cell_type": "code",
   "execution_count": null,
   "id": "64f89f3e",
   "metadata": {},
   "outputs": [],
   "source": []
  },
  {
   "cell_type": "code",
   "execution_count": null,
   "id": "1b0939f8",
   "metadata": {},
   "outputs": [],
   "source": []
  },
  {
   "cell_type": "code",
   "execution_count": null,
   "id": "7ce737f7",
   "metadata": {},
   "outputs": [],
   "source": []
  },
  {
   "cell_type": "markdown",
   "id": "bbc97fbb",
   "metadata": {},
   "source": [
    "### 체크하기"
   ]
  },
  {
   "cell_type": "markdown",
   "id": "2af0de77",
   "metadata": {},
   "source": [
    "##### >>> 채무자키만"
   ]
  },
  {
   "cell_type": "code",
   "execution_count": 38,
   "id": "f887a5d8",
   "metadata": {},
   "outputs": [
    {
     "data": {
      "application/vnd.jupyter.widget-view+json": {
       "model_id": "5a69acbe6b844ce08a8417d339e646a9",
       "version_major": 2,
       "version_minor": 0
      },
      "text/plain": [
       "0it [00:00, ?it/s]"
      ]
     },
     "metadata": {},
     "output_type": "display_data"
    },
    {
     "name": "stdout",
     "output_type": "stream",
     "text": [
      "[]\n"
     ]
    }
   ],
   "source": [
    "path = r'D:\\부산 정리'\n",
    "os.chdir(path)\n",
    "file_list = os.walk(path)\n",
    "\n",
    "p_key = re.compile(r'[\\d]{8}[\\D]')\n",
    "p_notkey = re.compile('[0-9]{9,}')\n",
    "error = []\n",
    "\n",
    "for r, d, files in tqdm(file_list) :\n",
    "    for f in files :\n",
    "        if f != \"Thumbs.db\":\n",
    "            if p_key.match(f) == None :\n",
    "                error.append(f)\n",
    "print(error)"
   ]
  },
  {
   "cell_type": "markdown",
   "id": "d7843b57",
   "metadata": {},
   "source": [
    "##### >>>문서종류만"
   ]
  },
  {
   "cell_type": "code",
   "execution_count": 64,
   "id": "e523ddde",
   "metadata": {},
   "outputs": [
    {
     "data": {
      "application/vnd.jupyter.widget-view+json": {
       "model_id": "ff8ed8535d43490ea1e712aa868015dc",
       "version_major": 2,
       "version_minor": 0
      },
      "text/plain": [
       "0it [00:00, ?it/s]"
      ]
     },
     "metadata": {},
     "output_type": "display_data"
    },
    {
     "name": "stdout",
     "output_type": "stream",
     "text": [
      "short :\n",
      "20459630ZONG WEI_외국인증명.pdf\n",
      "docu :\n"
     ]
    }
   ],
   "source": [
    "p_docu = re.compile('원인서류|채권양도통지서|판결문|지급명령|이행권고|화해권고|타채|결정문|등본|초본|개회|신복|파산|외국인증명')\n",
    "\n",
    "path = r'D:\\부산 정리'\n",
    "file_list = os.walk(path)\n",
    "error_short = []\n",
    "error_docu = []\n",
    "\n",
    "for r, d, files in tqdm(file_list) :\n",
    "    for f in files :\n",
    "        if f != \"Thumbs.db\":\n",
    "            splitname = f.split(\"_\")\n",
    "            if len(splitname)<3 :\n",
    "                error_short.append(f)\n",
    "            elif p_docu.search(splitname[2]) == None :\n",
    "                error_docu.append(f)\n",
    "print(\"short :\", *error_short, sep=\"\\n\")\n",
    "print(\"docu :\", *error_docu, sep=\"\\n\")"
   ]
  },
  {
   "cell_type": "markdown",
   "id": "b08c060c",
   "metadata": {},
   "source": [
    "### 돌발상황 처리"
   ]
  },
  {
   "cell_type": "markdown",
   "id": "306e915f",
   "metadata": {},
   "source": [
    "##### 이름 중간에 들어간 _"
   ]
  },
  {
   "cell_type": "code",
   "execution_count": 59,
   "id": "62b63583",
   "metadata": {},
   "outputs": [
    {
     "data": {
      "application/vnd.jupyter.widget-view+json": {
       "model_id": "2e34e4f6cf804e4fa9e3b9fdec83a16e",
       "version_major": 2,
       "version_minor": 0
      },
      "text/plain": [
       "0it [00:00, ?it/s]"
      ]
     },
     "metadata": {},
     "output_type": "display_data"
    },
    {
     "name": "stdout",
     "output_type": "stream",
     "text": [
      "0 개의 파일 이름 변경 완료\n",
      "\n"
     ]
    }
   ],
   "source": [
    "### 등,초본이 초본을 포함해버린다. 이거 수정해야\n",
    "path = r'D:\\부산 정리'\n",
    "\n",
    "p_docu = re.compile(\n",
    "    '원인서류|채권양도통지서|판결문|지급명령|이행권고|화해권고|타채|결정문|등본|초본|개회|신복|파산|외국인증명')\n",
    "p_ = re.compile(\"_\")\n",
    "\n",
    "os.chdir(path)\n",
    "file_list = os.walk(path)\n",
    "fixed = []\n",
    "count = 0\n",
    "\n",
    "for r, d, files in tqdm(file_list):\n",
    "    for f in files:\n",
    "        if f != \"Thumbs.db\":\n",
    "            new_name = \"\"\n",
    "            if p_docu.search(f):\n",
    "                st = p_docu.search(f).start() - 1\n",
    "                new_name = f[:9] + p_.sub(\" \", f[9:st]) + f[st:]  # 앞뒤 언더바 말고 중간에 언더바\n",
    "\n",
    "                if f != new_name:\n",
    "                    os.rename(r+\"/\"+f, r+\"/\"+new_name)\n",
    "                    count += 1\n",
    "                    fixed.append([f, new_name])\n",
    "                    \n",
    "\n",
    "print(count, \"개의 파일 이름 변경 완료\")\n",
    "print(*fixed, sep=\"\\n\")"
   ]
  },
  {
   "cell_type": "markdown",
   "id": "059eccd9",
   "metadata": {},
   "source": [
    "##### 잘린 외국인 이름 정정"
   ]
  },
  {
   "cell_type": "code",
   "execution_count": 86,
   "id": "3f90c6d2",
   "metadata": {},
   "outputs": [
    {
     "data": {
      "application/vnd.jupyter.widget-view+json": {
       "model_id": "7ea4beea2e2f45e59d64a0d55fee221f",
       "version_major": 2,
       "version_minor": 0
      },
      "text/plain": [
       "0it [00:00, ?it/s]"
      ]
     },
     "metadata": {},
     "output_type": "display_data"
    },
    {
     "name": "stdout",
     "output_type": "stream",
     "text": [
      "20412275_LE THANH HAI_외국인증명.pdf 20412275_레탕하이_외국인증명.pdf\n",
      "20432140_YANGXUEHUI_원인서류.pdf 20432140_YANG XUEHUI_원인서류.pdf\n",
      "20432235_PIXIANGXU_원인서류.pdf 20432235_PI XIANGXU_원인서류.pdf\n",
      "20432249_THOMASWHALLEY_원인서류.pdf 20432249_THOMAS WHALLEY_원인서류.pdf\n",
      "20432299_LICHUNHUA_원인서류.pdf 20432299_LI CHUNHUA_원인서류.pdf\n",
      "20432493_YIJAERAN(이제란)_판결문.pdf 20432493_YI JAE RAN_판결문.pdf\n",
      "20432493_YIJAERAN_원인서류.pdf 20432493_YI JAE RAN_원인서류.pdf\n",
      "20432503_SPOHRRYANAUSTIN(조성수)_판결문.pdf 20432503_SPOHR RYAN AUSTIN_판결문.pdf\n",
      "20432503_SPOHRRYANAUSTIN_원인서류.pdf 20432503_SPOHR RYAN AUSTIN_원인서류.pdf\n",
      "20432517_XUJI_원인서류.pdf 20432517_XU JI_원인서류.pdf\n",
      "20432533_KIMANTHONYJONGUK_원인서류.pdf 20432533_KIM ANTHONY JONGUK_원인서류.pdf\n",
      "20432543_LIANGRENLONG_원인서류.pdf 20432543_LIANG RENLONG_원인서류.pdf\n",
      "20432551_SAMCHANTHOL_원인서류.pdf 20432551_SAM CHANTHOL_원인서류.pdf\n",
      "20432560_PIAOXIUYU_원인서류.pdf 20432560_PIAO XIUYU_원인서류.pdf\n",
      "20432623_LINSHENGLONG_원인서류.pdf 20432623_LIN SHENGLONG_원인서류.pdf\n",
      "20432624_KIMNATALIA_원인서류.pdf 20432624_KIM NATALIA_원인서류.pdf\n",
      "20432677_PAIKSEUNGHO_원인서류.pdf 20432677_PAIK SEUNG HO_원인서류.pdf\n",
      "20432694_HANIVEN_원인서류.pdf 20432694_HAN IVEN_원인서류.pdf\n",
      "20432779_HURBEN_원인서류.pdf 20432779_HUR BEN_원인서류.pdf\n",
      "20432800_LIDENIS_원인서류.pdf 20432800_LI DENIS_원인서류.pdf\n",
      "20432805_PIAOGUANGYU_원인서류.pdf 20432805_PIAO GUANGYU_원인서류.pdf\n",
      "20432862_JINCHENGHU_원인서류.pdf 20432862_JIN CHENGHU_원인서류.pdf\n",
      "20432890_XUANHUSEN_원인서류.pdf 20432890_XUAN HUSEN_원인서류.pdf\n",
      "20433626_MOONKYEOUNGDON_원인서류.pdf 20433626_MOON KYEOUNG DON_원인서류.pdf\n",
      "20433626_MOON_지급명령.pdf 20433626_MOON KYEOUNG DON_지급명령.pdf\n",
      "20440081_PIAOYILONG_원인서류.pdf 20440081_PIAO YILONG_원인서류.pdf\n",
      "20440083_LUHENGFAN_원인서류.pdf 20440083_LU HENGFAN_원인서류.pdf\n",
      "20440091_HUANGLONGHE_원인서류.pdf 20440091_HUANG LONGHE_원인서류.pdf\n",
      "20440091_HUANGLONGHE_원인서류_(1).pdf 20440091_HUANG LONGHE_원인서류_(1).pdf\n",
      "20440091_HUANGLONGHE_채권양도통지서_1차.pdf 20440091_HUANG LONGHE_채권양도통지서_1차.pdf\n",
      "20440091_HUANGLONGHE_채권양도통지서_2차.pdf 20440091_HUANG LONGHE_채권양도통지서_2차.pdf\n",
      "20440134_MOONSUKJIN_원인서류.pdf 20440134_MOON SUK JIN_원인서류.pdf\n",
      "20440148_CHENXIUJUN_원인서류.pdf 20440148_CHEN XIUJUN_원인서류.pdf\n",
      "20446971_GAO YINGYONG_외국인증명.pdf 20446971_GAOYINGYONG_외국인증명.pdf\n",
      "20446971_GAO YINGYONG_외국인증명_(1).pdf 20446971_GAOYINGYONG_외국인증명_(1).pdf\n",
      "20447075_NAN MINGZI_외국인증명.pdf 20447075_NANMINGZI_외국인증명_(1).pdf\n",
      "20447123_JIANG LAN_외국인증명.pdf 20447123_JIANGLAN_외국인증명.pdf\n",
      "20447123_JIANG LAN_외국인증명_(1).pdf 20447123_JIANGLAN_외국인증명_(1).pdf\n",
      "20447123_장란(JIANGLAN)_판결문.pdf 20447123_JIANGLAN_판결문.pdf\n",
      "20447292_RAHAYUSRI_원인서류.pdf 20447292_RAHAYU SRI_원인서류.pdf\n",
      "20447292_RAHAYUSRI_원인서류_(1).pdf 20447292_RAHAYU SRI_원인서류_(1).pdf\n",
      "20447292_RAHAYUSRI_채권양도통지서_1차.pdf 20447292_RAHAYU SRI_채권양도통지서_1차.pdf\n",
      "20447292_RAHAYUSRI_채권양도통지서_2차.pdf 20447292_RAHAYU SRI_채권양도통지서_2차.pdf\n",
      "20447292_RAHAYU_지급명령.pdf 20447292_RAHAYU SRI_지급명령.pdf\n",
      "20447300_TURAEVSHUHRAT_원인서류.pdf 20447300_TURAEV SHUHRAT_원인서류.pdf\n",
      "20447300_TURAEVSHUHRAT_원인서류_(1).pdf 20447300_TURAEV SHUHRAT_원인서류_(1).pdf\n",
      "20447300_TURAEVSHUHRAT_채권양도통지서_1차.pdf 20447300_TURAEV SHUHRAT_채권양도통지서_1차.pdf\n",
      "20447300_TURAEVSHUHRAT_채권양도통지서_2차.pdf 20447300_TURAEV SHUHRAT_채권양도통지서_2차.pdf\n",
      "20447307_JINJINGHUA_원인서류.pdf 20447307_JIN JINGHUA_원인서류.pdf\n",
      "20447307_JINJINGHUA_원인서류_(1).pdf 20447307_JIN JINGHUA_원인서류_(1).pdf\n",
      "20447307_JINJINGHUA_채권양도통지서_1차.pdf 20447307_JIN JINGHUA_채권양도통지서_1차.pdf\n",
      "20447307_JINJINGHUA_채권양도통지서_2차.pdf 20447307_JIN JINGHUA_채권양도통지서_2차.pdf\n",
      "20447360_AL SERRIHAMED_외국인증명.pdf 20447360_ALSERRI HAMED OMAR ABDULQADER_외국인증명_(1).pdf\n",
      "20447360_ALSERRIHAMEDOMARABDULQADER_원인서류.pdf 20447360_ALSERRI HAMED OMAR ABDULQADER_원인서류.pdf\n",
      "20447360_ALSERRIHAMEDOMARABDULQADER_원인서류_(1).pdf 20447360_ALSERRI HAMED OMAR ABDULQADER_원인서류_(1).pdf\n",
      "20447360_ALSERRIHAMEDOMARABDULQADER_채권양도통지서_1차.pdf 20447360_ALSERRI HAMED OMAR ABDULQADER_채권양도통지서_1차.pdf\n",
      "20447360_ALSERRIHAMEDOMARABDULQADER_채권양도통지서_2차.pdf 20447360_ALSERRI HAMED OMAR ABDULQADER_채권양도통지서_2차.pdf\n",
      "20447411_AKKUZIEVTURDI_원인서류.pdf 20447411_AKKUZIEV TURDI_원인서류.pdf\n",
      "20447411_AKKUZIEVTURDI_원인서류_(1).pdf 20447411_AKKUZIEV TURDI_원인서류_(1).pdf\n",
      "20447411_AKKUZIEVTURDI_채권양도통지서_1차.pdf 20447411_AKKUZIEV TURDI_채권양도통지서_1차.pdf\n",
      "20447411_AKKUZIEVTURDI_채권양도통지서_2차.pdf 20447411_AKKUZIEV TURDI_채권양도통지서_2차.pdf\n",
      "20447464_SOEYUYUHNIN_원인서류.pdf 20447464_SOE YU YU HNIN_원인서류.pdf\n",
      "20447464_SOEYUYUHNIN_원인서류_(1).pdf 20447464_SOE YU YU HNIN_원인서류_(1).pdf\n",
      "20447464_SOEYUYUHNIN_채권양도통지서_1차.pdf 20447464_SOE YU YU HNIN_채권양도통지서_1차.pdf\n",
      "20447464_SOEYUYUHNIN_채권양도통지서_2차.pdf 20447464_SOE YU YU HNIN_채권양도통지서_2차.pdf\n",
      "20447471_VOKHIDOVNEMATILLO_원인서류.pdf 20447471_VOKHIDOV NEMATILLO_원인서류.pdf\n",
      "20447471_VOKHIDOVNEMATILLO_원인서류_(1).pdf 20447471_VOKHIDOV NEMATILLO_원인서류_(1).pdf\n",
      "20447471_VOKHIDOVNEMATILLO_채권양도통지서_1차.pdf 20447471_VOKHIDOV NEMATILLO_채권양도통지서_1차.pdf\n",
      "20447471_VOKHIDOVNEMATILLO_채권양도통지서_2차.pdf 20447471_VOKHIDOV NEMATILLO_채권양도통지서_2차.pdf\n",
      "20447484_KORUWAKANKANAMGE_외국인증명.pdf 20447484_MAHESH GAYANFERNANDO_외국인증명_(1).pdf\n",
      "20447484_MAHESHGAYANFERNANDO_원인서류.pdf 20447484_MAHESH GAYANFERNANDO_원인서류.pdf\n",
      "20447484_MAHESHGAYANFERNANDO_원인서류_(1).pdf 20447484_MAHESH GAYANFERNANDO_원인서류_(1).pdf\n",
      "20447484_MAHESHGAYANFERNANDO_채권양도통지서_1차.pdf 20447484_MAHESH GAYANFERNANDO_채권양도통지서_1차.pdf\n",
      "20447484_MAHESHGAYANFERNANDO_채권양도통지서_2차.pdf 20447484_MAHESH GAYANFERNANDO_채권양도통지서_2차.pdf\n",
      "20447517_LIDONGBI_원인서류.pdf 20447517_LI DONGBI_원인서류.pdf\n",
      "20447517_LIDONGBI_원인서류_(1).pdf 20447517_LI DONGBI_원인서류_(1).pdf\n",
      "20447517_LIDONGBI_채권양도통지서_1차.pdf 20447517_LI DONGBI_채권양도통지서_1차.pdf\n",
      "20447517_LIDONGBI_채권양도통지서_2차.pdf 20447517_LI DONGBI_채권양도통지서_2차.pdf\n",
      "20447723_YANGMING_원인서류.pdf 20447723_YANG MING_원인서류.pdf\n",
      "20447723_YANGMING_원인서류_(1).pdf 20447723_YANG MING_원인서류_(1).pdf\n",
      "20447723_YANGMING_채권양도통지서_1차.pdf 20447723_YANG MING_채권양도통지서_1차.pdf\n",
      "20447723_YANGMING_채권양도통지서_2차.pdf 20447723_YANG MING_채권양도통지서_2차.pdf\n",
      "20447728_ANCHANSU_원인서류.pdf 20447728_AN CHAN SU_원인서류.pdf\n",
      "20447728_ANCHANSU_원인서류_(1).pdf 20447728_AN CHAN SU_원인서류_(1).pdf\n",
      "20447728_ANCHANSU_채권양도통지서_1차.pdf 20447728_AN CHAN SU_채권양도통지서_1차.pdf\n",
      "20447728_ANCHANSU_채권양도통지서_2차.pdf 20447728_AN CHAN SU_채권양도통지서_2차.pdf\n",
      "20447783_ZAHERKAREEMATIA_원인서류.pdf 20447783_ZAHER KAREEM ATIA_원인서류.pdf\n",
      "20447783_ZAHERKAREEMATIA_원인서류_(1).pdf 20447783_ZAHER KAREEM ATIA_원인서류_(1).pdf\n",
      "20447783_ZAHERKAREEMATIA_채권양도통지서_1차.pdf 20447783_ZAHER KAREEM ATIA_채권양도통지서_1차.pdf\n",
      "20447783_ZAHERKAREEMATIA_채권양도통지서_2차.pdf 20447783_ZAHER KAREEM ATIA_채권양도통지서_2차.pdf\n",
      "20459140_JINMINGSHAN_원인서류.pdf 20459140_JIN MINGSHAN_원인서류.pdf\n",
      "20459149_KHALIDMUHAMMADNOMA_원인서류.pdf 20459149_KHALID MUHAMMAD NOMA_원인서류.pdf\n",
      "20459155_ANDREWDAVIDDOBIE_원인서류.pdf 20459155_ANDREW DAVID DOBIE_원인서류.pdf\n",
      "20459157_HANFUZI_원인서류.pdf 20459157_HAN FUZI_원인서류.pdf\n",
      "20459158_CUILIANZI_원인서류.pdf 20459158_CUI LIANZI_원인서류.pdf\n",
      "20459159_CUIQUAN_원인서류.pdf 20459159_CUI QUAN_원인서류.pdf\n",
      "20459161_YAVUZERHALIT_원인서류.pdf 20459161_YAVUZER HALIT_원인서류.pdf\n",
      "20459162_PETRONELLIENRICA_원인서류.pdf 20459162_PETRONELLI ENRICA_원인서류.pdf\n",
      "20459168_BARRORONALDDELACR_원인서류.pdf 20459168_BARRO RONALD DELA CR_원인서류.pdf\n",
      "20459169_XUZHE_원인서류.pdf 20459169_XU ZHE_원인서류.pdf\n",
      "20459172_SIMANNA_원인서류.pdf 20459172_SIM ANNA_원인서류.pdf\n",
      "20459174_NGUYENTANSANG_원인서류.pdf 20459174_NGUYEN TAN SANG_원인서류.pdf\n",
      "20459333_LUNDYBENJAMIN_원인서류.pdf 20459333_LUNDY BENJAMIN_원인서류.pdf\n",
      "20459337_ASHLEYCHOI_원인서류.pdf 20459337_ASHLEY CHOI_원인서류.pdf\n",
      "20459338_ZHANGFANJING_원인서류.pdf 20459338_ZHANG FANJING_원인서류.pdf\n",
      "20459339_QUANZHEFENG_원인서류.pdf 20459339_QUAN ZHEFENG_원인서류.pdf\n",
      "20459339_QUANZHEFENG_원인서류_(1).pdf 20459339_QUAN ZHEFENG_원인서류_(1).pdf\n",
      "20459339_QUANZHEFENG_원인서류_(2).pdf 20459339_QUAN ZHEFENG_원인서류_(2).pdf\n",
      "20459339_QUANZHEFENG_채권양도통지서_1차.pdf 20459339_QUAN ZHEFENG_채권양도통지서_1차.pdf\n",
      "20459339_QUANZHEFENG_채권양도통지서_2차.pdf 20459339_QUAN ZHEFENG_채권양도통지서_2차.pdf\n",
      "20459341_JINXINGFENG_원인서류.pdf 20459341_JIN XINGFENG_원인서류.pdf\n",
      "20459341_JINXINGFENG_원인서류_(1).pdf 20459341_JIN XINGFENG_원인서류_(1).pdf\n",
      "20459341_JINXINGFENG_채권양도통지서_1차.pdf 20459341_JIN XINGFENG_채권양도통지서_1차.pdf\n",
      "20459341_JINXINGFENG_채권양도통지서_2차.pdf 20459341_JIN XINGFENG_채권양도통지서_2차.pdf\n",
      "20459342_JINXUN_원인서류.pdf 20459342_JIN XUN_원인서류.pdf\n",
      "20459344_SAMANCHANDANA_원인서류.pdf 20459344_SAMAN CHANDANA_원인서류.pdf\n",
      "20459345_LIWENBIN_원인서류.pdf 20459345_LI WENBIN_원인서류.pdf\n",
      "20459347_JINYOUMEI_원인서류.pdf 20459347_JIN YOUMEI_원인서류.pdf\n",
      "20459351_VANGGAOXUE_원인서류.pdf 20459351_VANG GAO XUE_원인서류.pdf\n",
      "20459351_VANGGAOXUE_원인서류_(1).pdf 20459351_VANG GAO XUE_원인서류_(1).pdf\n",
      "20459351_VANGGAOXUE_채권양도통지서_1차.pdf 20459351_VANG GAO XUE_채권양도통지서_1차.pdf\n",
      "20459351_VANGGAOXUE_채권양도통지서_2차.pdf 20459351_VANG GAO XUE_채권양도통지서_2차.pdf\n",
      "20459357_HALWATHURAGESESANBU_원인서류.pdf 20459357_HALWATHURAGE SESANBU_원인서류.pdf\n",
      "20459360_SEMIFARJANAKHAN_원인서류.pdf 20459360_SEMI FARJANA KHAN_원인서류.pdf\n",
      "20459361_MAPHISARIMOKENG_원인서류.pdf 20459361_MAPHISA RIMOKENG_원인서류.pdf\n",
      "20459602_KOSTIN KOSTIANTYN_외국인증명.pdf 20459602_KKOSTIN_외국인증명.pdf\n",
      "20459605_JIA LINTAO_외국인증명.pdf 20459605_JIALINTAO_외국인증명.pdf\n",
      "20459608_QUAN HEZHU_외국인증명.pdf 20459608_QUANHEZHU_외국인증명.pdf\n",
      "20459609_JIN HU_외국인증명.pdf 20459609_JINHU_외국인증명.pdf\n",
      "20459610_WU GUANGHAO_외국인증명.pdf 20459610_WUGUANGHAO_외국인증명.pdf\n",
      "20459612_LI YULAN_외국인증명.pdf 20459612_LIYULAN_외국인증명.pdf\n",
      "20459613_YINYONGZHE_원인서류.pdf 20459613_YIN YONGZHE_원인서류.pdf\n",
      "20459613_YINYONGZHE_원인서류_(1).pdf 20459613_YIN YONGZHE_원인서류_(1).pdf\n",
      "20459613_YINYONGZHE_채권양도통지서_1차.pdf 20459613_YIN YONGZHE_채권양도통지서_1차.pdf\n",
      "20459613_YINYONGZHE_채권양도통지서_2차.pdf 20459613_YIN YONGZHE_채권양도통지서_2차.pdf\n",
      "20459615_CHEHUASHU_원인서류.pdf 20459615_CHE HUASHU_원인서류.pdf\n",
      "20459615_CHEHUASHU_원인서류_(1).pdf 20459615_CHE HUASHU_원인서류_(1).pdf\n",
      "20459615_CHEHUASHU_채권양도통지서_1차.pdf 20459615_CHE HUASHU_채권양도통지서_1차.pdf\n",
      "20459615_CHEHUASHU_채권양도통지서_2차.pdf 20459615_CHE HUASHU_채권양도통지서_2차.pdf\n",
      "20459618_JIN CHANGXI_외국인증명.pdf 20459618_JINCHANGXI_외국인증명.pdf\n",
      "20459630_ZONGWEI_원인서류.pdf 20459630_ZONG WEI_원인서류.pdf\n",
      "20459630_ZONGWEI_원인서류_(1).pdf 20459630_ZONG WEI_원인서류_(1).pdf\n",
      "20459630_ZONGWEI_채권양도통지서_1차.pdf 20459630_ZONG WEI_채권양도통지서_1차.pdf\n",
      "20459630_ZONGWEI_채권양도통지서_2차.pdf 20459630_ZONG WEI_채권양도통지서_2차.pdf\n",
      "20459634_JINFUZI_원인서류.pdf 20459634_JIN FUZI_원인서류.pdf\n",
      "20459634_JINFUZI_원인서류_(1).pdf 20459634_JIN FUZI_원인서류_(1).pdf\n",
      "20459634_JINFUZI_채권양도통지서_1차.pdf 20459634_JIN FUZI_채권양도통지서_1차.pdf\n",
      "20459634_JINFUZI_채권양도통지서_2차.pdf 20459634_JIN FUZI_채권양도통지서_2차.pdf\n",
      "20459635_KILVINGTONMATTHEW_원인서류.pdf 20459635_KILVINGTON MATTHEW_원인서류.pdf\n",
      "20459635_KILVINGTONMATTHEW_원인서류_(1).pdf 20459635_KILVINGTON MATTHEW_원인서류_(1).pdf\n",
      "20459635_KILVINGTONMATTHEW_채권양도통지서_1차.pdf 20459635_KILVINGTON MATTHEW_채권양도통지서_1차.pdf\n",
      "20459635_KILVINGTONMATTHEW_채권양도통지서_2차.pdf 20459635_KILVINGTON MATTHEW_채권양도통지서_2차.pdf\n",
      "20459635_KILVINGTON_외국인증명.pdf 20459635_KILVINGTON MATTHEW_외국인증명.pdf\n",
      "20459636_YU TAIJI_외국인증명.pdf 20459636_YUTAIJI_외국인증명.pdf\n",
      "20459640_HASSAN ATEF_외국인증명.pdf 20459640_HASSAN ATEF MOHAMED_외국인증명.pdf\n",
      "20459640_HASSANATEFMOHAMED_원인서류.pdf 20459640_HASSAN ATEF MOHAMED_원인서류.pdf\n",
      "20459640_HASSANATEFMOHAMED_원인서류_(1).pdf 20459640_HASSAN ATEF MOHAMED_원인서류_(1).pdf\n",
      "20459640_HASSANATEFMOHAMED_채권양도통지서_1차.pdf 20459640_HASSAN ATEF MOHAMED_채권양도통지서_1차.pdf\n",
      "20459640_HASSANATEFMOHAMED_채권양도통지서_2차.pdf 20459640_HASSAN ATEF MOHAMED_채권양도통지서_2차.pdf\n",
      "20459642_XUGUANGRI_원인서류.pdf 20459642_XU GUANGRI_원인서류.pdf\n",
      "20459642_XUGUANGRI_원인서류_(1).pdf 20459642_XU GUANGRI_원인서류_(1).pdf\n",
      "20459642_XUGUANGRI_채권양도통지서_1차.pdf 20459642_XU GUANGRI_채권양도통지서_1차.pdf\n",
      "20459642_XUGUANGRI_채권양도통지서_2차.pdf 20459642_XU GUANGRI_채권양도통지서_2차.pdf\n",
      "20459645_MANUEL SOARES_외국인증명.pdf 20459645_MANUEL SOARES PINTO_외국인증명.pdf\n",
      "20459645_MANUELSOARESPINTO_원인서류.pdf 20459645_MANUEL SOARES PINTO_원인서류.pdf\n",
      "20459645_MANUELSOARESPINTO_원인서류_(1).pdf 20459645_MANUEL SOARES PINTO_원인서류_(1).pdf\n",
      "20459645_MANUELSOARESPINTO_채권양도통지서_1차.pdf 20459645_MANUEL SOARES PINTO_채권양도통지서_1차.pdf\n",
      "20459645_MANUELSOARESPINTO_채권양도통지서_2차.pdf 20459645_MANUEL SOARES PINTO_채권양도통지서_2차.pdf\n",
      "20459646_LIYULONG_원인서류.pdf 20459646_LI YULONG_원인서류.pdf\n",
      "20459646_LIYULONG_원인서류_(1).pdf 20459646_LI YULONG_원인서류_(1).pdf\n",
      "20459646_LIYULONG_채권양도통지서_1차.pdf 20459646_LI YULONG_채권양도통지서_1차.pdf\n",
      "20459646_LIYULONG_채권양도통지서_2차.pdf 20459646_LI YULONG_채권양도통지서_2차.pdf\n",
      "20459652_SARMITAGANESAN_원인서류.pdf 20459652_SARMITA GANESAN_원인서류.pdf\n",
      "20459652_SARMITAGANESAN_원인서류_(1).pdf 20459652_SARMITA GANESAN_원인서류_(1).pdf\n",
      "20459652_SARMITAGANESAN_채권양도통지서_1차.pdf 20459652_SARMITA GANESAN_채권양도통지서_1차.pdf\n",
      "20459652_SARMITAGANESAN_채권양도통지서_2차.pdf 20459652_SARMITA GANESAN_채권양도통지서_2차.pdf\n",
      "20459661_LIMMAKSIM_원인서류.pdf 20459661_LIM MAKSIM_원인서류.pdf\n",
      "20459661_LIMMAKSIM_원인서류_(1).pdf 20459661_LIM MAKSIM_원인서류_(1).pdf\n",
      "20459661_LIMMAKSIM_채권양도통지서_1차.pdf 20459661_LIM MAKSIM_채권양도통지서_1차.pdf\n",
      "20459661_LIMMAKSIM_채권양도통지서_2차.pdf 20459661_LIM MAKSIM_채권양도통지서_2차.pdf\n",
      "20459663_BAIGUANGXUN_원인서류.pdf 20459663_BAI GUANGXUN_원인서류.pdf\n",
      "20459663_BAIGUANGXUN_원인서류_(1).pdf 20459663_BAI GUANGXUN_원인서류_(1).pdf\n",
      "20459663_BAIGUANGXUN_채권양도통지서_1차.pdf 20459663_BAI GUANGXUN_채권양도통지서_1차.pdf\n",
      "20459663_BAIGUANGXUN_채권양도통지서_2차.pdf 20459663_BAI GUANGXUN_채권양도통지서_2차.pdf\n",
      "20459672_SO DE RENI_외국인증명.pdf 20459672_SODERENI_외국인증명.pdf\n",
      "20459674_SAIDRASHIDAMOUR_원인서류.pdf 20459674_SAID RASHID AMOUR_원인서류.pdf\n",
      "20459674_SAIDRASHIDAMOUR_원인서류_(1).pdf 20459674_SAID RASHID AMOUR_원인서류_(1).pdf\n",
      "20459674_SAIDRASHIDAMOUR_채권양도통지서_1차.pdf 20459674_SAID RASHID AMOUR_채권양도통지서_1차.pdf\n",
      "20459674_SAIDRASHIDAMOUR_채권양도통지서_2차.pdf 20459674_SAID RASHID AMOUR_채권양도통지서_2차.pdf\n",
      "20459682_YOONHYUNWOOK_원인서류.pdf 20459682_YOON HYUN WOOK_원인서류.pdf\n",
      "20459682_YOONHYUNWOOK_원인서류_(1).pdf 20459682_YOON HYUN WOOK_원인서류_(1).pdf\n",
      "20459682_YOONHYUNWOOK_채권양도통지서_1차.pdf 20459682_YOON HYUN WOOK_채권양도통지서_1차.pdf\n",
      "20459682_YOONHYUNWOOK_채권양도통지서_2차.pdf 20459682_YOON HYUN WOOK_채권양도통지서_2차.pdf\n",
      "193 개의 파일명 변경 완료\n"
     ]
    }
   ],
   "source": [
    "# 파일명에 보증인 키워드가 있는지만 보고 그거에 맞춰서 ... \n",
    "\n",
    "# 채무자조회파일 dict로 불러오기\n",
    "dict = ff.debtorInfoDict()\n",
    "\n",
    "path = r'D:\\부산 정리'\n",
    "file_list = os.walk(path)\n",
    "\n",
    "p_eng = re.compile(\"[a-zA-Z]+\")\n",
    "p_etc = re.compile(\"보증인\")\n",
    "\n",
    "count = 0\n",
    "\n",
    "for root, dir, files in tqdm(file_list) : \n",
    "    for f in files : \n",
    "\n",
    "        if f != \"Thumbs.db\":\n",
    "            new_name = \"\"\n",
    "            \n",
    "            spl_name = f.split(\"_\", maxsplit=2)\n",
    "\n",
    "            key = spl_name[0]\n",
    "            debtor_name = spl_name[1]\n",
    "            others = spl_name[2]\n",
    "\n",
    "            if p_eng.search(debtor_name) : # 이름에 영어 있는 경우\n",
    "                if p_etc.search(others) : # 보증인 키워드 있는 경우\n",
    "                    new_name = key +\"_\" + str(dict[key].보증인성명)+\"_\"+ others\n",
    "                else : # 보증인 키워드 없는 경우\n",
    "                    new_name = key +\"_\" + str(dict[key].성명)+\"_\"+others\n",
    "                    \n",
    "                if new_name != f :\n",
    "                    src = os.path.join(root, f)\n",
    "                    dst = os.path.join(root, new_name)\n",
    "                    ff.re_name(src, dst)\n",
    "                    count += 1\n",
    "print(count, \"개의 파일명 변경 완료\")\n",
    "                  "
   ]
  }
 ],
 "metadata": {
  "hide_input": false,
  "kernelspec": {
   "display_name": "Python 3.9.12 ('base')",
   "language": "python",
   "name": "python3"
  },
  "language_info": {
   "codemirror_mode": {
    "name": "ipython",
    "version": 3
   },
   "file_extension": ".py",
   "mimetype": "text/x-python",
   "name": "python",
   "nbconvert_exporter": "python",
   "pygments_lexer": "ipython3",
   "version": "3.9.12"
  },
  "toc": {
   "base_numbering": 1,
   "nav_menu": {},
   "number_sections": true,
   "sideBar": true,
   "skip_h1_title": false,
   "title_cell": "Table of Contents",
   "title_sidebar": "Contents",
   "toc_cell": false,
   "toc_position": {},
   "toc_section_display": true,
   "toc_window_display": false
  },
  "varInspector": {
   "cols": {
    "lenName": 16,
    "lenType": 16,
    "lenVar": 40
   },
   "kernels_config": {
    "python": {
     "delete_cmd_postfix": "",
     "delete_cmd_prefix": "del ",
     "library": "var_list.py",
     "varRefreshCmd": "print(var_dic_list())"
    },
    "r": {
     "delete_cmd_postfix": ") ",
     "delete_cmd_prefix": "rm(",
     "library": "var_list.r",
     "varRefreshCmd": "cat(var_dic_list()) "
    }
   },
   "types_to_exclude": [
    "module",
    "function",
    "builtin_function_or_method",
    "instance",
    "_Feature"
   ],
   "window_display": false
  },
  "vscode": {
   "interpreter": {
    "hash": "38d617750889899e5f2f65cac6f27a322f361a63d334879a800ee5491961f90c"
   }
  }
 },
 "nbformat": 4,
 "nbformat_minor": 5
}
