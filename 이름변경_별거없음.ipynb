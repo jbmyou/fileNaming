{
 "cells": [
  {
   "cell_type": "code",
   "execution_count": 1,
   "metadata": {},
   "outputs": [],
   "source": [
    "import os\n",
    "import shutil\n",
    "import time\n",
    "import pandas as pd\n",
    "from tqdm.notebook import tqdm\n",
    "import re\n",
    "from pathlib import Path\n",
    "import file_function as ff\n",
    "import traceback\n"
   ]
  },
  {
   "cell_type": "code",
   "execution_count": 20,
   "metadata": {},
   "outputs": [],
   "source": [
    "##### 법원 문서 파일명 정리된 것\n",
    "#[시작]##########################################################\n",
    "# 사건번호 지우고, 기타 정보 살리기\n",
    "########################\n",
    "path = r'D:\\1.다운로드\\부산 공유폴더\\4. (9013) KB국민카드_솔림헬프\\5. 승계집행문\\판결문'\n",
    "f_d = r\"D:\\부산 정리\\KB국민카드\"\n",
    "docu_kind = \"판결문\" # 문서종류\n",
    "etc_info = [\"재도\", \"확정증명원\", \"보증인\"] # 기타정보 있는 경우\n",
    "\n",
    "########################\n"
   ]
  },
  {
   "cell_type": "code",
   "execution_count": 21,
   "metadata": {},
   "outputs": [
    {
     "name": "stdout",
     "output_type": "stream",
     "text": [
      "34 개의 파일 이름 변경 완료\n"
     ]
    }
   ],
   "source": [
    "#원본에 _1, _2.. 이런 파일 있어도 문제 없음\n",
    "os.chdir(path)\n",
    "file_list = os.listdir(path)\n",
    "_ = '_'\n",
    "index = 0\n",
    "\n",
    "for f in file_list:\n",
    "    # 새 파일명 만들기\n",
    "    fullname = Path(Path.cwd() / f)  # 경로+파일명+확장자\n",
    "    splitname = fullname.stem.split('_')  # _로 쪼개기(배열)\n",
    "   \n",
    "#기타정보 있는지 체크하기\n",
    "    etc_str = \"\" #for문 벗어나면 안 돼!!!\n",
    "    for e in etc_info :\n",
    "        if re.search(e, fullname.stem):\n",
    "            etc_str += ( _ + e )\n",
    "            # 기타정보 여러개일 수 있으니 여기서 break는 걸지 않는다.\n",
    "        else:\n",
    "            continue\n",
    "\n",
    "#파일명 작성\n",
    "    new_name = splitname[0] + _ + splitname[1] + \\\n",
    "                _ + docu_kind + etc_str + fullname.suffix\n",
    "    \n",
    "#이름 같은 파일은 넘버링\n",
    "    temp = Path(f_d + \"/\"+ new_name) #넘버링 없는 상태라 문제없음\n",
    "    i = 1\n",
    "    while os.path.exists(f_d+\"/\"+new_name): # os.path는 무조건 경로를 매개변수로..작업디렉토리가 아니므로 풀경로, new_name이 매개변수에 포함되어야 함!\n",
    "        new_name = temp.stem + _ +\"(\"+str(i)+\")\"+temp.suffix\n",
    "        i += 1\n",
    "                    \n",
    "    f_d_final = f_d + \"/\" + new_name\n",
    "    shutil.move(f, f_d_final)\n",
    "    index += 1\n",
    "\n",
    "print(index, \"개의 파일 이름 변경 완료\")\n",
    "os.chdir('C:/') # 작업디렉토리 옮겨줘야 폴더 삭제 가능\n",
    "#[끝]##########################################################"
   ]
  },
  {
   "cell_type": "code",
   "execution_count": 43,
   "metadata": {},
   "outputs": [],
   "source": [
    "os.chdir('C:/')"
   ]
  },
  {
   "cell_type": "code",
   "execution_count": 11,
   "metadata": {},
   "outputs": [],
   "source": [
    "##### 등초본 정리된 파일명\n",
    "#[시작]##########################################################\n",
    "# 0) 보증인 옮기기 - 파일네이머로 해도 좋다.\n",
    "# 1) 날짜지우기\n",
    "#   파일명 같아도 모두 저장(변경되어서 예전 파일이 필요할 때가 있다.)\n",
    "########################\n",
    "path = r'D:\\1.다운로드\\부산 공유폴더\\3. (9008) 더키움자산관리대부_헬프\\4. 승계집행문\\지급명령'\n",
    "f_d = r\"D:\\부산 정리\\더키움자산관리대부\"\n",
    "########################"
   ]
  },
  {
   "cell_type": "code",
   "execution_count": 12,
   "metadata": {},
   "outputs": [
    {
     "name": "stdout",
     "output_type": "stream",
     "text": [
      "30 개의 파일 이름 변경 완료\n"
     ]
    }
   ],
   "source": [
    "os.chdir(path)\n",
    "file_list = os.listdir(path)\n",
    "_ = '_'\n",
    "index = 0\n",
    "\n",
    "for f in file_list:\n",
    "    # 날짜 지우기\n",
    "    new_name = re.sub(r\"_\\d\\d\\d\\d.\\d\\d.\\d\\d\", \"\", f)\n",
    "\n",
    "    f_d_final = f_d + \"/\"+ new_name\n",
    "    temp = Path(f_d_final)\n",
    "\n",
    "## 파일명 같은 경우 넘버링 #날짜가 있어서 stem에 넘버링이 따로 없다.\n",
    "    i = 1\n",
    "    while os.path.exists(f_d+\"/\"+new_name): # 작업디렉토리가 아니므로 풀경로, new_name이 매개변수에 포함되어야 함!\n",
    "        new_name = temp.stem + _ +\"(\"+str(i)+\")\"+temp.suffix\n",
    "        i += 1\n",
    "            \n",
    "    f_d_final = f_d + \"/\" + new_name\n",
    "    shutil.move(f, f_d_final)\n",
    "    index += 1\n",
    "\n",
    "## 최신본만 남기는 경우\n",
    "    # if temp.exists() :\n",
    "    #     r = os.path.getmtime(f)\n",
    "    #     d = os.path.getmtime(f_d_final)\n",
    "        \n",
    "    #     print(f, r,\"    \", d)\n",
    "        \n",
    "    #     if r > d :  # 숫자가 클수록 최신\n",
    "    #         shutil.move(f, f_d_final)\n",
    "    #     else :\n",
    "    #         os.remove(f)\n",
    "    # else :\n",
    "    #     shutil.move(f, f_d_final)\n",
    "    # index += 1\n",
    "\n",
    "print(index, \"개의 파일 이름 변경 완료\")\n",
    "os.chdir('C:/') # 작업디렉토리 옮겨줘야 폴더 삭제 가능\n",
    "#[끝]##########################################################"
   ]
  },
  {
   "cell_type": "code",
   "execution_count": 15,
   "metadata": {},
   "outputs": [
    {
     "name": "stdout",
     "output_type": "stream",
     "text": [
      "189\n"
     ]
    }
   ],
   "source": [
    "#[시작]##########################################################\n",
    "#지급명령(차전)/판결문,이행권고,화해권고(가~) 분류하기\n",
    "path = r'D:\\1.다운로드\\부산 공유폴더\\4. (9013) KB국민카드_솔림헬프\\5. 승계집행문'\n",
    "f_d = r'D:\\1.다운로드\\부산 공유폴더\\4. (9013) KB국민카드_솔림헬프\\5. 승계집행문\\지급명령'\n",
    "os.chdir(path)\n",
    "file_list = os.listdir(path)\n",
    "p1 = re.compile(r'\\d+차')\n",
    "index = 0\n",
    "for f in file_list :\n",
    "    if p1.search(f) :\n",
    "        new_name = f\n",
    "        f_d_final = f_d + \"/\"+ new_name\n",
    "        temp = Path(f_d_final)\n",
    "\n",
    "    ## 파일명 같은 경우 넘버링 #날짜가 있어서 stem에 넘버링이 따로 없다.\n",
    "        i = 1\n",
    "        while os.path.exists(f_d+\"/\"+new_name): # 작업디렉토리가 아니므로 풀경로, new_name이 매개변수에 포함되어야 함!\n",
    "            new_name = temp.stem + _ +\"(\"+str(i)+\")\"+temp.suffix\n",
    "            i += 1\n",
    "                \n",
    "        f_d_final = f_d + \"/\" + new_name\n",
    "        shutil.move(f, f_d_final)\n",
    "        index += 1\n",
    "print(index)"
   ]
  }
 ],
 "metadata": {
  "kernelspec": {
   "display_name": "Python 3.9.12 ('base')",
   "language": "python",
   "name": "python3"
  },
  "language_info": {
   "codemirror_mode": {
    "name": "ipython",
    "version": 3
   },
   "file_extension": ".py",
   "mimetype": "text/x-python",
   "name": "python",
   "nbconvert_exporter": "python",
   "pygments_lexer": "ipython3",
   "version": "3.9.12"
  },
  "orig_nbformat": 4,
  "vscode": {
   "interpreter": {
    "hash": "38d617750889899e5f2f65cac6f27a322f361a63d334879a800ee5491961f90c"
   }
  }
 },
 "nbformat": 4,
 "nbformat_minor": 2
}
