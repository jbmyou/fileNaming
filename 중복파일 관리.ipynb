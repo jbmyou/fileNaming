{
 "cells": [
  {
   "cell_type": "code",
   "execution_count": 1,
   "id": "eb304c12",
   "metadata": {},
   "outputs": [],
   "source": [
    "# # md5 : 속도보다 보안 but 보안도 이제는 떨어진다지만\n",
    "# 테스트해보니 속도, 결과 crc32랑 차이없네?!\n",
    "# import hashlib\n",
    "# def md5(file1):\n",
    "#     md5h = hashlib.md5()\n",
    "#     with open(file1, \"rb\") as f:\n",
    "#         for chunk in iter(lambda: f.read(4096), b\"\"):\n",
    "#             md5h.update(chunk)\n",
    "#     return md5h.hexdigest()"
   ]
  },
  {
   "cell_type": "code",
   "execution_count": 1,
   "id": "897625ba",
   "metadata": {
    "ExecuteTime": {
     "end_time": "2022-07-07T04:30:12.183047Z",
     "start_time": "2022-07-07T04:30:12.016303Z"
    }
   },
   "outputs": [],
   "source": [
    "import os\n",
    "from tqdm.notebook import tqdm\n",
    "import pandas as pd\n",
    "import file_function as ff\n",
    "import re\n",
    "import binascii\n",
    "import pickle"
   ]
  },
  {
   "cell_type": "code",
   "execution_count": 4,
   "id": "c24da72f",
   "metadata": {},
   "outputs": [],
   "source": [
    "def crc32_checksum(filename):\n",
    "    buf = open(filename,'rb').read()\n",
    "    buf = (binascii.crc32(buf) & 0xFFFFFFFF)\n",
    "    return \"%08X\" % buf"
   ]
  },
  {
   "cell_type": "code",
   "execution_count": 18,
   "id": "8c1f9aba",
   "metadata": {},
   "outputs": [],
   "source": [
    "def file_info(path:str) -> None:\n",
    "    \"\"\"\n",
    "    하위경로포함 모든 파일에 대해 size,cre32로 중복 검사 후 \n",
    "    모든 파일 정보 및 중복파일 목록을 excel, pickle로 바탕화면에 저장\n",
    "    바로 중복파일 관리할 수 있도록 중복목록인 dict_sc 반환\n",
    "    \"\"\"\n",
    "\n",
    "    dict_sc = {}  #중복파일끼리 묶을 딕셔너리\n",
    "    df = None\n",
    "    data = []\n",
    "    \n",
    "    df_matching = pd.read_excel(\n",
    "        r'D:\\workspace\\python_work\\파일\\매각사 이름매칭.xlsx')\n",
    "\n",
    "    for root, __dirs__, files in tqdm(os.walk(path)):\n",
    "        \n",
    "        for f in files:\n",
    "            fullname = os.path.join(root, f)\n",
    "            #key\n",
    "            size = str(os.path.getsize(fullname))\n",
    "            #value\n",
    "            mtime = str(os.path.getmtime(fullname))\n",
    "            crc32 = str(crc32_checksum(fullname))\n",
    "            sell = \"\"\n",
    "            for __index__, row in df_matching.iterrows():\n",
    "                if re.search(str(row[0]), str(root)):  \n",
    "                    sell = row[1]\n",
    "                    break            \n",
    "            stem = os.path.splitext(f)[0]\n",
    "            ext = os.path.splitext(f)[1]\n",
    "            length = len(stem)\n",
    "            \n",
    "            temp = {\"size\":size, \"crc32\": crc32, \"mtime\":mtime, \"sell\":sell, \"root\":root, \"stem\":stem, \"ext\":ext, \"length\":length, \"fullname\":fullname}\n",
    "            data.append(temp)\n",
    "            \n",
    "            # 고유한 size, crc를 키로 하는 딕셔너리 만들기\n",
    "            sc = size + crc32\n",
    "            if sc not in dict_sc:\n",
    "                dict_sc[sc] = [temp]\n",
    "            else:\n",
    "                dict_sc[sc].append(temp)\n",
    "            \n",
    "            \n",
    "    df = pd.DataFrame(data)\n",
    "    sc = df.duplicated(['size', 'crc32'], keep=False)\n",
    "    sc.name = \"sc\"\n",
    "    df = pd.concat([df, sc], axis=1)\n",
    "    df_sc = df[df[\"sc\"]]\n",
    "    \n",
    "    # 파일 내보내기1\n",
    "    df.to_excel(r\"C:\\Users\\SL\\Desktop\\중복 관리 파일\\파일정보.xlsx\")\n",
    "    df.to_pickle(r\"C:\\Users\\SL\\Desktop\\중복 관리 파일\\파일정보.pkl\")\n",
    "\n",
    "    # 파일 내보내기2 : 중복파일만 모은 거\n",
    "    dict_sc2 = dict_sc.copy()\n",
    "    for key, value in dict_sc.items():\n",
    "        if len(value) == 1 :\n",
    "            del dict_sc2[key]\n",
    "\n",
    "    with open(r\"C:\\Users\\SL\\Desktop\\중복 관리 파일\\파일정보_sc.pkl\", \"wb\") as pkl :\n",
    "        pickle.dump(dict_sc2, pkl)\n"
   ]
  },
  {
   "cell_type": "code",
   "execution_count": 19,
   "id": "4194e496",
   "metadata": {},
   "outputs": [
    {
     "data": {
      "application/vnd.jupyter.widget-view+json": {
       "model_id": "16c28101eefd46939c261824bbabe849",
       "version_major": 2,
       "version_minor": 0
      },
      "text/plain": [
       "0it [00:00, ?it/s]"
      ]
     },
     "metadata": {},
     "output_type": "display_data"
    }
   ],
   "source": [
    "path = r'C:\\Users\\SL\\Desktop\\test'\n",
    "file_info(path)"
   ]
  },
  {
   "cell_type": "code",
   "execution_count": 20,
   "id": "ffb42081",
   "metadata": {},
   "outputs": [
    {
     "name": "stdout",
     "output_type": "stream",
     "text": [
      "<class 'dict'>\n"
     ]
    },
    {
     "data": {
      "text/plain": [
       "{'125399B647D079': [{'size': '125399',\n",
       "   'crc32': 'B647D079',\n",
       "   'mtime': '1627025371.9435256',\n",
       "   'sell': '',\n",
       "   'root': 'C:\\\\Users\\\\SL\\\\Desktop\\\\test',\n",
       "   'stem': '(주)마라솔정보(605)양통(디앤피)',\n",
       "   'ext': '.pdf',\n",
       "   'length': 20,\n",
       "   'fullname': 'C:\\\\Users\\\\SL\\\\Desktop\\\\test\\\\(주)마라솔정보(605)양통(디앤피).pdf'},\n",
       "  {'size': '125399',\n",
       "   'crc32': 'B647D079',\n",
       "   'mtime': '1627025371.9435256',\n",
       "   'sell': '',\n",
       "   'root': 'C:\\\\Users\\\\SL\\\\Desktop\\\\test',\n",
       "   'stem': '20414798 (주)마라솔정보_양통-1',\n",
       "   'ext': '.pdf',\n",
       "   'length': 22,\n",
       "   'fullname': 'C:\\\\Users\\\\SL\\\\Desktop\\\\test\\\\20414798 (주)마라솔정보_양통-1.pdf'}],\n",
       " '12728273E3CB2A': [{'size': '127282',\n",
       "   'crc32': '73E3CB2A',\n",
       "   'mtime': '1551079857.539',\n",
       "   'sell': '',\n",
       "   'root': 'C:\\\\Users\\\\SL\\\\Desktop\\\\test',\n",
       "   'stem': '20411209 김인옥_양통',\n",
       "   'ext': '.pdf',\n",
       "   'length': 15,\n",
       "   'fullname': 'C:\\\\Users\\\\SL\\\\Desktop\\\\test\\\\20411209 김인옥_양통.pdf'},\n",
       "  {'size': '127282',\n",
       "   'crc32': '73E3CB2A',\n",
       "   'mtime': '1551079857.539',\n",
       "   'sell': '',\n",
       "   'root': 'C:\\\\Users\\\\SL\\\\Desktop\\\\test',\n",
       "   'stem': '김인옥 카기',\n",
       "   'ext': '.pdf',\n",
       "   'length': 6,\n",
       "   'fullname': 'C:\\\\Users\\\\SL\\\\Desktop\\\\test\\\\김인옥 카기.pdf'}],\n",
       " '11817557088FBE': [{'size': '118175',\n",
       "   'crc32': '57088FBE',\n",
       "   'mtime': '1580201124.307136',\n",
       "   'sell': '',\n",
       "   'root': 'C:\\\\Users\\\\SL\\\\Desktop\\\\test',\n",
       "   'stem': '20414068 전영숙_양통',\n",
       "   'ext': '.pdf',\n",
       "   'length': 15,\n",
       "   'fullname': 'C:\\\\Users\\\\SL\\\\Desktop\\\\test\\\\20414068 전영숙_양통.pdf'},\n",
       "  {'size': '118175',\n",
       "   'crc32': '57088FBE',\n",
       "   'mtime': '1580201124.307136',\n",
       "   'sell': '',\n",
       "   'root': 'C:\\\\Users\\\\SL\\\\Desktop\\\\test',\n",
       "   'stem': '전영숙 양통',\n",
       "   'ext': '.pdf',\n",
       "   'length': 6,\n",
       "   'fullname': 'C:\\\\Users\\\\SL\\\\Desktop\\\\test\\\\전영숙 양통.pdf'}],\n",
       " '120675BC2C4A9E': [{'size': '120675',\n",
       "   'crc32': 'BC2C4A9E',\n",
       "   'mtime': '1528852866.0',\n",
       "   'sell': '',\n",
       "   'root': 'C:\\\\Users\\\\SL\\\\Desktop\\\\test',\n",
       "   'stem': '20414426 홍두표_양통-2',\n",
       "   'ext': '.pdf',\n",
       "   'length': 17,\n",
       "   'fullname': 'C:\\\\Users\\\\SL\\\\Desktop\\\\test\\\\20414426 홍두표_양통-2.pdf'},\n",
       "  {'size': '120675',\n",
       "   'crc32': 'BC2C4A9E',\n",
       "   'mtime': '1528852866.0',\n",
       "   'sell': '',\n",
       "   'root': 'C:\\\\Users\\\\SL\\\\Desktop\\\\test',\n",
       "   'stem': '홍두표',\n",
       "   'ext': '.pdf',\n",
       "   'length': 3,\n",
       "   'fullname': 'C:\\\\Users\\\\SL\\\\Desktop\\\\test\\\\홍두표.pdf'}],\n",
       " '1113468898534D': [{'size': '111346',\n",
       "   'crc32': '8898534D',\n",
       "   'mtime': '1560317035.68',\n",
       "   'sell': '',\n",
       "   'root': 'C:\\\\Users\\\\SL\\\\Desktop\\\\test',\n",
       "   'stem': '20417168 황경숙_양통',\n",
       "   'ext': '.pdf',\n",
       "   'length': 15,\n",
       "   'fullname': 'C:\\\\Users\\\\SL\\\\Desktop\\\\test\\\\20417168 황경숙_양통.pdf'},\n",
       "  {'size': '111346',\n",
       "   'crc32': '8898534D',\n",
       "   'mtime': '1560317035.68',\n",
       "   'sell': '',\n",
       "   'root': 'C:\\\\Users\\\\SL\\\\Desktop\\\\test',\n",
       "   'stem': '황경숙 카기 기각',\n",
       "   'ext': '.pdf',\n",
       "   'length': 9,\n",
       "   'fullname': 'C:\\\\Users\\\\SL\\\\Desktop\\\\test\\\\황경숙 카기 기각.pdf'}],\n",
       " '12446237409B10': [{'size': '124462',\n",
       "   'crc32': '37409B10',\n",
       "   'mtime': '1569457591.201',\n",
       "   'sell': '',\n",
       "   'root': 'C:\\\\Users\\\\SL\\\\Desktop\\\\test',\n",
       "   'stem': '20417329 강난영_양통',\n",
       "   'ext': '.pdf',\n",
       "   'length': 15,\n",
       "   'fullname': 'C:\\\\Users\\\\SL\\\\Desktop\\\\test\\\\20417329 강난영_양통.pdf'},\n",
       "  {'size': '124462',\n",
       "   'crc32': '37409B10',\n",
       "   'mtime': '1569457591.201',\n",
       "   'sell': '',\n",
       "   'root': 'C:\\\\Users\\\\SL\\\\Desktop\\\\test',\n",
       "   'stem': '강난영 의사표시공시송달 결정문',\n",
       "   'ext': '.pdf',\n",
       "   'length': 16,\n",
       "   'fullname': 'C:\\\\Users\\\\SL\\\\Desktop\\\\test\\\\강난영 의사표시공시송달 결정문.pdf'}],\n",
       " '121425A20BBC73': [{'size': '121425',\n",
       "   'crc32': 'A20BBC73',\n",
       "   'mtime': '1567662016.973',\n",
       "   'sell': '',\n",
       "   'root': 'C:\\\\Users\\\\SL\\\\Desktop\\\\test',\n",
       "   'stem': '20418536 고균민_양통',\n",
       "   'ext': '.pdf',\n",
       "   'length': 15,\n",
       "   'fullname': 'C:\\\\Users\\\\SL\\\\Desktop\\\\test\\\\20418536 고균민_양통.pdf'},\n",
       "  {'size': '121425',\n",
       "   'crc32': 'A20BBC73',\n",
       "   'mtime': '1567662016.973',\n",
       "   'sell': '',\n",
       "   'root': 'C:\\\\Users\\\\SL\\\\Desktop\\\\test',\n",
       "   'stem': '고균민 카기',\n",
       "   'ext': '.pdf',\n",
       "   'length': 6,\n",
       "   'fullname': 'C:\\\\Users\\\\SL\\\\Desktop\\\\test\\\\고균민 카기.pdf'}],\n",
       " '630244B6B90526': [{'size': '630244',\n",
       "   'crc32': 'B6B90526',\n",
       "   'mtime': '1626835339.0',\n",
       "   'sell': '',\n",
       "   'root': 'C:\\\\Users\\\\SL\\\\Desktop\\\\test',\n",
       "   'stem': '20447411_AKKUZIEV TURDI - 복사본 - 복사본',\n",
       "   'ext': '.pdf',\n",
       "   'length': 35,\n",
       "   'fullname': 'C:\\\\Users\\\\SL\\\\Desktop\\\\test\\\\20447411_AKKUZIEV TURDI - 복사본 - 복사본.pdf'},\n",
       "  {'size': '630244',\n",
       "   'crc32': 'B6B90526',\n",
       "   'mtime': '1626835339.0',\n",
       "   'sell': '',\n",
       "   'root': 'C:\\\\Users\\\\SL\\\\Desktop\\\\test\\\\새 폴더',\n",
       "   'stem': '20447411_AKKUZIEV TURDI',\n",
       "   'ext': '.pdf',\n",
       "   'length': 23,\n",
       "   'fullname': 'C:\\\\Users\\\\SL\\\\Desktop\\\\test\\\\새 폴더\\\\20447411_AKKUZIEV TURDI.pdf'}],\n",
       " '118635D72B7C8A': [{'size': '118635',\n",
       "   'crc32': 'D72B7C8A',\n",
       "   'mtime': '1528867738.0',\n",
       "   'sell': '',\n",
       "   'root': 'C:\\\\Users\\\\SL\\\\Desktop\\\\test',\n",
       "   'stem': '20456926 김은희_양통',\n",
       "   'ext': '.pdf',\n",
       "   'length': 15,\n",
       "   'fullname': 'C:\\\\Users\\\\SL\\\\Desktop\\\\test\\\\20456926 김은희_양통.pdf'},\n",
       "  {'size': '118635',\n",
       "   'crc32': 'D72B7C8A',\n",
       "   'mtime': '1528867738.0',\n",
       "   'sell': '',\n",
       "   'root': 'C:\\\\Users\\\\SL\\\\Desktop\\\\test',\n",
       "   'stem': '김은희 701021-2',\n",
       "   'ext': '.pdf',\n",
       "   'length': 12,\n",
       "   'fullname': 'C:\\\\Users\\\\SL\\\\Desktop\\\\test\\\\김은희 701021-2.pdf'}],\n",
       " '119855682537C1': [{'size': '119855',\n",
       "   'crc32': '682537C1',\n",
       "   'mtime': '1528849340.0',\n",
       "   'sell': '',\n",
       "   'root': 'C:\\\\Users\\\\SL\\\\Desktop\\\\test',\n",
       "   'stem': '20457734 유순복_양통',\n",
       "   'ext': '.pdf',\n",
       "   'length': 15,\n",
       "   'fullname': 'C:\\\\Users\\\\SL\\\\Desktop\\\\test\\\\20457734 유순복_양통.pdf'},\n",
       "  {'size': '119855',\n",
       "   'crc32': '682537C1',\n",
       "   'mtime': '1528849340.0',\n",
       "   'sell': '',\n",
       "   'root': 'C:\\\\Users\\\\SL\\\\Desktop\\\\test',\n",
       "   'stem': '유순복',\n",
       "   'ext': '.pdf',\n",
       "   'length': 3,\n",
       "   'fullname': 'C:\\\\Users\\\\SL\\\\Desktop\\\\test\\\\유순복.pdf'}]}"
      ]
     },
     "execution_count": 20,
     "metadata": {},
     "output_type": "execute_result"
    }
   ],
   "source": [
    "with open(r\"C:\\Users\\SL\\Desktop\\중복 관리 파일\\파일정보_sc.pkl\", \"rb\") as pkl :\n",
    "    dict = pickle.load(pkl)"
   ]
  },
  {
   "cell_type": "code",
   "execution_count": 115,
   "id": "4d040b41",
   "metadata": {},
   "outputs": [],
   "source": [
    "# 채무자키 match\n",
    "p_key = re.compile(r\"[\\d]{8}[\\D]\") \n",
    "# 사건번호\n",
    "p_event = re.compile(r\"[\\D][\\d]{4}[ㄱ-ㅎ가-힣]{1,3}[0-9]+\")\n",
    "# 문서구분\n",
    "docu_kind = '원인서류|양도통지서|양통|승계|판결|명령|이행권고|화해권고|채권압류|압류|타채|결정|등본|초본|등,초본|등초본|외국인|개회|신복|파산'\n",
    "p_docu = re.compile(docu_kind)\n",
    "#-----------------------------------------------------------------------------#\n",
    "# 사업자/주민번호\n",
    "p_regit1 = re.compile(r'([\\d]{3})-\\d\\d-\\d\\d\\d\\d\\d')\n",
    "p_regit2 = re.compile(r'([\\d]{6})-([\\d]{6})')\n",
    "# 관리자키  match\n",
    "p_admin10 = re.compile(r'[\\d]{10}[\\D]')\n",
    "p_admin = re.compile(r'[\\D][\\d]{4}-[\\d]{6}[\\D]')\n",
    "\n",
    "# 조건식 함수\n",
    "def cond1(filename:str) : \n",
    "    return (p_key.match(filename) != None) & ((p_event.search(filename) != None) | (p_docu.search(filename) != None))\n",
    "def cond2(filename:str) : \n",
    "    return (p_key.match(filename) != None)\n",
    "def cond3(filename:str) : \n",
    "    return (p_regit1.search(filename) != None) | (p_regit2.search(filename) != None)\n",
    "def cond4(filename:str) : \n",
    "    return (p_admin10.match(filename) != None) | (p_admin.search(filename) != None)"
   ]
  },
  {
   "cell_type": "code",
   "execution_count": 116,
   "id": "e1a5d66f",
   "metadata": {},
   "outputs": [],
   "source": [
    "# 남길 파일 리스트\n",
    "to_remain = []\n",
    "# 이동관련\n",
    "to_move = {}\n",
    "\n",
    "for key, values in dict.items() :\n",
    "    \n",
    "    # length에 따라 역순정렬하기\n",
    "    num = len(values)\n",
    "    for i in range(num):\n",
    "        indexOfGreater = i\n",
    "        for j in range((i+1), num) :\n",
    "            if values[indexOfGreater][\"length\"] < values[j][\"length\"] :\n",
    "                values[i], values[j] = values[j], values[i]\n",
    "    \n",
    "    # stem과 fullname만 따로 임시 리스트에 저장\n",
    "    stem_list = []\n",
    "    fullname_list = []\n",
    "    for v in values :\n",
    "        stem_list.append(v[\"stem\"])\n",
    "        fullname_list.append(v[\"fullname\"])\n",
    "    \n",
    "    # 유지할 것과 이동할 것 나누기\n",
    "    isEnd = False\n",
    "    for i in range(len(stem_list)) :\n",
    "        if cond1(stem_list[i]) :\n",
    "            to_remain.append(fullname_list[i])\n",
    "            del fullname_list[i]\n",
    "            to_move[stem_list[i]] = fullname_list\n",
    "            isEnd = True\n",
    "            break\n",
    "        \n",
    "    if not isEnd : #조건1을 만족하는 경우가 없었다면 다시 반복\n",
    "        for i in range(len(stem_list)) :\n",
    "            if cond2(stem_list[i]) :\n",
    "                to_remain.append(fullname_list[i])\n",
    "                del fullname_list[i]\n",
    "                to_move[stem_list[i]] = fullname_list\n",
    "                isEnd = True\n",
    "                break\n",
    "    \n",
    "    if not is\n",
    "        elif cond3(stem_list[i]) :\n",
    "            to_remain.append(fullname_list[i])\n",
    "            del fullname_list[i]\n",
    "            to_move[stem_list[i]] = fullname_list\n",
    "            break\n",
    "        elif cond4(stem_list[i]) :\n",
    "            to_remain.append(fullname_list[i])\n",
    "            del fullname_list[i]\n",
    "            to_move[stem_list[i]] = fullname_list\n",
    "            break\n",
    "        else :\n",
    "            stem = values[0][\"stem\"]\n",
    "            to_remain.append(values[0])\n",
    "            del values[0]\n",
    "            to_move[stem] = values\n"
   ]
  },
  {
   "cell_type": "code",
   "execution_count": 1,
   "id": "eb4b8632",
   "metadata": {},
   "outputs": [
    {
     "name": "stdout",
     "output_type": "stream",
     "text": [
      "[22, 44]\n",
      "[11, 22, 33, 44, 55]\n"
     ]
    }
   ],
   "source": [
    "nums = [11, 22, 33, 44, 55]\n",
    "res = list(filter(lambda x: x%2 == 0, nums))\n",
    "\n",
    "print(res)\n",
    "print(nums)\n",
    "# [22, 44]"
   ]
  },
  {
   "cell_type": "code",
   "execution_count": 120,
   "id": "ba2eab3c",
   "metadata": {},
   "outputs": [],
   "source": [
    "list = [{1,2,3}]\n",
    "list.append({4})"
   ]
  },
  {
   "cell_type": "code",
   "execution_count": 122,
   "id": "a8d815bb",
   "metadata": {},
   "outputs": [
    {
     "data": {
      "text/plain": [
       "[{1, 2, 3}, {4}, 5]"
      ]
     },
     "execution_count": 122,
     "metadata": {},
     "output_type": "execute_result"
    }
   ],
   "source": [
    "list.extend({5})\n",
    "list"
   ]
  },
  {
   "cell_type": "code",
   "execution_count": 124,
   "id": "8b75599b",
   "metadata": {},
   "outputs": [
    {
     "ename": "NameError",
     "evalue": "name 'empty' is not defined",
     "output_type": "error",
     "traceback": [
      "\u001b[1;31m---------------------------------------------------------------------------\u001b[0m",
      "\u001b[1;31mNameError\u001b[0m                                 Traceback (most recent call last)",
      "\u001b[1;32md:\\workspace\\python_work\\중복파일 관리.ipynb 셀 12\u001b[0m in \u001b[0;36m<cell line: 5>\u001b[1;34m()\u001b[0m\n\u001b[0;32m      <a href='vscode-notebook-cell:/d%3A/workspace/python_work/%EC%A4%91%EB%B3%B5%ED%8C%8C%EC%9D%BC%20%EA%B4%80%EB%A6%AC.ipynb#X24sZmlsZQ%3D%3D?line=0'>1</a>\u001b[0m \u001b[39mfrom\u001b[39;00m \u001b[39mqueue\u001b[39;00m \u001b[39mimport\u001b[39;00m Empty\n\u001b[0;32m      <a href='vscode-notebook-cell:/d%3A/workspace/python_work/%EC%A4%91%EB%B3%B5%ED%8C%8C%EC%9D%BC%20%EA%B4%80%EB%A6%AC.ipynb#X24sZmlsZQ%3D%3D?line=3'>4</a>\u001b[0m lista \u001b[39m=\u001b[39m []\n\u001b[1;32m----> <a href='vscode-notebook-cell:/d%3A/workspace/python_work/%EC%A4%91%EB%B3%B5%ED%8C%8C%EC%9D%BC%20%EA%B4%80%EB%A6%AC.ipynb#X24sZmlsZQ%3D%3D?line=4'>5</a>\u001b[0m \u001b[39mif\u001b[39;00m lista \u001b[39mis\u001b[39;00m empty :\n\u001b[0;32m      <a href='vscode-notebook-cell:/d%3A/workspace/python_work/%EC%A4%91%EB%B3%B5%ED%8C%8C%EC%9D%BC%20%EA%B4%80%EB%A6%AC.ipynb#X24sZmlsZQ%3D%3D?line=5'>6</a>\u001b[0m     \u001b[39mprint\u001b[39m(\u001b[39m\"\u001b[39m\u001b[39m비었어\u001b[39m\u001b[39m\"\u001b[39m)\n",
      "\u001b[1;31mNameError\u001b[0m: name 'empty' is not defined"
     ]
    }
   ],
   "source": [
    "from queue import Empty\n",
    "\n",
    "\n",
    "lista = []\n",
    "if lista is empty :\n",
    "    print(\"비었어\")"
   ]
  },
  {
   "cell_type": "code",
   "execution_count": null,
   "id": "e79f60a6",
   "metadata": {},
   "outputs": [],
   "source": []
  },
  {
   "cell_type": "code",
   "execution_count": null,
   "id": "c012f4e8",
   "metadata": {},
   "outputs": [],
   "source": []
  },
  {
   "cell_type": "code",
   "execution_count": null,
   "id": "1d85d77e",
   "metadata": {},
   "outputs": [],
   "source": []
  },
  {
   "cell_type": "code",
   "execution_count": null,
   "id": "cb7ac885",
   "metadata": {},
   "outputs": [],
   "source": []
  },
  {
   "cell_type": "code",
   "execution_count": null,
   "id": "9bfe6c38",
   "metadata": {},
   "outputs": [],
   "source": []
  },
  {
   "cell_type": "code",
   "execution_count": null,
   "id": "a7d3976e",
   "metadata": {},
   "outputs": [],
   "source": []
  },
  {
   "cell_type": "code",
   "execution_count": null,
   "id": "0643729c",
   "metadata": {},
   "outputs": [],
   "source": []
  },
  {
   "cell_type": "code",
   "execution_count": null,
   "id": "d0cdbc46",
   "metadata": {},
   "outputs": [],
   "source": []
  },
  {
   "cell_type": "code",
   "execution_count": null,
   "id": "0d0496a4",
   "metadata": {},
   "outputs": [],
   "source": []
  },
  {
   "cell_type": "code",
   "execution_count": null,
   "metadata": {},
   "outputs": [],
   "source": []
  }
 ],
 "metadata": {
  "hide_input": false,
  "kernelspec": {
   "display_name": "Python 3.9.12 ('base')",
   "language": "python",
   "name": "python3"
  },
  "language_info": {
   "codemirror_mode": {
    "name": "ipython",
    "version": 3
   },
   "file_extension": ".py",
   "mimetype": "text/x-python",
   "name": "python",
   "nbconvert_exporter": "python",
   "pygments_lexer": "ipython3",
   "version": "3.9.12"
  },
  "toc": {
   "base_numbering": 1,
   "nav_menu": {},
   "number_sections": true,
   "sideBar": true,
   "skip_h1_title": false,
   "title_cell": "Table of Contents",
   "title_sidebar": "Contents",
   "toc_cell": false,
   "toc_position": {},
   "toc_section_display": true,
   "toc_window_display": false
  },
  "varInspector": {
   "cols": {
    "lenName": 16,
    "lenType": 16,
    "lenVar": 40
   },
   "kernels_config": {
    "python": {
     "delete_cmd_postfix": "",
     "delete_cmd_prefix": "del ",
     "library": "var_list.py",
     "varRefreshCmd": "print(var_dic_list())"
    },
    "r": {
     "delete_cmd_postfix": ") ",
     "delete_cmd_prefix": "rm(",
     "library": "var_list.r",
     "varRefreshCmd": "cat(var_dic_list()) "
    }
   },
   "position": {
    "height": "335.844px",
    "left": "1562px",
    "right": "20px",
    "top": "112px",
    "width": "350px"
   },
   "types_to_exclude": [
    "module",
    "function",
    "builtin_function_or_method",
    "instance",
    "_Feature"
   ],
   "window_display": true
  },
  "vscode": {
   "interpreter": {
    "hash": "38d617750889899e5f2f65cac6f27a322f361a63d334879a800ee5491961f90c"
   }
  }
 },
 "nbformat": 4,
 "nbformat_minor": 5
}
