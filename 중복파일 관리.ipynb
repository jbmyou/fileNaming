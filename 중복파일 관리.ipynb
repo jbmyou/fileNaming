{
 "cells": [
  {
   "cell_type": "code",
   "execution_count": null,
   "id": "eb304c12",
   "metadata": {},
   "outputs": [],
   "source": [
    "# md5 : 속도보다 보안 but 보안도 이제는 떨어짐\n",
    "import hashlib\n",
    "def md5(file1):\n",
    "    md5h = hashlib.md5()\n",
    "    with open(file1, \"rb\") as f:\n",
    "        for chunk in iter(lambda: f.read(4096), b\"\"):\n",
    "            md5h.update(chunk)\n",
    "    return md5h.hexdigest()"
   ]
  },
  {
   "cell_type": "code",
   "execution_count": 1,
   "id": "897625ba",
   "metadata": {
    "ExecuteTime": {
     "end_time": "2022-07-07T04:30:12.183047Z",
     "start_time": "2022-07-07T04:30:12.016303Z"
    }
   },
   "outputs": [],
   "source": [
    "import os\n",
    "from tqdm.notebook import tqdm\n",
    "import pandas as pd\n",
    "import file_function as ff\n",
    "import re\n",
    "import binascii"
   ]
  },
  {
   "cell_type": "code",
   "execution_count": 2,
   "id": "c24da72f",
   "metadata": {},
   "outputs": [],
   "source": [
    "def crc32_checksum(filename):\n",
    "    buf = open(filename,'rb').read()\n",
    "    buf = (binascii.crc32(buf) & 0xFFFFFFFF)\n",
    "    return \"%08X\" % buf"
   ]
  },
  {
   "cell_type": "code",
   "execution_count": 3,
   "id": "8c1f9aba",
   "metadata": {},
   "outputs": [],
   "source": [
    "def file_info(path):\n",
    "\n",
    "    dict_sc = {}  # 중복파일명 숫자를 카운트 할 딕셔너리\n",
    "    dict_sm = {}\n",
    "    dict_scm = {}\n",
    "\n",
    "    cols = ['size', 'crc32', 'mtime',  'sell', 'root', 'stem', 'ext', 'length']\n",
    "    df = pd.DataFrame(columns=cols)\n",
    "    \n",
    "    df_matching = pd.read_excel(\n",
    "        r'D:\\workspace\\python_work\\파일\\매각사 이름매칭.xlsx')\n",
    "\n",
    "    for root, __dirs__, files in tqdm(os.walk(path)):\n",
    "        \n",
    "        for f in files:\n",
    "            fullname = os.path.join(root, f)\n",
    "            #key\n",
    "            size = str(os.path.getsize(fullname))\n",
    "            #value\n",
    "            mtime = str(os.path.getmtime(fullname))\n",
    "            crc32 = str(crc32_checksum(fullname))\n",
    "            sell = \"\"\n",
    "            for __index__, row in df_matching.iterrows():\n",
    "                if re.search(str(row[0]), str(root)):  \n",
    "                    sell = row[1]\n",
    "                    break            \n",
    "            stem = os.path.splitext(f)[0]\n",
    "            ext = os.path.splitext(f)[1]\n",
    "            length = len(stem)\n",
    "            \n",
    "            temp1 = {\"size\":str(size)}\n",
    "            temp2 = {\"crc32\": str(crc32), \"mtime\":str(mtime), \"sell\":sell, \"root\":root, \"stem\":stem, \"ext\":ext, \"length\":length}\n",
    "            \n",
    "            # 고유한 size, crc를 키로 하는 딕셔너리 만들기 -> mtime 다른 경우 있는지 체크\n",
    "            sc = size + crc32\n",
    "            if sc not in dict_sc:\n",
    "                dict_sc[sc] = [temp2]\n",
    "            else:\n",
    "                dict_sc[sc].append(temp2)\n",
    "            \n",
    "            sm = size + mtime\n",
    "            if sm not in dict_sm:\n",
    "                dict_sc[sm] = [temp2]\n",
    "            else:\n",
    "                dict_sc[sm].append(temp2)\n",
    "\n",
    "            scm = size + crc32 + mtime\n",
    "            if scm not in dict_scm:\n",
    "                dict_sc[scm] = [temp2]\n",
    "            else:\n",
    "                dict_sc[scm].append(temp2)\n",
    "\n",
    "            # size도 하나의 col로 df 만들기\n",
    "            temp1.update(temp2)\n",
    "            temp_df = pd.DataFrame([temp1])\n",
    "            \n",
    "            df = pd.concat([df, temp_df], ignore_index=True)\n",
    "    \n",
    "    df.to_excel(r\"C:\\Users\\SL\\Desktop\\파일정보.xlsx\")\n",
    "            \n",
    "    return dict_sc, dict_sm, dict_scm"
   ]
  },
  {
   "cell_type": "code",
   "execution_count": 4,
   "id": "4194e496",
   "metadata": {},
   "outputs": [
    {
     "data": {
      "application/vnd.jupyter.widget-view+json": {
       "model_id": "1ade27f533cb4449aef7eafdfcbecac7",
       "version_major": 2,
       "version_minor": 0
      },
      "text/plain": [
       "0it [00:00, ?it/s]"
      ]
     },
     "metadata": {},
     "output_type": "display_data"
    }
   ],
   "source": [
    "path = r'\\\\192.168.0.75\\sollim광주\\광주 공유폴더\\(1.DNP_헬프)\\3.채권양도통지서'\n",
    "dict_sc, dict_sm, dict_scm = file_info(path)"
   ]
  },
  {
   "cell_type": "code",
   "execution_count": 11,
   "id": "47452f98",
   "metadata": {},
   "outputs": [
    {
     "data": {
      "text/plain": [
       "54134"
      ]
     },
     "execution_count": 11,
     "metadata": {},
     "output_type": "execute_result"
    }
   ],
   "source": [
    "len(dict_sc.keys())"
   ]
  },
  {
   "cell_type": "code",
   "execution_count": 8,
   "id": "8cf26345",
   "metadata": {},
   "outputs": [
    {
     "ename": "NameError",
     "evalue": "name 'temp_df' is not defined",
     "output_type": "error",
     "traceback": [
      "\u001b[1;31m---------------------------------------------------------------------------\u001b[0m",
      "\u001b[1;31mNameError\u001b[0m                                 Traceback (most recent call last)",
      "\u001b[1;32md:\\workspace\\python_work\\중복파일 관리.ipynb 셀 6\u001b[0m in \u001b[0;36m<cell line: 1>\u001b[1;34m()\u001b[0m\n\u001b[1;32m----> <a href='vscode-notebook-cell:/d%3A/workspace/python_work/%EC%A4%91%EB%B3%B5%ED%8C%8C%EC%9D%BC%20%EA%B4%80%EB%A6%AC.ipynb#X43sZmlsZQ%3D%3D?line=0'>1</a>\u001b[0m temp_df\n",
      "\u001b[1;31mNameError\u001b[0m: name 'temp_df' is not defined"
     ]
    }
   ],
   "source": [
    "temp_df"
   ]
  },
  {
   "cell_type": "code",
   "execution_count": 12,
   "id": "15aeef2d",
   "metadata": {},
   "outputs": [
    {
     "data": {
      "text/html": [
       "<div>\n",
       "<style scoped>\n",
       "    .dataframe tbody tr th:only-of-type {\n",
       "        vertical-align: middle;\n",
       "    }\n",
       "\n",
       "    .dataframe tbody tr th {\n",
       "        vertical-align: top;\n",
       "    }\n",
       "\n",
       "    .dataframe thead th {\n",
       "        text-align: right;\n",
       "    }\n",
       "</style>\n",
       "<table border=\"1\" class=\"dataframe\">\n",
       "  <thead>\n",
       "    <tr style=\"text-align: right;\">\n",
       "      <th></th>\n",
       "      <th>Unnamed: 0</th>\n",
       "      <th>size</th>\n",
       "      <th>crc32</th>\n",
       "      <th>mtime</th>\n",
       "      <th>sell</th>\n",
       "      <th>root</th>\n",
       "      <th>stem</th>\n",
       "      <th>ext</th>\n",
       "      <th>length</th>\n",
       "    </tr>\n",
       "  </thead>\n",
       "  <tbody>\n",
       "    <tr>\n",
       "      <th>0</th>\n",
       "      <td>0</td>\n",
       "      <td>512412</td>\n",
       "      <td>D080D821</td>\n",
       "      <td>1.624237e+09</td>\n",
       "      <td>디엔피에이엠씨대부㈜</td>\n",
       "      <td>\\\\192.168.0.75\\sollim광주\\광주 공유폴더\\(1.DNP_헬프)\\3.채...</td>\n",
       "      <td>(주)로뎀 615-81 디엔피양통</td>\n",
       "      <td>.pdf</td>\n",
       "      <td>18</td>\n",
       "    </tr>\n",
       "    <tr>\n",
       "      <th>1</th>\n",
       "      <td>1</td>\n",
       "      <td>524647</td>\n",
       "      <td>0081BF65</td>\n",
       "      <td>1.624237e+09</td>\n",
       "      <td>디엔피에이엠씨대부㈜</td>\n",
       "      <td>\\\\192.168.0.75\\sollim광주\\광주 공유폴더\\(1.DNP_헬프)\\3.채...</td>\n",
       "      <td>(주)로뎀의 보증인 장금현 520920 디엔피양통</td>\n",
       "      <td>.pdf</td>\n",
       "      <td>27</td>\n",
       "    </tr>\n",
       "    <tr>\n",
       "      <th>2</th>\n",
       "      <td>2</td>\n",
       "      <td>495997</td>\n",
       "      <td>3A7BCF24</td>\n",
       "      <td>1.624237e+09</td>\n",
       "      <td>디엔피에이엠씨대부㈜</td>\n",
       "      <td>\\\\192.168.0.75\\sollim광주\\광주 공유폴더\\(1.DNP_헬프)\\3.채...</td>\n",
       "      <td>(주)마라솔정보 605-81 양통</td>\n",
       "      <td>.pdf</td>\n",
       "      <td>18</td>\n",
       "    </tr>\n",
       "    <tr>\n",
       "      <th>3</th>\n",
       "      <td>3</td>\n",
       "      <td>496701</td>\n",
       "      <td>13A0FB4F</td>\n",
       "      <td>1.624237e+09</td>\n",
       "      <td>디엔피에이엠씨대부㈜</td>\n",
       "      <td>\\\\192.168.0.75\\sollim광주\\광주 공유폴더\\(1.DNP_헬프)\\3.채...</td>\n",
       "      <td>(주)마라솔정보의 보증인 윤명식 631108 디엔피양통</td>\n",
       "      <td>.pdf</td>\n",
       "      <td>30</td>\n",
       "    </tr>\n",
       "    <tr>\n",
       "      <th>4</th>\n",
       "      <td>4</td>\n",
       "      <td>498615</td>\n",
       "      <td>21C81D99</td>\n",
       "      <td>1.624237e+09</td>\n",
       "      <td>디엔피에이엠씨대부㈜</td>\n",
       "      <td>\\\\192.168.0.75\\sollim광주\\광주 공유폴더\\(1.DNP_헬프)\\3.채...</td>\n",
       "      <td>(주)마라솔정보의 보증인 한상봉 670617 디엔피양통</td>\n",
       "      <td>.pdf</td>\n",
       "      <td>30</td>\n",
       "    </tr>\n",
       "  </tbody>\n",
       "</table>\n",
       "</div>"
      ],
      "text/plain": [
       "   Unnamed: 0    size     crc32         mtime        sell  \\\n",
       "0           0  512412  D080D821  1.624237e+09  디엔피에이엠씨대부㈜   \n",
       "1           1  524647  0081BF65  1.624237e+09  디엔피에이엠씨대부㈜   \n",
       "2           2  495997  3A7BCF24  1.624237e+09  디엔피에이엠씨대부㈜   \n",
       "3           3  496701  13A0FB4F  1.624237e+09  디엔피에이엠씨대부㈜   \n",
       "4           4  498615  21C81D99  1.624237e+09  디엔피에이엠씨대부㈜   \n",
       "\n",
       "                                                root  \\\n",
       "0  \\\\192.168.0.75\\sollim광주\\광주 공유폴더\\(1.DNP_헬프)\\3.채...   \n",
       "1  \\\\192.168.0.75\\sollim광주\\광주 공유폴더\\(1.DNP_헬프)\\3.채...   \n",
       "2  \\\\192.168.0.75\\sollim광주\\광주 공유폴더\\(1.DNP_헬프)\\3.채...   \n",
       "3  \\\\192.168.0.75\\sollim광주\\광주 공유폴더\\(1.DNP_헬프)\\3.채...   \n",
       "4  \\\\192.168.0.75\\sollim광주\\광주 공유폴더\\(1.DNP_헬프)\\3.채...   \n",
       "\n",
       "                             stem   ext  length  \n",
       "0              (주)로뎀 615-81 디엔피양통  .pdf      18  \n",
       "1     (주)로뎀의 보증인 장금현 520920 디엔피양통  .pdf      27  \n",
       "2              (주)마라솔정보 605-81 양통  .pdf      18  \n",
       "3  (주)마라솔정보의 보증인 윤명식 631108 디엔피양통  .pdf      30  \n",
       "4  (주)마라솔정보의 보증인 한상봉 670617 디엔피양통  .pdf      30  "
      ]
     },
     "execution_count": 12,
     "metadata": {},
     "output_type": "execute_result"
    }
   ],
   "source": [
    "df = pd.read_excel(r'C:\\Users\\SL\\Desktop\\파일정보.xlsx')\n",
    "len(df)"
   ]
  },
  {
   "cell_type": "code",
   "execution_count": 20,
   "id": "96184072",
   "metadata": {},
   "outputs": [
    {
     "data": {
      "text/plain": [
       "23321"
      ]
     },
     "execution_count": 20,
     "metadata": {},
     "output_type": "execute_result"
    }
   ],
   "source": [
    "len(df)"
   ]
  },
  {
   "cell_type": "code",
   "execution_count": 24,
   "id": "74960971",
   "metadata": {},
   "outputs": [
    {
     "data": {
      "text/plain": [
       "True     20577\n",
       "False     2744\n",
       "Name: s, dtype: int64"
      ]
     },
     "execution_count": 24,
     "metadata": {},
     "output_type": "execute_result"
    }
   ],
   "source": [
    "s = df.duplicated(['size'], keep=False)\n",
    "s.name = \"s\"\n",
    "s.value_counts()\n",
    "# 사이즈가 같은 건 엄청나게 많다. 충분조건에 불과하다"
   ]
  },
  {
   "cell_type": "code",
   "execution_count": 21,
   "id": "7ba69458",
   "metadata": {},
   "outputs": [
    {
     "data": {
      "text/plain": [
       "False    12812\n",
       "True     10509\n",
       "Name: sc, dtype: int64"
      ]
     },
     "execution_count": 21,
     "metadata": {},
     "output_type": "execute_result"
    }
   ],
   "source": [
    "sc = df.duplicated(['size', 'crc32'], keep=False)\n",
    "sc.name = \"sc\"\n",
    "sc.value_counts()\n",
    "# 더블킬러보다 한세트 더 많은데, 그게 맞았다.\n",
    "# 수정일이 다르지만 같은 파일인 경우는 약 0.22% \n",
    "# sc로 가면 되겠다."
   ]
  },
  {
   "cell_type": "code",
   "execution_count": 22,
   "id": "ef02f27b",
   "metadata": {},
   "outputs": [
    {
     "data": {
      "text/plain": [
       "False    12834\n",
       "True     10487\n",
       "Name: sm, dtype: int64"
      ]
     },
     "execution_count": 22,
     "metadata": {},
     "output_type": "execute_result"
    }
   ],
   "source": [
    "sm = df.duplicated(['size', 'mtime'], keep=False)\n",
    "sm.name = \"sm\"\n",
    "sm.value_counts()"
   ]
  },
  {
   "cell_type": "code",
   "execution_count": 23,
   "id": "b284e213",
   "metadata": {},
   "outputs": [
    {
     "data": {
      "text/plain": [
       "False    12834\n",
       "True     10487\n",
       "Name: scm, dtype: int64"
      ]
     },
     "execution_count": 23,
     "metadata": {},
     "output_type": "execute_result"
    }
   ],
   "source": [
    "scm = df.duplicated(['size', 'crc32', 'mtime'], keep=False)\n",
    "scm.name = \"scm\"\n",
    "scm.value_counts()"
   ]
  },
  {
   "cell_type": "code",
   "execution_count": 25,
   "id": "6287a558",
   "metadata": {},
   "outputs": [
    {
     "data": {
      "text/html": [
       "<div>\n",
       "<style scoped>\n",
       "    .dataframe tbody tr th:only-of-type {\n",
       "        vertical-align: middle;\n",
       "    }\n",
       "\n",
       "    .dataframe tbody tr th {\n",
       "        vertical-align: top;\n",
       "    }\n",
       "\n",
       "    .dataframe thead th {\n",
       "        text-align: right;\n",
       "    }\n",
       "</style>\n",
       "<table border=\"1\" class=\"dataframe\">\n",
       "  <thead>\n",
       "    <tr style=\"text-align: right;\">\n",
       "      <th></th>\n",
       "      <th>Unnamed: 0</th>\n",
       "      <th>size</th>\n",
       "      <th>crc32</th>\n",
       "      <th>mtime</th>\n",
       "      <th>sell</th>\n",
       "      <th>root</th>\n",
       "      <th>stem</th>\n",
       "      <th>ext</th>\n",
       "      <th>length</th>\n",
       "      <th>sc</th>\n",
       "      <th>sm</th>\n",
       "      <th>scm</th>\n",
       "    </tr>\n",
       "  </thead>\n",
       "  <tbody>\n",
       "    <tr>\n",
       "      <th>0</th>\n",
       "      <td>0</td>\n",
       "      <td>512412</td>\n",
       "      <td>D080D821</td>\n",
       "      <td>1.624237e+09</td>\n",
       "      <td>디엔피에이엠씨대부㈜</td>\n",
       "      <td>\\\\192.168.0.75\\sollim광주\\광주 공유폴더\\(1.DNP_헬프)\\3.채...</td>\n",
       "      <td>(주)로뎀 615-81 디엔피양통</td>\n",
       "      <td>.pdf</td>\n",
       "      <td>18</td>\n",
       "      <td>True</td>\n",
       "      <td>True</td>\n",
       "      <td>True</td>\n",
       "    </tr>\n",
       "    <tr>\n",
       "      <th>1</th>\n",
       "      <td>1</td>\n",
       "      <td>524647</td>\n",
       "      <td>0081BF65</td>\n",
       "      <td>1.624237e+09</td>\n",
       "      <td>디엔피에이엠씨대부㈜</td>\n",
       "      <td>\\\\192.168.0.75\\sollim광주\\광주 공유폴더\\(1.DNP_헬프)\\3.채...</td>\n",
       "      <td>(주)로뎀의 보증인 장금현 520920 디엔피양통</td>\n",
       "      <td>.pdf</td>\n",
       "      <td>27</td>\n",
       "      <td>True</td>\n",
       "      <td>True</td>\n",
       "      <td>True</td>\n",
       "    </tr>\n",
       "    <tr>\n",
       "      <th>2</th>\n",
       "      <td>2</td>\n",
       "      <td>495997</td>\n",
       "      <td>3A7BCF24</td>\n",
       "      <td>1.624237e+09</td>\n",
       "      <td>디엔피에이엠씨대부㈜</td>\n",
       "      <td>\\\\192.168.0.75\\sollim광주\\광주 공유폴더\\(1.DNP_헬프)\\3.채...</td>\n",
       "      <td>(주)마라솔정보 605-81 양통</td>\n",
       "      <td>.pdf</td>\n",
       "      <td>18</td>\n",
       "      <td>True</td>\n",
       "      <td>True</td>\n",
       "      <td>True</td>\n",
       "    </tr>\n",
       "    <tr>\n",
       "      <th>3</th>\n",
       "      <td>3</td>\n",
       "      <td>496701</td>\n",
       "      <td>13A0FB4F</td>\n",
       "      <td>1.624237e+09</td>\n",
       "      <td>디엔피에이엠씨대부㈜</td>\n",
       "      <td>\\\\192.168.0.75\\sollim광주\\광주 공유폴더\\(1.DNP_헬프)\\3.채...</td>\n",
       "      <td>(주)마라솔정보의 보증인 윤명식 631108 디엔피양통</td>\n",
       "      <td>.pdf</td>\n",
       "      <td>30</td>\n",
       "      <td>True</td>\n",
       "      <td>True</td>\n",
       "      <td>True</td>\n",
       "    </tr>\n",
       "    <tr>\n",
       "      <th>4</th>\n",
       "      <td>4</td>\n",
       "      <td>498615</td>\n",
       "      <td>21C81D99</td>\n",
       "      <td>1.624237e+09</td>\n",
       "      <td>디엔피에이엠씨대부㈜</td>\n",
       "      <td>\\\\192.168.0.75\\sollim광주\\광주 공유폴더\\(1.DNP_헬프)\\3.채...</td>\n",
       "      <td>(주)마라솔정보의 보증인 한상봉 670617 디엔피양통</td>\n",
       "      <td>.pdf</td>\n",
       "      <td>30</td>\n",
       "      <td>True</td>\n",
       "      <td>True</td>\n",
       "      <td>True</td>\n",
       "    </tr>\n",
       "  </tbody>\n",
       "</table>\n",
       "</div>"
      ],
      "text/plain": [
       "   Unnamed: 0    size     crc32         mtime        sell  \\\n",
       "0           0  512412  D080D821  1.624237e+09  디엔피에이엠씨대부㈜   \n",
       "1           1  524647  0081BF65  1.624237e+09  디엔피에이엠씨대부㈜   \n",
       "2           2  495997  3A7BCF24  1.624237e+09  디엔피에이엠씨대부㈜   \n",
       "3           3  496701  13A0FB4F  1.624237e+09  디엔피에이엠씨대부㈜   \n",
       "4           4  498615  21C81D99  1.624237e+09  디엔피에이엠씨대부㈜   \n",
       "\n",
       "                                                root  \\\n",
       "0  \\\\192.168.0.75\\sollim광주\\광주 공유폴더\\(1.DNP_헬프)\\3.채...   \n",
       "1  \\\\192.168.0.75\\sollim광주\\광주 공유폴더\\(1.DNP_헬프)\\3.채...   \n",
       "2  \\\\192.168.0.75\\sollim광주\\광주 공유폴더\\(1.DNP_헬프)\\3.채...   \n",
       "3  \\\\192.168.0.75\\sollim광주\\광주 공유폴더\\(1.DNP_헬프)\\3.채...   \n",
       "4  \\\\192.168.0.75\\sollim광주\\광주 공유폴더\\(1.DNP_헬프)\\3.채...   \n",
       "\n",
       "                             stem   ext  length    sc    sm   scm  \n",
       "0              (주)로뎀 615-81 디엔피양통  .pdf      18  True  True  True  \n",
       "1     (주)로뎀의 보증인 장금현 520920 디엔피양통  .pdf      27  True  True  True  \n",
       "2              (주)마라솔정보 605-81 양통  .pdf      18  True  True  True  \n",
       "3  (주)마라솔정보의 보증인 윤명식 631108 디엔피양통  .pdf      30  True  True  True  \n",
       "4  (주)마라솔정보의 보증인 한상봉 670617 디엔피양통  .pdf      30  True  True  True  "
      ]
     },
     "execution_count": 25,
     "metadata": {},
     "output_type": "execute_result"
    }
   ],
   "source": [
    "df2 = pd.concat([df,sc, sm, scm], axis=1)\n",
    "df2.head()"
   ]
  },
  {
   "cell_type": "code",
   "execution_count": 26,
   "id": "0ce40119",
   "metadata": {},
   "outputs": [
    {
     "data": {
      "text/html": [
       "<div>\n",
       "<style scoped>\n",
       "    .dataframe tbody tr th:only-of-type {\n",
       "        vertical-align: middle;\n",
       "    }\n",
       "\n",
       "    .dataframe tbody tr th {\n",
       "        vertical-align: top;\n",
       "    }\n",
       "\n",
       "    .dataframe thead th {\n",
       "        text-align: right;\n",
       "    }\n",
       "</style>\n",
       "<table border=\"1\" class=\"dataframe\">\n",
       "  <thead>\n",
       "    <tr style=\"text-align: right;\">\n",
       "      <th></th>\n",
       "      <th>size</th>\n",
       "      <th>crc32</th>\n",
       "      <th>mtime</th>\n",
       "      <th>sell</th>\n",
       "      <th>root</th>\n",
       "      <th>stem</th>\n",
       "      <th>ext</th>\n",
       "      <th>length</th>\n",
       "      <th>sc</th>\n",
       "      <th>sm</th>\n",
       "      <th>scm</th>\n",
       "    </tr>\n",
       "  </thead>\n",
       "  <tbody>\n",
       "    <tr>\n",
       "      <th>0</th>\n",
       "      <td>512412</td>\n",
       "      <td>D080D821</td>\n",
       "      <td>1.624237e+09</td>\n",
       "      <td>디엔피에이엠씨대부㈜</td>\n",
       "      <td>\\\\192.168.0.75\\sollim광주\\광주 공유폴더\\(1.DNP_헬프)\\3.채...</td>\n",
       "      <td>(주)로뎀 615-81 디엔피양통</td>\n",
       "      <td>.pdf</td>\n",
       "      <td>18</td>\n",
       "      <td>True</td>\n",
       "      <td>True</td>\n",
       "      <td>True</td>\n",
       "    </tr>\n",
       "    <tr>\n",
       "      <th>1</th>\n",
       "      <td>524647</td>\n",
       "      <td>0081BF65</td>\n",
       "      <td>1.624237e+09</td>\n",
       "      <td>디엔피에이엠씨대부㈜</td>\n",
       "      <td>\\\\192.168.0.75\\sollim광주\\광주 공유폴더\\(1.DNP_헬프)\\3.채...</td>\n",
       "      <td>(주)로뎀의 보증인 장금현 520920 디엔피양통</td>\n",
       "      <td>.pdf</td>\n",
       "      <td>27</td>\n",
       "      <td>True</td>\n",
       "      <td>True</td>\n",
       "      <td>True</td>\n",
       "    </tr>\n",
       "    <tr>\n",
       "      <th>2</th>\n",
       "      <td>495997</td>\n",
       "      <td>3A7BCF24</td>\n",
       "      <td>1.624237e+09</td>\n",
       "      <td>디엔피에이엠씨대부㈜</td>\n",
       "      <td>\\\\192.168.0.75\\sollim광주\\광주 공유폴더\\(1.DNP_헬프)\\3.채...</td>\n",
       "      <td>(주)마라솔정보 605-81 양통</td>\n",
       "      <td>.pdf</td>\n",
       "      <td>18</td>\n",
       "      <td>True</td>\n",
       "      <td>True</td>\n",
       "      <td>True</td>\n",
       "    </tr>\n",
       "    <tr>\n",
       "      <th>3</th>\n",
       "      <td>496701</td>\n",
       "      <td>13A0FB4F</td>\n",
       "      <td>1.624237e+09</td>\n",
       "      <td>디엔피에이엠씨대부㈜</td>\n",
       "      <td>\\\\192.168.0.75\\sollim광주\\광주 공유폴더\\(1.DNP_헬프)\\3.채...</td>\n",
       "      <td>(주)마라솔정보의 보증인 윤명식 631108 디엔피양통</td>\n",
       "      <td>.pdf</td>\n",
       "      <td>30</td>\n",
       "      <td>True</td>\n",
       "      <td>True</td>\n",
       "      <td>True</td>\n",
       "    </tr>\n",
       "    <tr>\n",
       "      <th>4</th>\n",
       "      <td>498615</td>\n",
       "      <td>21C81D99</td>\n",
       "      <td>1.624237e+09</td>\n",
       "      <td>디엔피에이엠씨대부㈜</td>\n",
       "      <td>\\\\192.168.0.75\\sollim광주\\광주 공유폴더\\(1.DNP_헬프)\\3.채...</td>\n",
       "      <td>(주)마라솔정보의 보증인 한상봉 670617 디엔피양통</td>\n",
       "      <td>.pdf</td>\n",
       "      <td>30</td>\n",
       "      <td>True</td>\n",
       "      <td>True</td>\n",
       "      <td>True</td>\n",
       "    </tr>\n",
       "  </tbody>\n",
       "</table>\n",
       "</div>"
      ],
      "text/plain": [
       "     size     crc32         mtime        sell  \\\n",
       "0  512412  D080D821  1.624237e+09  디엔피에이엠씨대부㈜   \n",
       "1  524647  0081BF65  1.624237e+09  디엔피에이엠씨대부㈜   \n",
       "2  495997  3A7BCF24  1.624237e+09  디엔피에이엠씨대부㈜   \n",
       "3  496701  13A0FB4F  1.624237e+09  디엔피에이엠씨대부㈜   \n",
       "4  498615  21C81D99  1.624237e+09  디엔피에이엠씨대부㈜   \n",
       "\n",
       "                                                root  \\\n",
       "0  \\\\192.168.0.75\\sollim광주\\광주 공유폴더\\(1.DNP_헬프)\\3.채...   \n",
       "1  \\\\192.168.0.75\\sollim광주\\광주 공유폴더\\(1.DNP_헬프)\\3.채...   \n",
       "2  \\\\192.168.0.75\\sollim광주\\광주 공유폴더\\(1.DNP_헬프)\\3.채...   \n",
       "3  \\\\192.168.0.75\\sollim광주\\광주 공유폴더\\(1.DNP_헬프)\\3.채...   \n",
       "4  \\\\192.168.0.75\\sollim광주\\광주 공유폴더\\(1.DNP_헬프)\\3.채...   \n",
       "\n",
       "                             stem   ext  length    sc    sm   scm  \n",
       "0              (주)로뎀 615-81 디엔피양통  .pdf      18  True  True  True  \n",
       "1     (주)로뎀의 보증인 장금현 520920 디엔피양통  .pdf      27  True  True  True  \n",
       "2              (주)마라솔정보 605-81 양통  .pdf      18  True  True  True  \n",
       "3  (주)마라솔정보의 보증인 윤명식 631108 디엔피양통  .pdf      30  True  True  True  \n",
       "4  (주)마라솔정보의 보증인 한상봉 670617 디엔피양통  .pdf      30  True  True  True  "
      ]
     },
     "execution_count": 26,
     "metadata": {},
     "output_type": "execute_result"
    }
   ],
   "source": [
    "df2.drop(['Unnamed: 0'], axis=1, inplace=True)\n",
    "df2.head()"
   ]
  },
  {
   "cell_type": "code",
   "execution_count": 27,
   "id": "08b238cf",
   "metadata": {},
   "outputs": [
    {
     "data": {
      "text/html": [
       "<div>\n",
       "<style scoped>\n",
       "    .dataframe tbody tr th:only-of-type {\n",
       "        vertical-align: middle;\n",
       "    }\n",
       "\n",
       "    .dataframe tbody tr th {\n",
       "        vertical-align: top;\n",
       "    }\n",
       "\n",
       "    .dataframe thead th {\n",
       "        text-align: right;\n",
       "    }\n",
       "</style>\n",
       "<table border=\"1\" class=\"dataframe\">\n",
       "  <thead>\n",
       "    <tr style=\"text-align: right;\">\n",
       "      <th></th>\n",
       "      <th>size</th>\n",
       "      <th>crc32</th>\n",
       "      <th>mtime</th>\n",
       "      <th>sell</th>\n",
       "      <th>root</th>\n",
       "      <th>stem</th>\n",
       "      <th>ext</th>\n",
       "      <th>length</th>\n",
       "      <th>sc</th>\n",
       "      <th>sm</th>\n",
       "      <th>scm</th>\n",
       "    </tr>\n",
       "  </thead>\n",
       "  <tbody>\n",
       "    <tr>\n",
       "      <th>0</th>\n",
       "      <td>512412</td>\n",
       "      <td>D080D821</td>\n",
       "      <td>1.624237e+09</td>\n",
       "      <td>디엔피에이엠씨대부㈜</td>\n",
       "      <td>\\\\192.168.0.75\\sollim광주\\광주 공유폴더\\(1.DNP_헬프)\\3.채...</td>\n",
       "      <td>(주)로뎀 615-81 디엔피양통</td>\n",
       "      <td>.pdf</td>\n",
       "      <td>18</td>\n",
       "      <td>True</td>\n",
       "      <td>True</td>\n",
       "      <td>True</td>\n",
       "    </tr>\n",
       "    <tr>\n",
       "      <th>1</th>\n",
       "      <td>524647</td>\n",
       "      <td>0081BF65</td>\n",
       "      <td>1.624237e+09</td>\n",
       "      <td>디엔피에이엠씨대부㈜</td>\n",
       "      <td>\\\\192.168.0.75\\sollim광주\\광주 공유폴더\\(1.DNP_헬프)\\3.채...</td>\n",
       "      <td>(주)로뎀의 보증인 장금현 520920 디엔피양통</td>\n",
       "      <td>.pdf</td>\n",
       "      <td>27</td>\n",
       "      <td>True</td>\n",
       "      <td>True</td>\n",
       "      <td>True</td>\n",
       "    </tr>\n",
       "    <tr>\n",
       "      <th>2</th>\n",
       "      <td>495997</td>\n",
       "      <td>3A7BCF24</td>\n",
       "      <td>1.624237e+09</td>\n",
       "      <td>디엔피에이엠씨대부㈜</td>\n",
       "      <td>\\\\192.168.0.75\\sollim광주\\광주 공유폴더\\(1.DNP_헬프)\\3.채...</td>\n",
       "      <td>(주)마라솔정보 605-81 양통</td>\n",
       "      <td>.pdf</td>\n",
       "      <td>18</td>\n",
       "      <td>True</td>\n",
       "      <td>True</td>\n",
       "      <td>True</td>\n",
       "    </tr>\n",
       "    <tr>\n",
       "      <th>3</th>\n",
       "      <td>496701</td>\n",
       "      <td>13A0FB4F</td>\n",
       "      <td>1.624237e+09</td>\n",
       "      <td>디엔피에이엠씨대부㈜</td>\n",
       "      <td>\\\\192.168.0.75\\sollim광주\\광주 공유폴더\\(1.DNP_헬프)\\3.채...</td>\n",
       "      <td>(주)마라솔정보의 보증인 윤명식 631108 디엔피양통</td>\n",
       "      <td>.pdf</td>\n",
       "      <td>30</td>\n",
       "      <td>True</td>\n",
       "      <td>True</td>\n",
       "      <td>True</td>\n",
       "    </tr>\n",
       "    <tr>\n",
       "      <th>4</th>\n",
       "      <td>498615</td>\n",
       "      <td>21C81D99</td>\n",
       "      <td>1.624237e+09</td>\n",
       "      <td>디엔피에이엠씨대부㈜</td>\n",
       "      <td>\\\\192.168.0.75\\sollim광주\\광주 공유폴더\\(1.DNP_헬프)\\3.채...</td>\n",
       "      <td>(주)마라솔정보의 보증인 한상봉 670617 디엔피양통</td>\n",
       "      <td>.pdf</td>\n",
       "      <td>30</td>\n",
       "      <td>True</td>\n",
       "      <td>True</td>\n",
       "      <td>True</td>\n",
       "    </tr>\n",
       "    <tr>\n",
       "      <th>...</th>\n",
       "      <td>...</td>\n",
       "      <td>...</td>\n",
       "      <td>...</td>\n",
       "      <td>...</td>\n",
       "      <td>...</td>\n",
       "      <td>...</td>\n",
       "      <td>...</td>\n",
       "      <td>...</td>\n",
       "      <td>...</td>\n",
       "      <td>...</td>\n",
       "      <td>...</td>\n",
       "    </tr>\n",
       "    <tr>\n",
       "      <th>23316</th>\n",
       "      <td>497065</td>\n",
       "      <td>D432F6A2</td>\n",
       "      <td>1.624237e+09</td>\n",
       "      <td>디엔피에이엠씨대부㈜</td>\n",
       "      <td>\\\\192.168.0.75\\sollim광주\\광주 공유폴더\\(1.DNP_헬프)\\3.채...</td>\n",
       "      <td>하바울(하경숙) 691013 디엔피양통</td>\n",
       "      <td>.pdf</td>\n",
       "      <td>21</td>\n",
       "      <td>True</td>\n",
       "      <td>True</td>\n",
       "      <td>True</td>\n",
       "    </tr>\n",
       "    <tr>\n",
       "      <th>23317</th>\n",
       "      <td>502165</td>\n",
       "      <td>A178C21B</td>\n",
       "      <td>1.624238e+09</td>\n",
       "      <td>디엔피에이엠씨대부㈜</td>\n",
       "      <td>\\\\192.168.0.75\\sollim광주\\광주 공유폴더\\(1.DNP_헬프)\\3.채...</td>\n",
       "      <td>한규수 370203 디엔피양통</td>\n",
       "      <td>.pdf</td>\n",
       "      <td>16</td>\n",
       "      <td>True</td>\n",
       "      <td>True</td>\n",
       "      <td>True</td>\n",
       "    </tr>\n",
       "    <tr>\n",
       "      <th>23318</th>\n",
       "      <td>494511</td>\n",
       "      <td>52E6834E</td>\n",
       "      <td>1.624237e+09</td>\n",
       "      <td>디엔피에이엠씨대부㈜</td>\n",
       "      <td>\\\\192.168.0.75\\sollim광주\\광주 공유폴더\\(1.DNP_헬프)\\3.채...</td>\n",
       "      <td>한덕주 640320 디엔피양통</td>\n",
       "      <td>.pdf</td>\n",
       "      <td>16</td>\n",
       "      <td>True</td>\n",
       "      <td>True</td>\n",
       "      <td>True</td>\n",
       "    </tr>\n",
       "    <tr>\n",
       "      <th>23319</th>\n",
       "      <td>512672</td>\n",
       "      <td>A85F0234</td>\n",
       "      <td>1.624235e+09</td>\n",
       "      <td>디엔피에이엠씨대부㈜</td>\n",
       "      <td>\\\\192.168.0.75\\sollim광주\\광주 공유폴더\\(1.DNP_헬프)\\3.채...</td>\n",
       "      <td>황용숙 570915 디엔피양통</td>\n",
       "      <td>.pdf</td>\n",
       "      <td>16</td>\n",
       "      <td>True</td>\n",
       "      <td>True</td>\n",
       "      <td>True</td>\n",
       "    </tr>\n",
       "    <tr>\n",
       "      <th>23320</th>\n",
       "      <td>499867</td>\n",
       "      <td>5CDC8A47</td>\n",
       "      <td>1.624235e+09</td>\n",
       "      <td>디엔피에이엠씨대부㈜</td>\n",
       "      <td>\\\\192.168.0.75\\sollim광주\\광주 공유폴더\\(1.DNP_헬프)\\3.채...</td>\n",
       "      <td>황인성 610520 디엔피양통</td>\n",
       "      <td>.pdf</td>\n",
       "      <td>16</td>\n",
       "      <td>True</td>\n",
       "      <td>True</td>\n",
       "      <td>True</td>\n",
       "    </tr>\n",
       "  </tbody>\n",
       "</table>\n",
       "<p>10509 rows × 11 columns</p>\n",
       "</div>"
      ],
      "text/plain": [
       "         size     crc32         mtime        sell  \\\n",
       "0      512412  D080D821  1.624237e+09  디엔피에이엠씨대부㈜   \n",
       "1      524647  0081BF65  1.624237e+09  디엔피에이엠씨대부㈜   \n",
       "2      495997  3A7BCF24  1.624237e+09  디엔피에이엠씨대부㈜   \n",
       "3      496701  13A0FB4F  1.624237e+09  디엔피에이엠씨대부㈜   \n",
       "4      498615  21C81D99  1.624237e+09  디엔피에이엠씨대부㈜   \n",
       "...       ...       ...           ...         ...   \n",
       "23316  497065  D432F6A2  1.624237e+09  디엔피에이엠씨대부㈜   \n",
       "23317  502165  A178C21B  1.624238e+09  디엔피에이엠씨대부㈜   \n",
       "23318  494511  52E6834E  1.624237e+09  디엔피에이엠씨대부㈜   \n",
       "23319  512672  A85F0234  1.624235e+09  디엔피에이엠씨대부㈜   \n",
       "23320  499867  5CDC8A47  1.624235e+09  디엔피에이엠씨대부㈜   \n",
       "\n",
       "                                                    root  \\\n",
       "0      \\\\192.168.0.75\\sollim광주\\광주 공유폴더\\(1.DNP_헬프)\\3.채...   \n",
       "1      \\\\192.168.0.75\\sollim광주\\광주 공유폴더\\(1.DNP_헬프)\\3.채...   \n",
       "2      \\\\192.168.0.75\\sollim광주\\광주 공유폴더\\(1.DNP_헬프)\\3.채...   \n",
       "3      \\\\192.168.0.75\\sollim광주\\광주 공유폴더\\(1.DNP_헬프)\\3.채...   \n",
       "4      \\\\192.168.0.75\\sollim광주\\광주 공유폴더\\(1.DNP_헬프)\\3.채...   \n",
       "...                                                  ...   \n",
       "23316  \\\\192.168.0.75\\sollim광주\\광주 공유폴더\\(1.DNP_헬프)\\3.채...   \n",
       "23317  \\\\192.168.0.75\\sollim광주\\광주 공유폴더\\(1.DNP_헬프)\\3.채...   \n",
       "23318  \\\\192.168.0.75\\sollim광주\\광주 공유폴더\\(1.DNP_헬프)\\3.채...   \n",
       "23319  \\\\192.168.0.75\\sollim광주\\광주 공유폴더\\(1.DNP_헬프)\\3.채...   \n",
       "23320  \\\\192.168.0.75\\sollim광주\\광주 공유폴더\\(1.DNP_헬프)\\3.채...   \n",
       "\n",
       "                                 stem   ext  length    sc    sm   scm  \n",
       "0                  (주)로뎀 615-81 디엔피양통  .pdf      18  True  True  True  \n",
       "1         (주)로뎀의 보증인 장금현 520920 디엔피양통  .pdf      27  True  True  True  \n",
       "2                  (주)마라솔정보 605-81 양통  .pdf      18  True  True  True  \n",
       "3      (주)마라솔정보의 보증인 윤명식 631108 디엔피양통  .pdf      30  True  True  True  \n",
       "4      (주)마라솔정보의 보증인 한상봉 670617 디엔피양통  .pdf      30  True  True  True  \n",
       "...                               ...   ...     ...   ...   ...   ...  \n",
       "23316           하바울(하경숙) 691013 디엔피양통  .pdf      21  True  True  True  \n",
       "23317                한규수 370203 디엔피양통  .pdf      16  True  True  True  \n",
       "23318                한덕주 640320 디엔피양통  .pdf      16  True  True  True  \n",
       "23319                황용숙 570915 디엔피양통  .pdf      16  True  True  True  \n",
       "23320                황인성 610520 디엔피양통  .pdf      16  True  True  True  \n",
       "\n",
       "[10509 rows x 11 columns]"
      ]
     },
     "execution_count": 27,
     "metadata": {},
     "output_type": "execute_result"
    }
   ],
   "source": [
    "#df_sc = df2[df2[\"sc\"]]\n",
    "#df_sc.to_excel(r\"C:\\Users\\SL\\Desktop\\파일정보_sc.xlsx\")"
   ]
  },
  {
   "cell_type": "code",
   "execution_count": 31,
   "id": "3810400f",
   "metadata": {},
   "outputs": [
    {
     "data": {
      "text/html": [
       "<div>\n",
       "<style scoped>\n",
       "    .dataframe tbody tr th:only-of-type {\n",
       "        vertical-align: middle;\n",
       "    }\n",
       "\n",
       "    .dataframe tbody tr th {\n",
       "        vertical-align: top;\n",
       "    }\n",
       "\n",
       "    .dataframe thead th {\n",
       "        text-align: right;\n",
       "    }\n",
       "</style>\n",
       "<table border=\"1\" class=\"dataframe\">\n",
       "  <thead>\n",
       "    <tr style=\"text-align: right;\">\n",
       "      <th></th>\n",
       "      <th>Unnamed: 0</th>\n",
       "      <th>size</th>\n",
       "      <th>crc32</th>\n",
       "      <th>mtime</th>\n",
       "      <th>sell</th>\n",
       "      <th>root</th>\n",
       "      <th>stem</th>\n",
       "      <th>ext</th>\n",
       "      <th>length</th>\n",
       "      <th>sc</th>\n",
       "      <th>full</th>\n",
       "    </tr>\n",
       "  </thead>\n",
       "  <tbody>\n",
       "    <tr>\n",
       "      <th>0</th>\n",
       "      <td>0</td>\n",
       "      <td>512412</td>\n",
       "      <td>D080D821</td>\n",
       "      <td>1.624237e+09</td>\n",
       "      <td>디엔피에이엠씨대부㈜</td>\n",
       "      <td>\\\\192.168.0.75\\sollim광주\\광주 공유폴더\\(1.DNP_헬프)\\3.채...</td>\n",
       "      <td>(주)로뎀 615-81 디엔피양통</td>\n",
       "      <td>.pdf</td>\n",
       "      <td>18</td>\n",
       "      <td>True</td>\n",
       "      <td>\\\\192.168.0.75\\sollim광주\\광주 공유폴더\\(1.DNP_헬프)\\3.채...</td>\n",
       "    </tr>\n",
       "    <tr>\n",
       "      <th>1</th>\n",
       "      <td>1</td>\n",
       "      <td>524647</td>\n",
       "      <td>0081BF65</td>\n",
       "      <td>1.624237e+09</td>\n",
       "      <td>디엔피에이엠씨대부㈜</td>\n",
       "      <td>\\\\192.168.0.75\\sollim광주\\광주 공유폴더\\(1.DNP_헬프)\\3.채...</td>\n",
       "      <td>(주)로뎀의 보증인 장금현 520920 디엔피양통</td>\n",
       "      <td>.pdf</td>\n",
       "      <td>27</td>\n",
       "      <td>True</td>\n",
       "      <td>\\\\192.168.0.75\\sollim광주\\광주 공유폴더\\(1.DNP_헬프)\\3.채...</td>\n",
       "    </tr>\n",
       "  </tbody>\n",
       "</table>\n",
       "</div>"
      ],
      "text/plain": [
       "   Unnamed: 0    size     crc32         mtime        sell  \\\n",
       "0           0  512412  D080D821  1.624237e+09  디엔피에이엠씨대부㈜   \n",
       "1           1  524647  0081BF65  1.624237e+09  디엔피에이엠씨대부㈜   \n",
       "\n",
       "                                                root  \\\n",
       "0  \\\\192.168.0.75\\sollim광주\\광주 공유폴더\\(1.DNP_헬프)\\3.채...   \n",
       "1  \\\\192.168.0.75\\sollim광주\\광주 공유폴더\\(1.DNP_헬프)\\3.채...   \n",
       "\n",
       "                          stem   ext  length    sc  \\\n",
       "0           (주)로뎀 615-81 디엔피양통  .pdf      18  True   \n",
       "1  (주)로뎀의 보증인 장금현 520920 디엔피양통  .pdf      27  True   \n",
       "\n",
       "                                                full  \n",
       "0  \\\\192.168.0.75\\sollim광주\\광주 공유폴더\\(1.DNP_헬프)\\3.채...  \n",
       "1  \\\\192.168.0.75\\sollim광주\\광주 공유폴더\\(1.DNP_헬프)\\3.채...  "
      ]
     },
     "execution_count": 31,
     "metadata": {},
     "output_type": "execute_result"
    }
   ],
   "source": [
    "df_sc=pd.read_excel(r\"C:\\Users\\SL\\Desktop\\파일정보_sc.xlsx\")\n",
    "df_sc.head(2)"
   ]
  },
  {
   "cell_type": "code",
   "execution_count": 33,
   "id": "17b4cc73",
   "metadata": {},
   "outputs": [
    {
     "data": {
      "text/html": [
       "<div>\n",
       "<style scoped>\n",
       "    .dataframe tbody tr th:only-of-type {\n",
       "        vertical-align: middle;\n",
       "    }\n",
       "\n",
       "    .dataframe tbody tr th {\n",
       "        vertical-align: top;\n",
       "    }\n",
       "\n",
       "    .dataframe thead th {\n",
       "        text-align: right;\n",
       "    }\n",
       "</style>\n",
       "<table border=\"1\" class=\"dataframe\">\n",
       "  <thead>\n",
       "    <tr style=\"text-align: right;\">\n",
       "      <th></th>\n",
       "      <th>index</th>\n",
       "      <th>selection</th>\n",
       "      <th>filename</th>\n",
       "      <th>root</th>\n",
       "      <th>size</th>\n",
       "      <th>msize</th>\n",
       "      <th>crc32</th>\n",
       "      <th>full</th>\n",
       "    </tr>\n",
       "  </thead>\n",
       "  <tbody>\n",
       "    <tr>\n",
       "      <th>0</th>\n",
       "      <td>431</td>\n",
       "      <td>0</td>\n",
       "      <td>20411246 라기문_양통 (1).pdf</td>\n",
       "      <td>\\\\192.168.0.75\\sollim광주\\광주 공유폴더\\(1.DNP_헬프)\\3.채...</td>\n",
       "      <td>39312</td>\n",
       "      <td>2021-01-25 오후 3:38:58</td>\n",
       "      <td>22B36CA0</td>\n",
       "      <td>\\\\192.168.0.75\\sollim광주\\광주 공유폴더\\(1.DNP_헬프)\\3.채...</td>\n",
       "    </tr>\n",
       "  </tbody>\n",
       "</table>\n",
       "</div>"
      ],
      "text/plain": [
       "   index  selection                 filename  \\\n",
       "0    431          0  20411246 라기문_양통 (1).pdf   \n",
       "\n",
       "                                                root   size  \\\n",
       "0  \\\\192.168.0.75\\sollim광주\\광주 공유폴더\\(1.DNP_헬프)\\3.채...  39312   \n",
       "\n",
       "                   msize     crc32  \\\n",
       "0  2021-01-25 오후 3:38:58  22B36CA0   \n",
       "\n",
       "                                                full  \n",
       "0  \\\\192.168.0.75\\sollim광주\\광주 공유폴더\\(1.DNP_헬프)\\3.채...  "
      ]
     },
     "execution_count": 33,
     "metadata": {},
     "output_type": "execute_result"
    }
   ],
   "source": [
    "df_dk = pd.read_excel(r\"C:\\Users\\SL\\Desktop\\파일정보_더블킬러.xlsx\")\n",
    "df_dk.head(1)"
   ]
  },
  {
   "cell_type": "code",
   "execution_count": 36,
   "id": "04f31e47",
   "metadata": {},
   "outputs": [
    {
     "name": "stdout",
     "output_type": "stream",
     "text": [
      "10509\n",
      "10507\n"
     ]
    }
   ],
   "source": [
    "set_sc = set(df_sc.full)\n",
    "set_dk = set(df_dk.full)\n",
    "print(len(set_sc))\n",
    "print(len(set_dk))\n"
   ]
  },
  {
   "cell_type": "code",
   "execution_count": 37,
   "id": "965c4d3f",
   "metadata": {},
   "outputs": [
    {
     "data": {
      "text/plain": [
       "{'\\\\\\\\192.168.0.75\\\\sollim광주\\\\광주 공유폴더\\\\(1.DNP_헬프)\\\\3.채권양도통지서\\\\20416181 김영보_양통.pdf',\n",
       " '\\\\\\\\192.168.0.75\\\\sollim광주\\\\광주 공유폴더\\\\(1.DNP_헬프)\\\\3.채권양도통지서\\\\디앤피양도통지서\\\\김영보.pdf'}"
      ]
     },
     "execution_count": 37,
     "metadata": {},
     "output_type": "execute_result"
    }
   ],
   "source": [
    "set_sc - set_dk"
   ]
  },
  {
   "cell_type": "code",
   "execution_count": null,
   "id": "bb566e0a",
   "metadata": {},
   "outputs": [],
   "source": [
    "only_dk = []\n",
    "only_py = []\n",
    "[only_dk.append(x) for x in list_dk if x not in list_py]\n",
    "[only_py.append(x) for x in list_py if x not in list_dk]"
   ]
  },
  {
   "cell_type": "code",
   "execution_count": 38,
   "id": "bb1f0926",
   "metadata": {},
   "outputs": [
    {
     "data": {
      "text/plain": [
       "set()"
      ]
     },
     "execution_count": 38,
     "metadata": {},
     "output_type": "execute_result"
    }
   ],
   "source": [
    "set_dk - set_sc"
   ]
  },
  {
   "cell_type": "code",
   "execution_count": null,
   "id": "c60db444",
   "metadata": {},
   "outputs": [],
   "source": []
  },
  {
   "cell_type": "code",
   "execution_count": null,
   "id": "51d96344",
   "metadata": {},
   "outputs": [],
   "source": []
  }
 ],
 "metadata": {
  "hide_input": false,
  "kernelspec": {
   "display_name": "Python 3.9.12 ('base')",
   "language": "python",
   "name": "python3"
  },
  "language_info": {
   "codemirror_mode": {
    "name": "ipython",
    "version": 3
   },
   "file_extension": ".py",
   "mimetype": "text/x-python",
   "name": "python",
   "nbconvert_exporter": "python",
   "pygments_lexer": "ipython3",
   "version": "3.9.12"
  },
  "toc": {
   "base_numbering": 1,
   "nav_menu": {},
   "number_sections": true,
   "sideBar": true,
   "skip_h1_title": false,
   "title_cell": "Table of Contents",
   "title_sidebar": "Contents",
   "toc_cell": false,
   "toc_position": {},
   "toc_section_display": true,
   "toc_window_display": false
  },
  "varInspector": {
   "cols": {
    "lenName": 16,
    "lenType": 16,
    "lenVar": 40
   },
   "kernels_config": {
    "python": {
     "delete_cmd_postfix": "",
     "delete_cmd_prefix": "del ",
     "library": "var_list.py",
     "varRefreshCmd": "print(var_dic_list())"
    },
    "r": {
     "delete_cmd_postfix": ") ",
     "delete_cmd_prefix": "rm(",
     "library": "var_list.r",
     "varRefreshCmd": "cat(var_dic_list()) "
    }
   },
   "position": {
    "height": "335.844px",
    "left": "1562px",
    "right": "20px",
    "top": "112px",
    "width": "350px"
   },
   "types_to_exclude": [
    "module",
    "function",
    "builtin_function_or_method",
    "instance",
    "_Feature"
   ],
   "window_display": true
  },
  "vscode": {
   "interpreter": {
    "hash": "38d617750889899e5f2f65cac6f27a322f361a63d334879a800ee5491961f90c"
   }
  }
 },
 "nbformat": 4,
 "nbformat_minor": 5
}
