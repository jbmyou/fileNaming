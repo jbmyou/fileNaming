{
 "cells": [
  {
   "cell_type": "code",
   "execution_count": 1,
   "id": "eb304c12",
   "metadata": {},
   "outputs": [],
   "source": [
    "# # md5 : 속도보다 보안 but 보안도 이제는 떨어진다지만\n",
    "# 테스트해보니 속도, 결과 crc32랑 차이없네?!\n",
    "# import hashlib\n",
    "# def md5(file1):\n",
    "#     md5h = hashlib.md5()\n",
    "#     with open(file1, \"rb\") as f:\n",
    "#         for chunk in iter(lambda: f.read(4096), b\"\"):\n",
    "#             md5h.update(chunk)\n",
    "#     return md5h.hexdigest()"
   ]
  },
  {
   "cell_type": "code",
   "execution_count": 1,
   "id": "897625ba",
   "metadata": {
    "ExecuteTime": {
     "end_time": "2022-07-07T04:30:12.183047Z",
     "start_time": "2022-07-07T04:30:12.016303Z"
    }
   },
   "outputs": [],
   "source": [
    "import os\n",
    "import pandas as pd\n",
    "import file_function as ff\n",
    "import re\n",
    "import binascii\n",
    "import pickle"
   ]
  },
  {
   "cell_type": "markdown",
   "id": "b8264710",
   "metadata": {},
   "source": [
    "### 중복파일 확인"
   ]
  },
  {
   "cell_type": "code",
   "execution_count": 2,
   "id": "c24da72f",
   "metadata": {},
   "outputs": [],
   "source": [
    "def crc32_checksum(filename):\n",
    "    buf = open(filename,'rb').read()\n",
    "    buf = (binascii.crc32(buf) & 0xFFFFFFFF)\n",
    "    return \"%08X\" % buf"
   ]
  },
  {
   "cell_type": "code",
   "execution_count": 53,
   "id": "8c1f9aba",
   "metadata": {},
   "outputs": [],
   "source": [
    "def file_info(path:str) -> None:\n",
    "    \"\"\"\n",
    "    하위경로포함 모든 파일에 대해 size,cre32로 중복 검사 후 \n",
    "    모든 파일 정보 및 중복파일 목록을 excel, pickle로 바탕화면에 저장\n",
    "    바로 중복파일 관리할 수 있도록 중복목록인 dict_sc 반환\n",
    "    \"\"\"\n",
    "\n",
    "    dict_sc = {}  #중복파일끼리 묶을 딕셔너리\n",
    "    df = None\n",
    "    data = []\n",
    "    \n",
    "    df_matching = pd.read_excel(\n",
    "        r'D:\\workspace\\python_work\\파일\\매각사 이름매칭.xlsx')\n",
    "\n",
    "    for root, __dirs__, files in os.walk(path):\n",
    "        \n",
    "        for f in files:\n",
    "            fullname = os.path.join(root, f)\n",
    "            #key\n",
    "            size = str(os.path.getsize(fullname))\n",
    "            #value\n",
    "            mtime = str(os.path.getmtime(fullname))\n",
    "            crc32 = str(crc32_checksum(fullname))\n",
    "            sell = \"\"\n",
    "            for __index__, row in df_matching.iterrows():\n",
    "                if re.search(str(row[0]), str(root)):  \n",
    "                    sell = row[1]\n",
    "                    break            \n",
    "            filename = f\n",
    "            ext = os.path.splitext(f)[1]\n",
    "            length = len(filename)\n",
    "            \n",
    "            temp = {\"size\":size, \"crc32\": crc32, \"mtime\":mtime, \"sell\":sell, \"root\":root, \"filename\":filename, \"ext\":ext, \"length\":length, \"fullname\":fullname}\n",
    "            data.append(temp)\n",
    "            \n",
    "            # 고유한 size, crc를 키로 하는 딕셔너리 만들기\n",
    "            sc = size + crc32\n",
    "            if sc not in dict_sc:\n",
    "                dict_sc[sc] = [temp]\n",
    "            else:\n",
    "                dict_sc[sc].append(temp)\n",
    "            \n",
    "            \n",
    "    df = pd.DataFrame(data)\n",
    "    sc = df.duplicated(['size', 'crc32'], keep=False)\n",
    "    sc.name = \"sc\"\n",
    "    df = pd.concat([df, sc], axis=1)\n",
    "    df_sc = df[df[\"sc\"]]\n",
    "    \n",
    "    src_dir = r\"C:\\Users\\SL\\Desktop\\중복 관리 파일\"\n",
    "    add_dir = path.split(\"\\\\\")[-1]\n",
    "    if not os.path.exists(os.path.join(src_dir,add_dir)):\n",
    "        os.mkdir(os.path.join(src_dir,add_dir))\n",
    "    \n",
    "    # 파일 내보내기1 : path내 모든 파일\n",
    "    df.to_excel(os.path.join(src_dir,add_dir,\"파일정보.xlsx\"))\n",
    "    df.to_pickle(os.path.join(src_dir,add_dir,\"파일정보.pkl\"))\n",
    "    \n",
    "    # 파일 내보내기2 : 중복파일만 모은 거\n",
    "    dict_sc2 = dict_sc.copy()\n",
    "    for key, value in dict_sc.items():\n",
    "        if len(value) == 1 :\n",
    "            del dict_sc2[key]\n",
    "\n",
    "    with open(os.path.join(src_dir,add_dir,\"파일정보_sc.pkl\"), \"wb\") as pkl :\n",
    "        pickle.dump(dict_sc2, pkl)\n"
   ]
  },
  {
   "cell_type": "code",
   "execution_count": 54,
   "id": "4194e496",
   "metadata": {},
   "outputs": [],
   "source": [
    "path = r'C:\\Users\\SL\\Desktop\\test'\n",
    "file_info(path)"
   ]
  },
  {
   "cell_type": "markdown",
   "id": "febfd62b",
   "metadata": {},
   "source": [
    "### 남길파일 이동파일 나누기"
   ]
  },
  {
   "cell_type": "code",
   "execution_count": 55,
   "id": "ffb42081",
   "metadata": {},
   "outputs": [],
   "source": [
    "with open(r\"C:\\Users\\SL\\Desktop\\중복 관리 파일\\test\\파일정보_sc.pkl\", \"rb\") as pkl :\n",
    "    dict = pickle.load(pkl)"
   ]
  },
  {
   "cell_type": "code",
   "execution_count": 56,
   "id": "4d040b41",
   "metadata": {},
   "outputs": [],
   "source": [
    "# 채무자키 match\n",
    "p_key = re.compile(r\"[\\d]{8}[\\D]\") \n",
    "# 사건번호\n",
    "p_event = re.compile(r\"[\\D][\\d]{4}[ㄱ-ㅎ가-힣]{1,3}[0-9]+\")\n",
    "# 문서구분\n",
    "docu_kind = '원인서류|양도통지서|양통|승계|판결|명령|이행권고|화해권고|채권압류|압류|타채|결정|등본|초본|등,초본|등초본|외국인|개회|신복|파산'\n",
    "p_docu = re.compile(docu_kind)\n",
    "#-----------------------------------------------------------------------------#\n",
    "# 사업자/주민번호\n",
    "p_regit1 = re.compile(r'([\\d]{3})-\\d\\d-\\d\\d\\d\\d\\d[\\D]+')\n",
    "p_regit2 = re.compile(r'([\\d]{6})-([\\d]{6})[\\D]+')\n",
    "# 관리자키  match\n",
    "p_admin10 = re.compile(r'[\\d]{10}[\\D]')\n",
    "p_admin = re.compile(r'[\\D][\\d]{4}-[\\d]{6}[\\D]')\n",
    "\n",
    "# 조건식 함수\n",
    "def cond1(filename:str) : # 키 + [사건번호/문서구분]\n",
    "    return (p_key.match(filename) != None) & ((p_event.search(filename) != None) | (p_docu.search(filename) != None))\n",
    "def cond2(filename:str) : # [키]\n",
    "    return (p_key.match(filename) != None) | (p_event.search(filename) != None)\n",
    "def cond3(filename:str) : # [사업자/주민번호]\n",
    "    return (p_regit1.search(filename) != None) | (p_regit2.search(filename) != None)\n",
    "def cond4(filename:str) : # 관리자키\n",
    "    return (p_admin10.match(filename) != None) | (p_admin.search(filename) != None)\n",
    "def cond5(filename:str) : # 사건번호\n",
    "    return (p_event.search(filename) != None)\n",
    "\n"
   ]
  },
  {
   "cell_type": "code",
   "execution_count": 57,
   "id": "e1a5d66f",
   "metadata": {},
   "outputs": [],
   "source": [
    "# 남길 파일 리스트\n",
    "to_remain = []\n",
    "# 이동관련\n",
    "to_move = {}\n",
    "\n",
    "for key, values in dict.items() :\n",
    "    \n",
    "    # length에 따라 역순정렬하기\n",
    "    num = len(values)\n",
    "    for i in range(num):\n",
    "        indexOfGreater = i\n",
    "        for j in range((i+1), num) :\n",
    "            if values[indexOfGreater][\"length\"] < values[j][\"length\"] :\n",
    "                values[i], values[j] = values[j], values[i]\n",
    "    \n",
    "    # stem과 fullname만 따로 임시 리스트에 저장\n",
    "    filename_list = []\n",
    "    fullname_list = []\n",
    "    for v in values :\n",
    "        filename_list.append(v[\"filename\"]) \n",
    "        fullname_list.append(v[\"fullname\"])\n",
    "    \n",
    "    # 유지할 것과 이동할 것 나누기\n",
    "    isEnd = False\n",
    "    for i in range(len(filename_list)) :\n",
    "        if cond1(filename_list[i]) :\n",
    "            to_remain.append(fullname_list[i])\n",
    "            del fullname_list[i]\n",
    "            to_move[filename_list[i]] = fullname_list\n",
    "            isEnd = True\n",
    "            break\n",
    "        \n",
    "    if not isEnd : #조건1을 만족하는 경우가 없었다면 다시 반복\n",
    "        for i in range(len(filename_list)) :\n",
    "            if cond2(filename_list[i]) :\n",
    "                to_remain.append(fullname_list[i])\n",
    "                del fullname_list[i]\n",
    "                to_move[filename_list[i]] = fullname_list\n",
    "                isEnd = True\n",
    "                break\n",
    "    \n",
    "    if not isEnd :\n",
    "        for i in range(len(filename_list)) :\n",
    "            if cond3(filename_list[i]) :\n",
    "                to_remain.append(fullname_list[i])\n",
    "                del fullname_list[i]\n",
    "                to_move[filename_list[i]] = fullname_list\n",
    "                isEnd = True\n",
    "                break\n",
    "    if not isEnd :\n",
    "        for i in range(len(filename_list)) :\n",
    "            if cond4(filename_list[i]) :\n",
    "                to_remain.append(fullname_list[i])\n",
    "                del fullname_list[i]\n",
    "                to_move[filename_list[i]] = fullname_list\n",
    "                isEnd = True\n",
    "                break\n",
    "    if not isEnd :\n",
    "        for i in range(len(filename_list)) :\n",
    "            if cond5(filename_list[i]) :\n",
    "                to_remain.append(fullname_list[i])\n",
    "                del fullname_list[i]\n",
    "                to_move[filename_list[i]] = fullname_list\n",
    "                isEnd = True\n",
    "                break   \n",
    "    if not isEnd :\n",
    "        to_remain.append(fullname_list[0])\n",
    "        del fullname_list[0]\n",
    "        to_move[filename_list[0]] = fullname_list\n"
   ]
  },
  {
   "cell_type": "markdown",
   "id": "eb4b8632",
   "metadata": {},
   "source": [
    "### 이동할 파일 옮기기"
   ]
  },
  {
   "cell_type": "code",
   "execution_count": 58,
   "id": "e79f60a6",
   "metadata": {},
   "outputs": [],
   "source": [
    "dst_root = r'C:\\Users\\SL\\Desktop\\중복 관리 파일\\test중복파일'"
   ]
  },
  {
   "cell_type": "code",
   "execution_count": 59,
   "id": "c012f4e8",
   "metadata": {},
   "outputs": [],
   "source": [
    "for dst_dir, srcs in to_move.items() :\n",
    "    dir = os.path.join(dst_root, dst_dir)\n",
    "    if not os.path.exists(dir) :\n",
    "        os.makedirs(dir)\n",
    "    \n",
    "    for src in srcs :\n",
    "        #중복파일/남길파일명/파일명\n",
    "        #원래폴더트리는 남길파일을 참고하거나, 파일로도 있음.(엑셀파일 올려두자)\n",
    "        dst = os.path.join(dir, os.path.split(src)[1])\n",
    "        os.rename(src, dst)\n",
    "        \n",
    "        "
   ]
  },
  {
   "cell_type": "code",
   "execution_count": null,
   "id": "cb7ac885",
   "metadata": {},
   "outputs": [],
   "source": []
  },
  {
   "cell_type": "code",
   "execution_count": null,
   "id": "9bfe6c38",
   "metadata": {},
   "outputs": [],
   "source": []
  },
  {
   "cell_type": "code",
   "execution_count": null,
   "id": "a7d3976e",
   "metadata": {},
   "outputs": [],
   "source": []
  },
  {
   "cell_type": "code",
   "execution_count": null,
   "id": "0643729c",
   "metadata": {},
   "outputs": [],
   "source": []
  },
  {
   "cell_type": "code",
   "execution_count": null,
   "id": "d0cdbc46",
   "metadata": {},
   "outputs": [],
   "source": []
  },
  {
   "cell_type": "code",
   "execution_count": null,
   "id": "0d0496a4",
   "metadata": {},
   "outputs": [],
   "source": []
  },
  {
   "cell_type": "code",
   "execution_count": null,
   "metadata": {},
   "outputs": [],
   "source": []
  }
 ],
 "metadata": {
  "hide_input": false,
  "kernelspec": {
   "display_name": "Python 3.9.12 ('base')",
   "language": "python",
   "name": "python3"
  },
  "language_info": {
   "codemirror_mode": {
    "name": "ipython",
    "version": 3
   },
   "file_extension": ".py",
   "mimetype": "text/x-python",
   "name": "python",
   "nbconvert_exporter": "python",
   "pygments_lexer": "ipython3",
   "version": "3.9.12"
  },
  "toc": {
   "base_numbering": 1,
   "nav_menu": {},
   "number_sections": true,
   "sideBar": true,
   "skip_h1_title": false,
   "title_cell": "Table of Contents",
   "title_sidebar": "Contents",
   "toc_cell": false,
   "toc_position": {},
   "toc_section_display": true,
   "toc_window_display": false
  },
  "varInspector": {
   "cols": {
    "lenName": 16,
    "lenType": 16,
    "lenVar": 40
   },
   "kernels_config": {
    "python": {
     "delete_cmd_postfix": "",
     "delete_cmd_prefix": "del ",
     "library": "var_list.py",
     "varRefreshCmd": "print(var_dic_list())"
    },
    "r": {
     "delete_cmd_postfix": ") ",
     "delete_cmd_prefix": "rm(",
     "library": "var_list.r",
     "varRefreshCmd": "cat(var_dic_list()) "
    }
   },
   "position": {
    "height": "335.844px",
    "left": "1562px",
    "right": "20px",
    "top": "112px",
    "width": "350px"
   },
   "types_to_exclude": [
    "module",
    "function",
    "builtin_function_or_method",
    "instance",
    "_Feature"
   ],
   "window_display": true
  },
  "vscode": {
   "interpreter": {
    "hash": "38d617750889899e5f2f65cac6f27a322f361a63d334879a800ee5491961f90c"
   }
  }
 },
 "nbformat": 4,
 "nbformat_minor": 5
}
