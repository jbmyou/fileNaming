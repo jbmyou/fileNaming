{
 "cells": [
  {
   "cell_type": "code",
   "execution_count": 2,
   "id": "897625ba",
   "metadata": {
    "ExecuteTime": {
     "end_time": "2022-07-07T04:30:12.183047Z",
     "start_time": "2022-07-07T04:30:12.016303Z"
    }
   },
   "outputs": [],
   "source": [
    "import os\n",
    "from tqdm.notebook import tqdm\n",
    "import pandas as pd\n",
    "import file_function as ff\n",
    "import re\n",
    "import binascii"
   ]
  },
  {
   "cell_type": "code",
   "execution_count": 3,
   "id": "c24da72f",
   "metadata": {},
   "outputs": [],
   "source": [
    "def crc32_checksum(filename):\n",
    "    buf = open(filename,'rb').read()\n",
    "    buf = (binascii.crc32(buf) & 0xFFFFFFFF)\n",
    "    return \"%08X\" % buf"
   ]
  },
  {
   "cell_type": "code",
   "execution_count": 6,
   "id": "8c1f9aba",
   "metadata": {},
   "outputs": [],
   "source": [
    "def file_info(path):\n",
    "\n",
    "    dict_sc = {}  # 중복파일명 숫자를 카운트 할 딕셔너리\n",
    "    dict_sm = {}\n",
    "    dict_scm = {}\n",
    "\n",
    "    cols = ['size', 'crc32', 'mtime',  'sell', 'root', 'stem', 'ext', 'length']\n",
    "    df = pd.DataFrame(columns=cols)\n",
    "    \n",
    "    df_matching = pd.read_excel(\n",
    "        r'D:\\workspace\\python_work\\파일\\매각사 이름매칭.xlsx')\n",
    "\n",
    "    for root, __dirs__, files in tqdm(os.walk(path)):\n",
    "        \n",
    "        for f in files:\n",
    "            fullname = os.path.join(root, f)\n",
    "            #key\n",
    "            size = str(os.path.getsize(fullname))\n",
    "            #value\n",
    "            mtime = str(os.path.getmtime(fullname))\n",
    "            crc32 = str(crc32_checksum(fullname))\n",
    "            sell = \"\"\n",
    "            for __index__, row in df_matching.iterrows():\n",
    "                if re.search(str(row[0]), str(root)):  \n",
    "                    sell = row[1]\n",
    "                    break            \n",
    "            stem = os.path.splitext(f)[0]\n",
    "            ext = os.path.splitext(f)[1]\n",
    "            length = len(stem)\n",
    "            \n",
    "            temp1 = {\"size\":str(size)}\n",
    "            temp2 = {\"crc32\": str(crc32), \"mtime\":str(mtime), \"sell\":sell, \"root\":root, \"stem\":stem, \"ext\":ext, \"length\":length}\n",
    "            \n",
    "            # 고유한 size, crc를 키로 하는 딕셔너리 만들기 -> mtime 다른 경우 있는지 체크\n",
    "            sc = size + crc32\n",
    "            if sc not in dict_sc:\n",
    "                dict_sc[sc] = [temp2]\n",
    "            else:\n",
    "                dict_sc[sc].append(temp2)\n",
    "            \n",
    "            sm = size + mtime\n",
    "            if sm not in dict_sm:\n",
    "                dict_sc[sm] = [temp2]\n",
    "            else:\n",
    "                dict_sc[sm].append(temp2)\n",
    "\n",
    "            scm = size + crc32 + mtime\n",
    "            if scm not in dict_scm:\n",
    "                dict_sc[scm] = [temp2]\n",
    "            else:\n",
    "                dict_sc[scm].append(temp2)\n",
    "\n",
    "            # size도 하나의 col로 df 만들기\n",
    "            temp1.update(temp2)\n",
    "            temp_df = pd.DataFrame([temp1])\n",
    "            \n",
    "            df = pd.concat([df, temp_df], ignore_index=True)\n",
    "    \n",
    "    df.to_excel(r\"C:\\Users\\SL\\Desktop\\파일정보.xlsx\")\n",
    "            \n",
    "    return dict_sc, dict_sm, dict_scm"
   ]
  },
  {
   "cell_type": "code",
   "execution_count": 7,
   "id": "4194e496",
   "metadata": {},
   "outputs": [
    {
     "name": "stderr",
     "output_type": "stream",
     "text": [
      "234it [1:09:01, 17.70s/it]\n"
     ]
    },
    {
     "ename": "FileNotFoundError",
     "evalue": "[Errno 2] No such file or directory: '\\\\\\\\192.168.10.43\\\\공유폴더\\\\@◆통합파일◆@\\\\(5.더키움자산관리대부_헬프)\\\\1.매입전 집행권원\\\\1901\\\\9008000463-1.pdf'",
     "output_type": "error",
     "traceback": [
      "\u001b[1;31m---------------------------------------------------------------------------\u001b[0m",
      "\u001b[1;31mFileNotFoundError\u001b[0m                         Traceback (most recent call last)",
      "\u001b[1;32md:\\workspace\\python_work\\중복파일 관리.ipynb 셀 4\u001b[0m in \u001b[0;36m<cell line: 2>\u001b[1;34m()\u001b[0m\n\u001b[0;32m      <a href='vscode-notebook-cell:/d%3A/workspace/python_work/%EC%A4%91%EB%B3%B5%ED%8C%8C%EC%9D%BC%20%EA%B4%80%EB%A6%AC.ipynb#X41sZmlsZQ%3D%3D?line=0'>1</a>\u001b[0m path \u001b[39m=\u001b[39m \u001b[39mr\u001b[39m\u001b[39m'\u001b[39m\u001b[39m\\\\\u001b[39;00m\u001b[39m192.168.10.43\u001b[39m\u001b[39m\\\u001b[39m\u001b[39m공유폴더\u001b[39m\u001b[39m\\\u001b[39m\u001b[39m@◆통합파일◆@\u001b[39m\u001b[39m'\u001b[39m\n\u001b[1;32m----> <a href='vscode-notebook-cell:/d%3A/workspace/python_work/%EC%A4%91%EB%B3%B5%ED%8C%8C%EC%9D%BC%20%EA%B4%80%EB%A6%AC.ipynb#X41sZmlsZQ%3D%3D?line=1'>2</a>\u001b[0m dict_sc, dict_sm, dict_scm \u001b[39m=\u001b[39m file_info(path)\n",
      "\u001b[1;32md:\\workspace\\python_work\\중복파일 관리.ipynb 셀 4\u001b[0m in \u001b[0;36mfile_info\u001b[1;34m(path)\u001b[0m\n\u001b[0;32m     <a href='vscode-notebook-cell:/d%3A/workspace/python_work/%EC%A4%91%EB%B3%B5%ED%8C%8C%EC%9D%BC%20%EA%B4%80%EB%A6%AC.ipynb#X41sZmlsZQ%3D%3D?line=18'>19</a>\u001b[0m \u001b[39m#value\u001b[39;00m\n\u001b[0;32m     <a href='vscode-notebook-cell:/d%3A/workspace/python_work/%EC%A4%91%EB%B3%B5%ED%8C%8C%EC%9D%BC%20%EA%B4%80%EB%A6%AC.ipynb#X41sZmlsZQ%3D%3D?line=19'>20</a>\u001b[0m mtime \u001b[39m=\u001b[39m \u001b[39mstr\u001b[39m(os\u001b[39m.\u001b[39mpath\u001b[39m.\u001b[39mgetmtime(fullname))\n\u001b[1;32m---> <a href='vscode-notebook-cell:/d%3A/workspace/python_work/%EC%A4%91%EB%B3%B5%ED%8C%8C%EC%9D%BC%20%EA%B4%80%EB%A6%AC.ipynb#X41sZmlsZQ%3D%3D?line=20'>21</a>\u001b[0m crc32 \u001b[39m=\u001b[39m \u001b[39mstr\u001b[39m(crc32_checksum(fullname))\n\u001b[0;32m     <a href='vscode-notebook-cell:/d%3A/workspace/python_work/%EC%A4%91%EB%B3%B5%ED%8C%8C%EC%9D%BC%20%EA%B4%80%EB%A6%AC.ipynb#X41sZmlsZQ%3D%3D?line=21'>22</a>\u001b[0m sell \u001b[39m=\u001b[39m \u001b[39m\"\u001b[39m\u001b[39m\"\u001b[39m\n\u001b[0;32m     <a href='vscode-notebook-cell:/d%3A/workspace/python_work/%EC%A4%91%EB%B3%B5%ED%8C%8C%EC%9D%BC%20%EA%B4%80%EB%A6%AC.ipynb#X41sZmlsZQ%3D%3D?line=22'>23</a>\u001b[0m \u001b[39mfor\u001b[39;00m \u001b[39m__index__\u001b[39m, row \u001b[39min\u001b[39;00m df_matching\u001b[39m.\u001b[39miterrows():\n",
      "\u001b[1;32md:\\workspace\\python_work\\중복파일 관리.ipynb 셀 4\u001b[0m in \u001b[0;36mcrc32_checksum\u001b[1;34m(filename)\u001b[0m\n\u001b[0;32m      <a href='vscode-notebook-cell:/d%3A/workspace/python_work/%EC%A4%91%EB%B3%B5%ED%8C%8C%EC%9D%BC%20%EA%B4%80%EB%A6%AC.ipynb#X41sZmlsZQ%3D%3D?line=0'>1</a>\u001b[0m \u001b[39mdef\u001b[39;00m \u001b[39mcrc32_checksum\u001b[39m(filename):\n\u001b[1;32m----> <a href='vscode-notebook-cell:/d%3A/workspace/python_work/%EC%A4%91%EB%B3%B5%ED%8C%8C%EC%9D%BC%20%EA%B4%80%EB%A6%AC.ipynb#X41sZmlsZQ%3D%3D?line=1'>2</a>\u001b[0m     buf \u001b[39m=\u001b[39m \u001b[39mopen\u001b[39;49m(filename,\u001b[39m'\u001b[39;49m\u001b[39mrb\u001b[39;49m\u001b[39m'\u001b[39;49m)\u001b[39m.\u001b[39mread()\n\u001b[0;32m      <a href='vscode-notebook-cell:/d%3A/workspace/python_work/%EC%A4%91%EB%B3%B5%ED%8C%8C%EC%9D%BC%20%EA%B4%80%EB%A6%AC.ipynb#X41sZmlsZQ%3D%3D?line=2'>3</a>\u001b[0m     buf \u001b[39m=\u001b[39m (binascii\u001b[39m.\u001b[39mcrc32(buf) \u001b[39m&\u001b[39m \u001b[39m0xFFFFFFFF\u001b[39m)\n\u001b[0;32m      <a href='vscode-notebook-cell:/d%3A/workspace/python_work/%EC%A4%91%EB%B3%B5%ED%8C%8C%EC%9D%BC%20%EA%B4%80%EB%A6%AC.ipynb#X41sZmlsZQ%3D%3D?line=3'>4</a>\u001b[0m     \u001b[39mreturn\u001b[39;00m \u001b[39m\"\u001b[39m\u001b[39m%08X\u001b[39;00m\u001b[39m\"\u001b[39m \u001b[39m%\u001b[39m buf\n",
      "\u001b[1;31mFileNotFoundError\u001b[0m: [Errno 2] No such file or directory: '\\\\\\\\192.168.10.43\\\\공유폴더\\\\@◆통합파일◆@\\\\(5.더키움자산관리대부_헬프)\\\\1.매입전 집행권원\\\\1901\\\\9008000463-1.pdf'"
     ]
    }
   ],
   "source": [
    "path = r'\\\\192.168.0.75\\sollim광주\\광주 공유폴더\\(1.DNP_헬프)\\3.채권양도통지서'\n",
    "dict_sc, dict_sm, dict_scm = file_info(path)"
   ]
  },
  {
   "cell_type": "code",
   "execution_count": 8,
   "id": "47452f98",
   "metadata": {},
   "outputs": [
    {
     "ename": "NameError",
     "evalue": "name 'dict_sc' is not defined",
     "output_type": "error",
     "traceback": [
      "\u001b[1;31m---------------------------------------------------------------------------\u001b[0m",
      "\u001b[1;31mNameError\u001b[0m                                 Traceback (most recent call last)",
      "\u001b[1;32md:\\workspace\\python_work\\중복파일 관리.ipynb 셀 5\u001b[0m in \u001b[0;36m<cell line: 1>\u001b[1;34m()\u001b[0m\n\u001b[1;32m----> <a href='vscode-notebook-cell:/d%3A/workspace/python_work/%EC%A4%91%EB%B3%B5%ED%8C%8C%EC%9D%BC%20%EA%B4%80%EB%A6%AC.ipynb#X42sZmlsZQ%3D%3D?line=0'>1</a>\u001b[0m dict_sc\n",
      "\u001b[1;31mNameError\u001b[0m: name 'dict_sc' is not defined"
     ]
    }
   ],
   "source": [
    "dict_sc"
   ]
  },
  {
   "cell_type": "code",
   "execution_count": null,
   "id": "8cf26345",
   "metadata": {},
   "outputs": [],
   "source": []
  },
  {
   "cell_type": "code",
   "execution_count": null,
   "id": "15aeef2d",
   "metadata": {},
   "outputs": [],
   "source": []
  },
  {
   "cell_type": "code",
   "execution_count": null,
   "id": "7ba69458",
   "metadata": {},
   "outputs": [],
   "source": []
  },
  {
   "cell_type": "code",
   "execution_count": null,
   "id": "6287a558",
   "metadata": {},
   "outputs": [],
   "source": []
  },
  {
   "cell_type": "code",
   "execution_count": null,
   "id": "0ce40119",
   "metadata": {},
   "outputs": [],
   "source": []
  },
  {
   "cell_type": "code",
   "execution_count": null,
   "id": "08b238cf",
   "metadata": {},
   "outputs": [],
   "source": []
  }
 ],
 "metadata": {
  "hide_input": false,
  "kernelspec": {
   "display_name": "Python 3.9.12 ('base')",
   "language": "python",
   "name": "python3"
  },
  "language_info": {
   "codemirror_mode": {
    "name": "ipython",
    "version": 3
   },
   "file_extension": ".py",
   "mimetype": "text/x-python",
   "name": "python",
   "nbconvert_exporter": "python",
   "pygments_lexer": "ipython3",
   "version": "3.9.12"
  },
  "toc": {
   "base_numbering": 1,
   "nav_menu": {},
   "number_sections": true,
   "sideBar": true,
   "skip_h1_title": false,
   "title_cell": "Table of Contents",
   "title_sidebar": "Contents",
   "toc_cell": false,
   "toc_position": {},
   "toc_section_display": true,
   "toc_window_display": false
  },
  "varInspector": {
   "cols": {
    "lenName": 16,
    "lenType": 16,
    "lenVar": 40
   },
   "kernels_config": {
    "python": {
     "delete_cmd_postfix": "",
     "delete_cmd_prefix": "del ",
     "library": "var_list.py",
     "varRefreshCmd": "print(var_dic_list())"
    },
    "r": {
     "delete_cmd_postfix": ") ",
     "delete_cmd_prefix": "rm(",
     "library": "var_list.r",
     "varRefreshCmd": "cat(var_dic_list()) "
    }
   },
   "position": {
    "height": "335.844px",
    "left": "1562px",
    "right": "20px",
    "top": "112px",
    "width": "350px"
   },
   "types_to_exclude": [
    "module",
    "function",
    "builtin_function_or_method",
    "instance",
    "_Feature"
   ],
   "window_display": true
  },
  "vscode": {
   "interpreter": {
    "hash": "38d617750889899e5f2f65cac6f27a322f361a63d334879a800ee5491961f90c"
   }
  }
 },
 "nbformat": 4,
 "nbformat_minor": 5
}
