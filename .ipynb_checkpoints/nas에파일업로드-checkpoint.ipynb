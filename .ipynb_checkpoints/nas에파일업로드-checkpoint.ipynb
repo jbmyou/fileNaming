{
 "cells": [
  {
   "cell_type": "code",
   "execution_count": 1,
   "metadata": {
    "ExecuteTime": {
     "end_time": "2022-08-05T02:19:28.481140Z",
     "start_time": "2022-08-05T02:19:27.924200Z"
    }
   },
   "outputs": [],
   "source": [
    "import os\n",
    "import shutil\n",
    "import time\n",
    "import pandas as pd\n",
    "from tqdm.notebook import tqdm\n",
    "import re\n",
    "from pathlib import Path\n",
    "import traceback"
   ]
  },
  {
   "cell_type": "code",
   "execution_count": 2,
   "metadata": {
    "ExecuteTime": {
     "end_time": "2022-08-05T02:19:52.243916Z",
     "start_time": "2022-08-05T02:19:38.308068Z"
    }
   },
   "outputs": [],
   "source": [
    "#[시작]###########################################################\n",
    "#디렉토리 만들기\n",
    "path = r'\\\\192.168.0.75\\솔림헬프'\n",
    "os.chdir(path)\n",
    "docu_list = [\"녹취\", \"매각사자료\",\"법원서류\",\"부채증명서\",\"신용회복\",\"신탁통지\",\"원인서류\",\"재산조사내용\",\"재산조사비\",\"초본등본\"]\n",
    "sell_list = [\"전북-01\", \"DNP-01\", \"DNP-02\", \"메리츠캐_01\", \"KNS\", \"DNP-03\", \"한울가람\", \"케이에스\", \\\n",
    "    \"유안타저-01\", \"KB카드-01\", \"베리타스-01\", \"BNK-01\", \"스마트저축-01\", \"우담-01\", \"고려저축-01\", \\\n",
    "        \"롯데카드-01\", \"헤럴드\", \"KCR\", \"아인스\", \"하나캐-02\", \"베델-01\", \"롯데카드-03\", \"하나캐-01\", \\\n",
    "            \"더키움\", \"롯데카드-02\", \"JT캐-02\", \"흥국화재-01\", \"롯데카드-04\", \"산은캐-01\", \"대산\", \"JT캐-01\"]\n",
    "\n",
    "for dir_ in docu_list :\n",
    "    for sell_ in sell_list :\n",
    "        os.makedirs(dir_+\"/\"+sell_, exist_ok=True)\n",
    "\n",
    "#[끝]###########################################################"
   ]
  }
 ],
 "metadata": {
  "hide_input": false,
  "kernelspec": {
   "display_name": "Python 3 (ipykernel)",
   "language": "python",
   "name": "python3"
  },
  "language_info": {
   "codemirror_mode": {
    "name": "ipython",
    "version": 3
   },
   "file_extension": ".py",
   "mimetype": "text/x-python",
   "name": "python",
   "nbconvert_exporter": "python",
   "pygments_lexer": "ipython3",
   "version": "3.9.12"
  },
  "toc": {
   "base_numbering": 1,
   "nav_menu": {},
   "number_sections": true,
   "sideBar": true,
   "skip_h1_title": false,
   "title_cell": "Table of Contents",
   "title_sidebar": "Contents",
   "toc_cell": false,
   "toc_position": {},
   "toc_section_display": true,
   "toc_window_display": false
  },
  "varInspector": {
   "cols": {
    "lenName": 16,
    "lenType": 16,
    "lenVar": 40
   },
   "kernels_config": {
    "python": {
     "delete_cmd_postfix": "",
     "delete_cmd_prefix": "del ",
     "library": "var_list.py",
     "varRefreshCmd": "print(var_dic_list())"
    },
    "r": {
     "delete_cmd_postfix": ") ",
     "delete_cmd_prefix": "rm(",
     "library": "var_list.r",
     "varRefreshCmd": "cat(var_dic_list()) "
    }
   },
   "types_to_exclude": [
    "module",
    "function",
    "builtin_function_or_method",
    "instance",
    "_Feature"
   ],
   "window_display": false
  },
  "vscode": {
   "interpreter": {
    "hash": "38d617750889899e5f2f65cac6f27a322f361a63d334879a800ee5491961f90c"
   }
  }
 },
 "nbformat": 4,
 "nbformat_minor": 2
}
