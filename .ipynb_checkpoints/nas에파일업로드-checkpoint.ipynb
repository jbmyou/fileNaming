{
 "cells": [
  {
   "cell_type": "code",
   "execution_count": 2,
   "metadata": {
    "ExecuteTime": {
     "end_time": "2022-09-02T00:20:31.617931Z",
     "start_time": "2022-09-02T00:20:31.604546Z"
    },
    "hide_input": false
   },
   "outputs": [],
   "source": [
    "import os\n",
    "import shutil\n",
    "import time\n",
    "import pandas as pd\n",
    "from tqdm.notebook import tqdm      #tqdm(filelist, total = len(filelist, position=0, leave=Ture)\n",
    "import re\n",
    "from pathlib import Path\n",
    "import traceback\n",
    "from os.path import join"
   ]
  },
  {
   "cell_type": "markdown",
   "metadata": {},
   "source": [
    "### 나스에 파일 올리기"
   ]
  },
  {
   "cell_type": "code",
   "execution_count": 4,
   "metadata": {
    "ExecuteTime": {
     "end_time": "2022-08-05T02:19:52.243916Z",
     "start_time": "2022-08-05T02:19:38.308068Z"
    }
   },
   "outputs": [],
   "source": [
    "#[시작]###########################################################\n",
    "#디렉토리 만들기\n",
    "path = r'\\\\192.168.0.75\\솔림헬프'\n",
    "os.chdir(path)\n",
    "docu_list = [\"녹취\", \"매각사자료\",\"법원서류\",\"부채증명서\",\"신용회복\",\"신탁통지\",\"양도서류\",\"원인서류\",\"재산조사내용\",\"재산조사비\",\"초본등본\"]\n",
    "sell_list = [\"전북-01\", \"DNP-01\", \"DNP-02\", \"메리츠캐_01\", \"KNS\", \"DNP-03\", \"한울가람\", \"케이에스\", \\\n",
    "    \"유안타저-01\", \"KB카드-01\", \"베리타스-01\", \"BNK-01\", \"스마트저축-01\", \"우담-01\", \"고려저축-01\", \\\n",
    "        \"롯데카드-01\", \"헤럴드\", \"KCR\", \"아인스\", \"하나캐-02\", \"베델-01\", \"롯데카드-03\", \"하나캐-01\", \\\n",
    "            \"더키움\", \"롯데카드-02\", \"JT캐-02\", \"흥국화재-01\", \"롯데카드-04\", \"산은캐-01\", \"대산\", \"JT캐-01\"]\n",
    "\n",
    "for dir_ in docu_list :\n",
    "    for sell_ in sell_list :\n",
    "        os.makedirs(dir_+\"/\"+sell_, exist_ok=True)\n",
    "\n",
    "#[끝]###########################################################"
   ]
  },
  {
   "cell_type": "code",
   "execution_count": 17,
   "metadata": {},
   "outputs": [
    {
     "data": {
      "text/html": [
       "<div>\n",
       "<style scoped>\n",
       "    .dataframe tbody tr th:only-of-type {\n",
       "        vertical-align: middle;\n",
       "    }\n",
       "\n",
       "    .dataframe tbody tr th {\n",
       "        vertical-align: top;\n",
       "    }\n",
       "\n",
       "    .dataframe thead th {\n",
       "        text-align: right;\n",
       "    }\n",
       "</style>\n",
       "<table border=\"1\" class=\"dataframe\">\n",
       "  <thead>\n",
       "    <tr style=\"text-align: right;\">\n",
       "      <th></th>\n",
       "      <th>채무자키</th>\n",
       "      <th>매각사구분</th>\n",
       "      <th>성명</th>\n",
       "      <th>주민번호</th>\n",
       "      <th>성별</th>\n",
       "      <th>매각사</th>\n",
       "      <th>회생사건결과</th>\n",
       "      <th>관리자기타</th>\n",
       "      <th>보증인성명</th>\n",
       "      <th>변경전성명</th>\n",
       "      <th>변경전주민번호</th>\n",
       "      <th>보증인수</th>\n",
       "      <th>파산사건결과</th>\n",
       "    </tr>\n",
       "  </thead>\n",
       "  <tbody>\n",
       "    <tr>\n",
       "      <th>0</th>\n",
       "      <td>20495151</td>\n",
       "      <td>전북-01</td>\n",
       "      <td>(유)가람건설</td>\n",
       "      <td>403-81-18275</td>\n",
       "      <td>법인</td>\n",
       "      <td>㈜전북은행</td>\n",
       "      <td>NaN</td>\n",
       "      <td>8001-1247743</td>\n",
       "      <td>김원목</td>\n",
       "      <td>NaN</td>\n",
       "      <td>NaN</td>\n",
       "      <td>1</td>\n",
       "      <td>NaN</td>\n",
       "    </tr>\n",
       "    <tr>\n",
       "      <th>1</th>\n",
       "      <td>20495152</td>\n",
       "      <td>전북-01</td>\n",
       "      <td>(유)가람건설</td>\n",
       "      <td>403-81-18275</td>\n",
       "      <td>법인</td>\n",
       "      <td>㈜전북은행</td>\n",
       "      <td>NaN</td>\n",
       "      <td>8001-1247743</td>\n",
       "      <td>김원목</td>\n",
       "      <td>NaN</td>\n",
       "      <td>NaN</td>\n",
       "      <td>1</td>\n",
       "      <td>NaN</td>\n",
       "    </tr>\n",
       "    <tr>\n",
       "      <th>2</th>\n",
       "      <td>20495238</td>\n",
       "      <td>전북-01</td>\n",
       "      <td>(유)가람건설</td>\n",
       "      <td>403-81-18275</td>\n",
       "      <td>법인</td>\n",
       "      <td>㈜전북은행</td>\n",
       "      <td>NaN</td>\n",
       "      <td>8001-1247743</td>\n",
       "      <td>김원목</td>\n",
       "      <td>NaN</td>\n",
       "      <td>NaN</td>\n",
       "      <td>1</td>\n",
       "      <td>NaN</td>\n",
       "    </tr>\n",
       "    <tr>\n",
       "      <th>3</th>\n",
       "      <td>20417854</td>\n",
       "      <td>DNP-01</td>\n",
       "      <td>(유)가람관광여행사</td>\n",
       "      <td>403-81-30809</td>\n",
       "      <td>법인</td>\n",
       "      <td>디엔피에이엠씨대부㈜</td>\n",
       "      <td>NaN</td>\n",
       "      <td>6002000136</td>\n",
       "      <td>김길배</td>\n",
       "      <td>NaN</td>\n",
       "      <td>NaN</td>\n",
       "      <td>2</td>\n",
       "      <td>NaN</td>\n",
       "    </tr>\n",
       "    <tr>\n",
       "      <th>4</th>\n",
       "      <td>20411449</td>\n",
       "      <td>DNP-01</td>\n",
       "      <td>(유)거성산업</td>\n",
       "      <td>407-81-06562</td>\n",
       "      <td>법인</td>\n",
       "      <td>디엔피에이엠씨대부㈜</td>\n",
       "      <td>NaN</td>\n",
       "      <td>6002000141</td>\n",
       "      <td>남옥례,형공우</td>\n",
       "      <td>NaN</td>\n",
       "      <td>NaN</td>\n",
       "      <td>7</td>\n",
       "      <td>NaN</td>\n",
       "    </tr>\n",
       "  </tbody>\n",
       "</table>\n",
       "</div>"
      ],
      "text/plain": [
       "       채무자키   매각사구분          성명          주민번호  성별         매각사 회생사건결과  \\\n",
       "0  20495151   전북-01     (유)가람건설  403-81-18275  법인       ㈜전북은행    NaN   \n",
       "1  20495152   전북-01     (유)가람건설  403-81-18275  법인       ㈜전북은행    NaN   \n",
       "2  20495238   전북-01     (유)가람건설  403-81-18275  법인       ㈜전북은행    NaN   \n",
       "3  20417854  DNP-01  (유)가람관광여행사  403-81-30809  법인  디엔피에이엠씨대부㈜    NaN   \n",
       "4  20411449  DNP-01     (유)거성산업  407-81-06562  법인  디엔피에이엠씨대부㈜    NaN   \n",
       "\n",
       "          관리자기타    보증인성명 변경전성명 변경전주민번호  보증인수 파산사건결과  \n",
       "0  8001-1247743      김원목   NaN     NaN     1    NaN  \n",
       "1  8001-1247743      김원목   NaN     NaN     1    NaN  \n",
       "2  8001-1247743      김원목   NaN     NaN     1    NaN  \n",
       "3    6002000136      김길배   NaN     NaN     2    NaN  \n",
       "4    6002000141  남옥례,형공우   NaN     NaN     7    NaN  "
      ]
     },
     "execution_count": 17,
     "metadata": {},
     "output_type": "execute_result"
    }
   ],
   "source": [
    "#[시작]파일업로드###########################################################\n",
    "## 참조 df 불러오기 ~~~~ \":\"와 공백 xlsx파일에서 미리 제거해둬야 ~~~~\n",
    "## 참조할 col_name = '성명', '주민번호', '채무자키', '매각사', '보증인성명'\n",
    "df_c = pd.read_excel(r'C:\\Users\\SL\\Desktop\\채무자조회.xlsx')\n",
    "df_c.tail()"
   ]
  },
  {
   "cell_type": "code",
   "execution_count": 32,
   "metadata": {},
   "outputs": [
    {
     "name": "stdout",
     "output_type": "stream",
     "text": [
      "66692\n"
     ]
    }
   ],
   "source": [
    "dict_sell ={}\n",
    "for ind, col in df_c.iterrows():\n",
    "    dict_sell[str(col.채무자키)] = col.매각사구분\n",
    "\n",
    "print(len(dict_sell))"
   ]
  },
  {
   "cell_type": "code",
   "execution_count": 35,
   "metadata": {},
   "outputs": [],
   "source": [
    "#파일 업로드\n",
    "path = r'D:\\부산 정리\\대산대부'\n",
    "f_d = r'\\\\192.168.0.75\\솔림헬프'\n",
    "os.chdir(path)\n",
    "file_list = os.listdir(path)\n",
    "index = 0\n",
    "error = []\n",
    "# 1) depth2 문서종류 매칭\n",
    "docu_match = {\"원인서류\" : \"원인서류\", \"채권양도통지서\":\"양도통지\", \"판결문\":\"법원서류\", \"지급명령\":\"법원서류\", \"이행권고\":\"법원서류\", \\\n",
    "    \"화해권고\":\"법원서류\", \"타채\":\"법원서류\", \"결정문\":\"법원서류\", \"등본\":\"초본등본\", \"초본\":\"초본등본\", \"개회\":\"신용회복\", \"신복\":\"신용회복\", \"파산\":\"신용회복\"}"
   ]
  },
  {
   "cell_type": "code",
   "execution_count": 36,
   "metadata": {},
   "outputs": [
    {
     "data": {
      "application/vnd.jupyter.widget-view+json": {
       "model_id": "8cae820256fd4c3a8e35691a996a34e8",
       "version_major": 2,
       "version_minor": 0
      },
      "text/plain": [
       "  0%|          | 0/1103 [00:00<?, ?it/s]"
      ]
     },
     "metadata": {},
     "output_type": "display_data"
    },
    {
     "name": "stdout",
     "output_type": "stream",
     "text": [
      "1103 개의 파일 업로드 완료\n"
     ]
    }
   ],
   "source": [
    "\n",
    "for f in tqdm(file_list) : \n",
    "    depth1 = \"\"\n",
    "    depth2 = \"\"\n",
    "    depth3 = f[:8]\n",
    "    \n",
    "    # 문서종류(depth1)\n",
    "    for key, value in docu_match.items() : \n",
    "        if re.search(key, f) :\n",
    "            depth1 = value\n",
    "            continue\n",
    "        else :\n",
    "            error.append(f)\n",
    "    \n",
    "    # 매각사(depth2) \n",
    "    depth2 = dict_sell[depth3]\n",
    "\n",
    "    \n",
    "    #디렉토리 및 파일명 작성\n",
    "    new_name = f\n",
    "    f_d_full = os.path.join(f_d, depth1,depth2,depth3)\n",
    "    try :\n",
    "        if not os.path.exists(f_d_full) :\n",
    "            os.mkdir(f_d_full)\n",
    "    except :\n",
    "        print(traceback.format_exc())\n",
    "        print(f_d_full)\n",
    "    \n",
    "    #이름 같은 파일은 넘버링\n",
    "    temp = Path(f_d_full + \"/\" +new_name) #넘버링 없는 상태라 문제없음\n",
    "    i = 1\n",
    "    while os.path.exists(f_d_full+\"/\"+new_name): # os.path는 무조건 경로를 매개변수로..작업디렉토리가 아니므로 풀경로, new_name이 매개변수에 포함되어야 함!\n",
    "        new_name = temp.stem + \"_\" +\"(\"+str(i)+\")\"+temp.suffix\n",
    "        i += 1\n",
    "                    \n",
    "    f_d_final = f_d_full + \"/\" + new_name\n",
    "    shutil.copy2(f, f_d_final)\n",
    "    index += 1\n",
    "\n",
    "print(index, \"개의 파일 업로드 완료\")\n",
    "os.chdir('C:/') # 작업디렉토리 옮겨줘야 폴더 삭제 가능"
   ]
  },
  {
   "cell_type": "markdown",
   "metadata": {},
   "source": [
    "### 파일 비교 및 차집합"
   ]
  },
  {
   "cell_type": "code",
   "execution_count": 3,
   "metadata": {
    "ExecuteTime": {
     "end_time": "2022-09-02T00:20:37.521949Z",
     "start_time": "2022-09-02T00:20:37.517007Z"
    }
   },
   "outputs": [],
   "source": [
    "myPath= r'D:\\부산 정리_v2'\n",
    "nasPath=r'\\\\192.168.0.75\\스캔파일\\새 스캔파일(업로드)'"
   ]
  },
  {
   "cell_type": "code",
   "execution_count": 25,
   "metadata": {
    "ExecuteTime": {
     "end_time": "2022-09-02T00:38:42.898383Z",
     "start_time": "2022-09-02T00:38:10.588387Z"
    }
   },
   "outputs": [
    {
     "name": "stdout",
     "output_type": "stream",
     "text": [
      "66284\n"
     ]
    }
   ],
   "source": [
    "f1 = os.scandir(myPath)\n",
    "cnt1 = 0\n",
    "for i in f1 :\n",
    "    cnt1 +=1\n",
    "    \n",
    "#f2 = os.scandir(nasPath) # 아래서 하는 거 반복작업임. 정확하지 않아도 괜찮으니 패스\n",
    "#cnt2 = 0\n",
    "#for i in f2 :\n",
    "#    cnt2 +=1\n",
    "#print(cnt1, cnt2) "
   ]
  },
  {
   "cell_type": "code",
   "execution_count": 30,
   "metadata": {
    "ExecuteTime": {
     "end_time": "2022-09-02T01:15:25.888304Z",
     "start_time": "2022-09-02T01:14:54.137397Z"
    },
    "scrolled": true
   },
   "outputs": [
    {
     "data": {
      "application/vnd.jupyter.widget-view+json": {
       "model_id": "2b281fee3492449d85f7639f7e2a5296",
       "version_major": 2,
       "version_minor": 0
      },
      "text/plain": [
       "  0%|          | 0/66280 [00:00<?, ?it/s]"
      ]
     },
     "metadata": {},
     "output_type": "display_data"
    },
    {
     "data": {
      "application/vnd.jupyter.widget-view+json": {
       "model_id": "b6c81aba75dc4f60b08fe69b5cad21c0",
       "version_major": 2,
       "version_minor": 0
      },
      "text/plain": [
       "  0%|          | 0/66284 [00:00<?, ?it/s]"
      ]
     },
     "metadata": {},
     "output_type": "display_data"
    }
   ],
   "source": [
    "myFile = [f.name for f in tqdm(os.scandir(myPath), total=cnt1) if f.is_file()]\n",
    "nasFile = [f.name for f in tqdm(os.scandir(nasPath), total=cnt1) if f.is_file()]"
   ]
  },
  {
   "cell_type": "code",
   "execution_count": 32,
   "metadata": {
    "ExecuteTime": {
     "end_time": "2022-09-02T01:17:19.016669Z",
     "start_time": "2022-09-02T01:17:18.985758Z"
    }
   },
   "outputs": [],
   "source": [
    "onlyLocal = list(set(myFile) - set(nasFile))\n",
    "onlyNas = list(set(nasFile) - set(myFile))"
   ]
  },
  {
   "cell_type": "code",
   "execution_count": 33,
   "metadata": {
    "ExecuteTime": {
     "end_time": "2022-09-02T01:17:21.335194Z",
     "start_time": "2022-09-02T01:17:21.329256Z"
    }
   },
   "outputs": [
    {
     "name": "stdout",
     "output_type": "stream",
     "text": [
      "0 12\n"
     ]
    }
   ],
   "source": [
    "print(len(onlyLocal), len(onlyNas))"
   ]
  },
  {
   "cell_type": "code",
   "execution_count": 34,
   "metadata": {
    "ExecuteTime": {
     "end_time": "2022-09-02T01:17:25.431403Z",
     "start_time": "2022-09-02T01:17:25.424427Z"
    }
   },
   "outputs": [
    {
     "name": "stdout",
     "output_type": "stream",
     "text": [
      "\n"
     ]
    }
   ],
   "source": [
    "print(*onlyLocal, sep='\\n')"
   ]
  },
  {
   "cell_type": "code",
   "execution_count": 35,
   "metadata": {
    "ExecuteTime": {
     "end_time": "2022-09-02T01:17:27.477854Z",
     "start_time": "2022-09-02T01:17:27.472857Z"
    }
   },
   "outputs": [
    {
     "name": "stdout",
     "output_type": "stream",
     "text": [
      "20412243_김성훈_초본_(2).pdf\n",
      "20407859_박애란_원인서류_(2).PDF\n",
      "20407859_박애란_초본_(3).pdf\n",
      "20407861_문선효_초본_(4).pdf\n",
      "20407863_김세경_초본_(5).pdf\n",
      "Thumbs.db\n",
      "20407860_김세영_원인서류_(2).pdf\n",
      "20407861_문선효_원인서류_(2).pdf\n",
      "20412908_㈜우정_원인서류_(1).pdf\n",
      "20407863_김세경_원인서류_(2).pdf\n",
      "20407862_양홍주_원인서류_(2).pdf\n",
      "20407863_김세경_등본_(2).pdf\n"
     ]
    }
   ],
   "source": [
    "print(*onlyNas, sep='\\n')"
   ]
  },
  {
   "cell_type": "code",
   "execution_count": 37,
   "metadata": {
    "ExecuteTime": {
     "end_time": "2022-09-02T01:21:16.916342Z",
     "start_time": "2022-09-02T01:21:16.788259Z"
    }
   },
   "outputs": [
    {
     "name": "stdout",
     "output_type": "stream",
     "text": [
      "0 개 파일 삭제 완료\n"
     ]
    }
   ],
   "source": [
    "cnt = 0\n",
    "for f in onlyNas :\n",
    "    if f != \"Thumbs.db\" :\n",
    "        try :\n",
    "            os.remove(join(nasPath,f))\n",
    "            cnt += 1\n",
    "            print(f)\n",
    "        except :\n",
    "            continue\n",
    "print(cnt, \"개 파일 삭제 완료\")\n"
   ]
  },
  {
   "cell_type": "code",
   "execution_count": null,
   "metadata": {},
   "outputs": [],
   "source": []
  },
  {
   "cell_type": "code",
   "execution_count": null,
   "metadata": {},
   "outputs": [],
   "source": []
  },
  {
   "cell_type": "code",
   "execution_count": null,
   "metadata": {},
   "outputs": [],
   "source": []
  },
  {
   "cell_type": "code",
   "execution_count": null,
   "metadata": {},
   "outputs": [],
   "source": []
  }
 ],
 "metadata": {
  "hide_input": false,
  "kernelspec": {
   "display_name": "Python 3 (ipykernel)",
   "language": "python",
   "name": "python3"
  },
  "language_info": {
   "codemirror_mode": {
    "name": "ipython",
    "version": 3
   },
   "file_extension": ".py",
   "mimetype": "text/x-python",
   "name": "python",
   "nbconvert_exporter": "python",
   "pygments_lexer": "ipython3",
   "version": "3.9.12"
  },
  "toc": {
   "base_numbering": 1,
   "nav_menu": {},
   "number_sections": true,
   "sideBar": true,
   "skip_h1_title": false,
   "title_cell": "Table of Contents",
   "title_sidebar": "Contents",
   "toc_cell": false,
   "toc_position": {},
   "toc_section_display": true,
   "toc_window_display": false
  },
  "varInspector": {
   "cols": {
    "lenName": 16,
    "lenType": 16,
    "lenVar": 40
   },
   "kernels_config": {
    "python": {
     "delete_cmd_postfix": "",
     "delete_cmd_prefix": "del ",
     "library": "var_list.py",
     "varRefreshCmd": "print(var_dic_list())"
    },
    "r": {
     "delete_cmd_postfix": ") ",
     "delete_cmd_prefix": "rm(",
     "library": "var_list.r",
     "varRefreshCmd": "cat(var_dic_list()) "
    }
   },
   "types_to_exclude": [
    "module",
    "function",
    "builtin_function_or_method",
    "instance",
    "_Feature"
   ],
   "window_display": false
  },
  "vscode": {
   "interpreter": {
    "hash": "38d617750889899e5f2f65cac6f27a322f361a63d334879a800ee5491961f90c"
   }
  }
 },
 "nbformat": 4,
 "nbformat_minor": 2
}
