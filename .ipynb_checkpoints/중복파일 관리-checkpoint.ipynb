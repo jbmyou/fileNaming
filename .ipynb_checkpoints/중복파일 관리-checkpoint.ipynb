{
 "cells": [
  {
   "cell_type": "code",
   "execution_count": 1,
   "id": "897625ba",
   "metadata": {
    "ExecuteTime": {
     "end_time": "2022-07-07T04:30:12.183047Z",
     "start_time": "2022-07-07T04:30:12.016303Z"
    }
   },
   "outputs": [],
   "source": [
    "import os\n",
    "import shutil\n",
    "from tqdm import tqdm\n",
    "import pandas as pd"
   ]
  },
  {
   "cell_type": "code",
   "execution_count": 2,
   "id": "dcf3c35d",
   "metadata": {
    "ExecuteTime": {
     "end_time": "2022-07-07T04:30:12.469400Z",
     "start_time": "2022-07-07T04:30:12.445220Z"
    }
   },
   "outputs": [],
   "source": [
    "import file_function as ff"
   ]
  },
  {
   "cell_type": "code",
   "execution_count": 3,
   "id": "a41abeb0",
   "metadata": {
    "ExecuteTime": {
     "end_time": "2022-07-07T04:30:13.204629Z",
     "start_time": "2022-07-07T04:30:13.189286Z"
    }
   },
   "outputs": [
    {
     "data": {
      "text/plain": [
       "'C:\\\\Users\\\\SL\\\\Downloads\\\\부산 공유폴더'"
      ]
     },
     "execution_count": 3,
     "metadata": {},
     "output_type": "execute_result"
    }
   ],
   "source": [
    "##########작업 경로 설정하기 : 엑셀에서 미리 \\를 /로 바꿔서 입력할 것\n",
    "os.chdir(\"C:/Users/SL/Downloads/부산 공유폴더\")\n",
    "path = os.getcwd()\n",
    "path"
   ]
  },
  {
   "cell_type": "code",
   "execution_count": 19,
   "id": "8a091ae3",
   "metadata": {
    "ExecuteTime": {
     "end_time": "2022-07-07T01:19:04.638696Z",
     "start_time": "2022-07-07T01:19:04.620643Z"
    }
   },
   "outputs": [],
   "source": [
    "z=\"/\""
   ]
  },
  {
   "cell_type": "code",
   "execution_count": null,
   "id": "ef3220df",
   "metadata": {},
   "outputs": [],
   "source": [
    "####### 모든 파일에 중복파일 횟수, 생성,수정 날짜를 표시하고 엑셀로"
   ]
  },
  {
   "cell_type": "code",
   "execution_count": 4,
   "id": "1c1e4f53",
   "metadata": {
    "ExecuteTime": {
     "end_time": "2022-07-07T04:30:40.083705Z",
     "start_time": "2022-07-07T04:30:21.634321Z"
    }
   },
   "outputs": [
    {
     "name": "stderr",
     "output_type": "stream",
     "text": [
      "542it [00:18, 29.77it/s]\n"
     ]
    }
   ],
   "source": [
    "ff.all_files(path)"
   ]
  },
  {
   "cell_type": "code",
   "execution_count": null,
   "id": "4889b313",
   "metadata": {},
   "outputs": [],
   "source": [
    "###### 파일 확장자\n",
    "extension_set = set()\n",
    "\n",
    "for root, dirs, files in os.walk(path) :\n",
    "\n",
    "    for f in files :\n",
    "        extension_set.add(os.path.splitext(f))"
   ]
  },
  {
   "cell_type": "code",
   "execution_count": null,
   "id": "e6293a7a",
   "metadata": {},
   "outputs": [],
   "source": []
  },
  {
   "cell_type": "code",
   "execution_count": 4,
   "id": "0837b2b7",
   "metadata": {
    "ExecuteTime": {
     "end_time": "2022-07-07T00:03:29.401915Z",
     "start_time": "2022-07-07T00:03:29.394109Z"
    }
   },
   "outputs": [
    {
     "name": "stdout",
     "output_type": "stream",
     "text": [
      "D:\\부산 정리\\D_test\\새 텍스트 문서.txt\n"
     ]
    }
   ],
   "source": [
    "a= os.path.abspath(\"새 텍스트 문서.txt\")\n",
    "print(a)\n"
   ]
  },
  {
   "cell_type": "code",
   "execution_count": 6,
   "id": "48e8c693",
   "metadata": {
    "ExecuteTime": {
     "end_time": "2022-07-07T00:03:44.421122Z",
     "start_time": "2022-07-07T00:03:44.415041Z"
    }
   },
   "outputs": [
    {
     "name": "stdout",
     "output_type": "stream",
     "text": [
      "D:\\부산 정리\\D_test\n"
     ]
    }
   ],
   "source": [
    "path = os.path.dirname(a) \n",
    "print(path)"
   ]
  },
  {
   "cell_type": "code",
   "execution_count": 9,
   "id": "9e4186d7",
   "metadata": {
    "ExecuteTime": {
     "end_time": "2022-06-16T04:35:43.092188Z",
     "start_time": "2022-06-16T04:35:43.080209Z"
    }
   },
   "outputs": [],
   "source": [
    "a = files_list[1]"
   ]
  },
  {
   "cell_type": "code",
   "execution_count": 14,
   "id": "b24cbc57",
   "metadata": {
    "ExecuteTime": {
     "end_time": "2022-06-16T04:38:12.190724Z",
     "start_time": "2022-06-16T04:38:12.184769Z"
    }
   },
   "outputs": [
    {
     "name": "stdout",
     "output_type": "stream",
     "text": [
      "3523\n"
     ]
    }
   ],
   "source": [
    "print(len(files_list[1]))"
   ]
  },
  {
   "cell_type": "code",
   "execution_count": 30,
   "id": "a88d297f",
   "metadata": {
    "ExecuteTime": {
     "end_time": "2022-06-16T04:57:44.681813Z",
     "start_time": "2022-06-16T04:57:44.669802Z"
    }
   },
   "outputs": [],
   "source": [
    "import pandas as pd"
   ]
  },
  {
   "cell_type": "code",
   "execution_count": 37,
   "id": "82e87f12",
   "metadata": {
    "ExecuteTime": {
     "end_time": "2022-06-16T06:41:12.951406Z",
     "start_time": "2022-06-16T06:41:12.936469Z"
    }
   },
   "outputs": [],
   "source": [
    "col=['root', 'dirs', 'files']"
   ]
  },
  {
   "cell_type": "code",
   "execution_count": 38,
   "id": "6ec3bff0",
   "metadata": {
    "ExecuteTime": {
     "end_time": "2022-06-16T06:41:20.442654Z",
     "start_time": "2022-06-16T06:41:20.392761Z"
    }
   },
   "outputs": [],
   "source": [
    "df = pd.DataFrame(zip(root_list, dirs_list, files_list), columns=col)"
   ]
  },
  {
   "cell_type": "code",
   "execution_count": 39,
   "id": "5543a38d",
   "metadata": {
    "ExecuteTime": {
     "end_time": "2022-06-16T06:41:33.502710Z",
     "start_time": "2022-06-16T06:41:33.471790Z"
    }
   },
   "outputs": [
    {
     "data": {
      "text/html": [
       "<div>\n",
       "<style scoped>\n",
       "    .dataframe tbody tr th:only-of-type {\n",
       "        vertical-align: middle;\n",
       "    }\n",
       "\n",
       "    .dataframe tbody tr th {\n",
       "        vertical-align: top;\n",
       "    }\n",
       "\n",
       "    .dataframe thead th {\n",
       "        text-align: right;\n",
       "    }\n",
       "</style>\n",
       "<table border=\"1\" class=\"dataframe\">\n",
       "  <thead>\n",
       "    <tr style=\"text-align: right;\">\n",
       "      <th></th>\n",
       "      <th>root</th>\n",
       "      <th>dirs</th>\n",
       "      <th>files</th>\n",
       "    </tr>\n",
       "  </thead>\n",
       "  <tbody>\n",
       "    <tr>\n",
       "      <th>0</th>\n",
       "      <td>\\\\192.168.10.72\\공유폴더</td>\n",
       "      <td>[2_파일명변경완료, @◆통합파일◆@, Log, ■매각 계약서, ■양도통지서 스캔,...</td>\n",
       "      <td>[desktop.ini]</td>\n",
       "    </tr>\n",
       "    <tr>\n",
       "      <th>1</th>\n",
       "      <td>\\\\192.168.10.72\\공유폴더\\2_파일명변경완료</td>\n",
       "      <td>[]</td>\n",
       "      <td>[20407790 하회식 원인서류1.pdf, 20407790 하회식 원인서류2.pd...</td>\n",
       "    </tr>\n",
       "    <tr>\n",
       "      <th>2</th>\n",
       "      <td>\\\\192.168.10.72\\공유폴더\\@◆통합파일◆@</td>\n",
       "      <td>[(1.DNP_헬프), (2.한울가람_헬프), (3.산은캐피탈_헬프), (4.흥국화...</td>\n",
       "      <td>[]</td>\n",
       "    </tr>\n",
       "    <tr>\n",
       "      <th>3</th>\n",
       "      <td>\\\\192.168.10.72\\공유폴더\\@◆통합파일◆@\\(1.DNP_헬프)</td>\n",
       "      <td>[-이름, 사건번호 안뜸, 1.매입전 집행권원, 10.부동산가압류 결정문, 11.기...</td>\n",
       "      <td>[]</td>\n",
       "    </tr>\n",
       "    <tr>\n",
       "      <th>4</th>\n",
       "      <td>\\\\192.168.10.72\\공유폴더\\@◆통합파일◆@\\(1.DNP_헬프)\\-이름, ...</td>\n",
       "      <td>[]</td>\n",
       "      <td>[김향숙 2018카기866.pdf, 김현지 2019타기190.pdf, 나신기_양통....</td>\n",
       "    </tr>\n",
       "  </tbody>\n",
       "</table>\n",
       "</div>"
      ],
      "text/plain": [
       "                                                root  \\\n",
       "0                               \\\\192.168.10.72\\공유폴더   \n",
       "1                     \\\\192.168.10.72\\공유폴더\\2_파일명변경완료   \n",
       "2                      \\\\192.168.10.72\\공유폴더\\@◆통합파일◆@   \n",
       "3           \\\\192.168.10.72\\공유폴더\\@◆통합파일◆@\\(1.DNP_헬프)   \n",
       "4  \\\\192.168.10.72\\공유폴더\\@◆통합파일◆@\\(1.DNP_헬프)\\-이름, ...   \n",
       "\n",
       "                                                dirs  \\\n",
       "0  [2_파일명변경완료, @◆통합파일◆@, Log, ■매각 계약서, ■양도통지서 스캔,...   \n",
       "1                                                 []   \n",
       "2  [(1.DNP_헬프), (2.한울가람_헬프), (3.산은캐피탈_헬프), (4.흥국화...   \n",
       "3  [-이름, 사건번호 안뜸, 1.매입전 집행권원, 10.부동산가압류 결정문, 11.기...   \n",
       "4                                                 []   \n",
       "\n",
       "                                               files  \n",
       "0                                      [desktop.ini]  \n",
       "1  [20407790 하회식 원인서류1.pdf, 20407790 하회식 원인서류2.pd...  \n",
       "2                                                 []  \n",
       "3                                                 []  \n",
       "4  [김향숙 2018카기866.pdf, 김현지 2019타기190.pdf, 나신기_양통....  "
      ]
     },
     "execution_count": 39,
     "metadata": {},
     "output_type": "execute_result"
    }
   ],
   "source": [
    "df.head(5)"
   ]
  },
  {
   "cell_type": "code",
   "execution_count": 15,
   "id": "13bb441e",
   "metadata": {
    "ExecuteTime": {
     "end_time": "2022-06-16T04:43:28.627912Z",
     "start_time": "2022-06-16T04:43:28.623949Z"
    }
   },
   "outputs": [],
   "source": [
    "import csv"
   ]
  },
  {
   "cell_type": "code",
   "execution_count": 40,
   "id": "23a55047",
   "metadata": {
    "ExecuteTime": {
     "end_time": "2022-06-16T06:42:33.690236Z",
     "start_time": "2022-06-16T06:42:33.672313Z"
    }
   },
   "outputs": [
    {
     "data": {
      "text/plain": [
       "'C:\\\\Users\\\\SL\\\\Desktop\\\\python_work'"
      ]
     },
     "execution_count": 40,
     "metadata": {},
     "output_type": "execute_result"
    }
   ],
   "source": [
    "os.chdir(\"C:/Users/SL/Desktop/python_work\")\n",
    "os.getcwd()"
   ]
  },
  {
   "cell_type": "code",
   "execution_count": 43,
   "id": "7528844c",
   "metadata": {
    "ExecuteTime": {
     "end_time": "2022-06-16T06:45:27.092549Z",
     "start_time": "2022-06-16T06:45:26.359175Z"
    }
   },
   "outputs": [],
   "source": [
    "df.to_csv('files_name.csv', encoding='utf-8-sig')"
   ]
  },
  {
   "cell_type": "code",
   "execution_count": null,
   "id": "c24da72f",
   "metadata": {},
   "outputs": [],
   "source": []
  },
  {
   "cell_type": "code",
   "execution_count": null,
   "id": "08b238cf",
   "metadata": {},
   "outputs": [],
   "source": []
  }
 ],
 "metadata": {
  "hide_input": false,
  "kernelspec": {
   "display_name": "Python 3 (ipykernel)",
   "language": "python",
   "name": "python3"
  },
  "language_info": {
   "codemirror_mode": {
    "name": "ipython",
    "version": 3
   },
   "file_extension": ".py",
   "mimetype": "text/x-python",
   "name": "python",
   "nbconvert_exporter": "python",
   "pygments_lexer": "ipython3",
   "version": "3.9.12"
  },
  "toc": {
   "base_numbering": 1,
   "nav_menu": {},
   "number_sections": true,
   "sideBar": true,
   "skip_h1_title": false,
   "title_cell": "Table of Contents",
   "title_sidebar": "Contents",
   "toc_cell": false,
   "toc_position": {},
   "toc_section_display": true,
   "toc_window_display": false
  },
  "varInspector": {
   "cols": {
    "lenName": 16,
    "lenType": 16,
    "lenVar": 40
   },
   "kernels_config": {
    "python": {
     "delete_cmd_postfix": "",
     "delete_cmd_prefix": "del ",
     "library": "var_list.py",
     "varRefreshCmd": "print(var_dic_list())"
    },
    "r": {
     "delete_cmd_postfix": ") ",
     "delete_cmd_prefix": "rm(",
     "library": "var_list.r",
     "varRefreshCmd": "cat(var_dic_list()) "
    }
   },
   "position": {
    "height": "335.844px",
    "left": "1562px",
    "right": "20px",
    "top": "112px",
    "width": "350px"
   },
   "types_to_exclude": [
    "module",
    "function",
    "builtin_function_or_method",
    "instance",
    "_Feature"
   ],
   "window_display": true
  }
 },
 "nbformat": 4,
 "nbformat_minor": 5
}
