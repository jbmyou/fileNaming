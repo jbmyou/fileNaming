{
 "cells": [
  {
   "cell_type": "code",
   "execution_count": 2,
   "id": "76413a35",
   "metadata": {
    "ExecuteTime": {
     "end_time": "2022-07-07T05:33:39.636963Z",
     "start_time": "2022-07-07T05:33:39.423255Z"
    }
   },
   "outputs": [],
   "source": [
    "import os\n",
    "import shutil\n",
    "from tqdm import tqdm\n",
    "import time\n",
    "import pandas as pd"
   ]
  },
  {
   "cell_type": "code",
   "execution_count": 5,
   "id": "41f2a685",
   "metadata": {
    "ExecuteTime": {
     "end_time": "2022-07-07T04:25:12.563042Z",
     "start_time": "2022-07-07T04:25:12.550843Z"
    }
   },
   "outputs": [],
   "source": [
    "import file_function as ff"
   ]
  },
  {
   "cell_type": "code",
   "execution_count": 3,
   "id": "77bd7e21",
   "metadata": {
    "ExecuteTime": {
     "end_time": "2022-07-07T04:23:13.376151Z",
     "start_time": "2022-07-07T04:23:13.361243Z"
    }
   },
   "outputs": [
    {
     "data": {
      "text/plain": [
       "'C:\\\\Users\\\\SL\\\\Desktop\\\\test'"
      ]
     },
     "execution_count": 3,
     "metadata": {},
     "output_type": "execute_result"
    }
   ],
   "source": [
    "##########작업 경로 설정하기 : 엑셀에서 미리 \\를 /로 바꿔서 입력할 것\n",
    "os.chdir(\"C:/Users/SL/Desktop/test\")\n",
    "path = os.getcwd()\n",
    "path"
   ]
  },
  {
   "cell_type": "code",
   "execution_count": 28,
   "id": "58e09944",
   "metadata": {
    "ExecuteTime": {
     "end_time": "2022-07-07T02:41:57.241606Z",
     "start_time": "2022-07-07T02:41:57.228697Z"
    }
   },
   "outputs": [],
   "source": [
    "f_d = \"D:/부산 정리/D_test\""
   ]
  },
  {
   "cell_type": "code",
   "execution_count": 39,
   "id": "ce32df22",
   "metadata": {
    "ExecuteTime": {
     "end_time": "2022-07-07T04:10:38.412216Z",
     "start_time": "2022-07-07T04:10:38.402142Z"
    }
   },
   "outputs": [],
   "source": [
    "z=\"/\""
   ]
  },
  {
   "cell_type": "code",
   "execution_count": 1,
   "id": "893fb543",
   "metadata": {
    "ExecuteTime": {
     "end_time": "2022-07-07T05:14:55.987684Z",
     "start_time": "2022-07-07T05:14:55.981893Z"
    }
   },
   "outputs": [],
   "source": [
    "###### 기타 확장자 별도 분리\n",
    "extension = ['.jpeg','.jpg','.bmp', '.gif', '.pdf', '.pnf', '.tif']\n",
    "\n",
    "# csv를 읽어올까? os.walk를 쓸까? \n",
    "# 별 상관은 없겠지만 파일명 작업을 먼저하는게 낫겠지?\n",
    "# 파일명 같으면 순서 매겨둘까? 경로는 안 적어도 될 듯. db같은 거 다 지울거니까\n",
    "\n",
    "\n"
   ]
  },
  {
   "cell_type": "code",
   "execution_count": null,
   "id": "c486badc",
   "metadata": {},
   "outputs": [],
   "source": []
  },
  {
   "cell_type": "code",
   "execution_count": null,
   "id": "fe573f3f",
   "metadata": {},
   "outputs": [],
   "source": []
  },
  {
   "cell_type": "code",
   "execution_count": null,
   "id": "0a4ceb24",
   "metadata": {},
   "outputs": [],
   "source": []
  },
  {
   "cell_type": "code",
   "execution_count": null,
   "id": "c1643b15",
   "metadata": {},
   "outputs": [],
   "source": []
  },
  {
   "cell_type": "code",
   "execution_count": null,
   "id": "08badfd5",
   "metadata": {},
   "outputs": [],
   "source": []
  },
  {
   "cell_type": "code",
   "execution_count": null,
   "id": "0e766b24",
   "metadata": {},
   "outputs": [],
   "source": []
  },
  {
   "cell_type": "code",
   "execution_count": 9,
   "id": "923a8a11",
   "metadata": {
    "ExecuteTime": {
     "end_time": "2022-07-07T01:58:15.489127Z",
     "start_time": "2022-07-07T01:58:15.468241Z"
    }
   },
   "outputs": [],
   "source": [
    "###### 1) 중복파일 덮어쓰기 \n",
    "#무조건 소스에서 목적지로 덮어 씀.\n",
    "\n",
    "for root, dirs, files in os.walk(os.getcwd()) :\n",
    "\n",
    "    for f in files :\n",
    "        f_s = root + z + f\n",
    "        f_d_f = f_d + z + f\n",
    "        shutil.copy2(f_s, f_d_f)\n",
    "        "
   ]
  },
  {
   "cell_type": "code",
   "execution_count": null,
   "id": "f37ef751",
   "metadata": {},
   "outputs": [],
   "source": [
    "###### 1) 중복파일 숫자증가시키며 저장\n",
    "def copy_move(f_s, f_d) : \n",
    "    os.chdir(f_s)\n",
    "    z=\"/\"\n",
    "    \n",
    "    for root, dirs, files in os.walk(f_s) :\n",
    "\n",
    "        for f in files :\n",
    "            i = 1\n",
    "            f_s_f = root + z + f\n",
    "            existing_f = f\n",
    "\n",
    "            while os.path.exists(f_d+\"\\\\\"+existing_f) :\n",
    "                only_name = os.path.splitext(f_s_f)[0]\n",
    "                if i == 1 :\n",
    "                    existing_f=os.path.splitext(f_s_f)[0]+\"(\"+str(i)+\")\"+os.path.splitext(f_s_f)[1]\n",
    "                    i += 1\n",
    "                else :\n",
    "                    existing_f = existing_f.split(\".\")\n",
    "                    existing_f=existing_f[0][0:-1]+str(i)+\".\"+existing_f[1]\n",
    "                    i += 1\n",
    "\n",
    "            f_d_final = f_d + \"\\\\\" + existing_f\n",
    "            shutil.copy2(f_s, f_d_final)\n",
    "\n",
    "            os.path.splitext(f_s_f)[0]"
   ]
  },
  {
   "cell_type": "code",
   "execution_count": 153,
   "id": "bb5a5c6f",
   "metadata": {
    "ExecuteTime": {
     "end_time": "2022-07-06T06:51:46.520002Z",
     "start_time": "2022-07-06T06:51:46.508259Z"
    }
   },
   "outputs": [],
   "source": [
    "###### 2) 중복파일의 경우 _숫자 증가시키면서 추가\n",
    "\n",
    "for root, dirs, files in os.walk(os.getcwd()) :\n",
    "\n",
    "    for f in files :\n",
    "        i = 1\n",
    "        f_s = root + \"\\\\\" + f\n",
    "        existing_f = f\n",
    "\n",
    "        while os.path.exists(f_d+\"\\\\\"+existing_f) :\n",
    "            if i == 1 :\n",
    "                existing_f = existing_f.split(\".\")\n",
    "                existing_f=existing_f[0]+\"_\"+str(i)+\".\"+existing_f[1]\n",
    "                i += 1\n",
    "            else :\n",
    "                existing_f = existing_f.split(\".\")\n",
    "                existing_f=existing_f[0][0:-1]+str(i)+\".\"+existing_f[1]\n",
    "                i += 1\n",
    "            \n",
    "        f_d_final = f_d + \"\\\\\" + existing_f\n",
    "        shutil.copy2(f_s, f_d_final)\n",
    "        \n",
    "        \n",
    "    "
   ]
  },
  {
   "cell_type": "code",
   "execution_count": null,
   "id": "b161e395",
   "metadata": {},
   "outputs": [],
   "source": []
  },
  {
   "cell_type": "code",
   "execution_count": null,
   "id": "2114713e",
   "metadata": {},
   "outputs": [],
   "source": [
    "if os.path.exists(f_d+\"\\\\\"+f) :\n",
    "            while os.path.exists\n",
    "            shutil.copy2(f_s, f_d+i)\n",
    "        else :\n",
    "            shutil.copy2(f_s, f_d)   ###copy는 복사한 시간으로 수정날짜, copy2는 기존파일 수정날짜 그대로"
   ]
  },
  {
   "cell_type": "code",
   "execution_count": 110,
   "id": "b84e52d0",
   "metadata": {
    "ExecuteTime": {
     "end_time": "2022-07-06T06:36:22.839378Z",
     "start_time": "2022-07-06T06:36:22.828844Z"
    }
   },
   "outputs": [
    {
     "name": "stdout",
     "output_type": "stream",
     "text": [
      "새 텍스트 문서_1.txt\n"
     ]
    }
   ],
   "source": [
    "f = \"새 텍스트 문서_1.txt\"\n",
    "f=f.split(\".\")\n",
    "af = f[0][0:-1]+str(1)+\".\"+f[1]\n",
    "print(af)"
   ]
  },
  {
   "cell_type": "code",
   "execution_count": 62,
   "id": "bad83f83",
   "metadata": {
    "ExecuteTime": {
     "end_time": "2022-07-06T05:50:02.544716Z",
     "start_time": "2022-07-06T05:50:02.528768Z"
    }
   },
   "outputs": [
    {
     "name": "stdout",
     "output_type": "stream",
     "text": [
      "4\n"
     ]
    }
   ],
   "source": [
    "b=1\n",
    "c=2\n",
    "a = b+c\n",
    "c+=1\n",
    "a = b+c\n",
    "print(a)"
   ]
  },
  {
   "cell_type": "code",
   "execution_count": 46,
   "id": "0cfc2071",
   "metadata": {
    "ExecuteTime": {
     "end_time": "2022-07-06T04:25:46.702832Z",
     "start_time": "2022-07-06T04:25:46.689431Z"
    }
   },
   "outputs": [
    {
     "name": "stderr",
     "output_type": "stream",
     "text": [
      "2it [00:00, 2007.80it/s]"
     ]
    },
    {
     "name": "stdout",
     "output_type": "stream",
     "text": [
      "2 2 2\n",
      "C:\\Users\\SL\\Downloads\\부산 공유폴더\\0. DNP_헬프\\3. 채권양도통지서\n",
      "['종적조회']\n",
      "['20414471 보증인 박명수 양도통지서.pdf', '20416759 윤종재 양도통지서.pdf', '20416834 이용일 양도통지서.pdf', '20419517 윤진수 양도통지서.pdf', '20457872 손균팔 양도통지서.pdf', 'X.txt']\n",
      "C:\\Users\\SL\\Downloads\\부산 공유폴더\\0. DNP_헬프\\3. 채권양도통지서\\종적조회\n",
      "[]\n",
      "['20411367 배명숙 종적조회.pdf', '20414471 보증인 박명수 종적조회.pdf', '20416759 윤종재 종적조회.png', '20416834 이용일 종적조회.pdf', '20416834 이용일 종적조회.png', '20419517 윤진수 종적조회.png', '20457872 손균팔 종적조회.pdf']\n"
     ]
    },
    {
     "name": "stderr",
     "output_type": "stream",
     "text": [
      "\n"
     ]
    }
   ],
   "source": [
    "# dirs, files는 리스트로 반환됨!!!!!!!!!\n",
    "# dirs는 필요없고 root와 files만 있으면 전체경로 됨\n",
    "# dirs와 files 일단 화면에 있는 것을 다 읽고,(정렬순서상dir을 먼저 읽은)하위폴더 들어가서 읽고.. 이래 함.\n",
    "i = 0\n",
    "d = []\n",
    "r= []\n",
    "f = []\n",
    "for root, dirs, files in tqdm(os.walk(os.getcwd())):\n",
    "    r.append(root)\n",
    "    d.append(dirs)\n",
    "    f.append(files)\n",
    "        \n",
    "print(len(r), len(d), len(f))\n",
    "        \n",
    "print(r[0])\n",
    "print(d[0])\n",
    "print(f[0])\n",
    "print(r[1])\n",
    "print(d[1])\n",
    "print(f[1])\n",
    "        \n",
    "    "
   ]
  },
  {
   "cell_type": "code",
   "execution_count": null,
   "id": "0a3a8606",
   "metadata": {},
   "outputs": [],
   "source": [
    "\n",
    "    "
   ]
  },
  {
   "cell_type": "code",
   "execution_count": null,
   "id": "97997151",
   "metadata": {},
   "outputs": [],
   "source": [
    "print(root_list[1])\n",
    "print(dirs_list[1])\n",
    "print(files_list[1])"
   ]
  },
  {
   "cell_type": "code",
   "execution_count": null,
   "id": "4ce044af",
   "metadata": {},
   "outputs": [],
   "source": [
    "report_ext = [\".hwp\", \".docx\", \".pptx\"]\n",
    "img_ext = [\".png\", \".jpg\", \".svg\"]\n",
    "src_dir = \"downloads\"\n",
    "dst_dir = \"usb\"\n",
    "\n",
    "for path, dirs, files in os.walk(src_dir):\n",
    "    for file in files:\n",
    "        file_path = os.path.join(src_dir, file)\n",
    "        file_name, file_extension = os.path.splitext(file)\n",
    "\n",
    "        if file_extension in report_ext:\n",
    "            new_path = os.path.join(dst_dir, \"docs\", file)\n",
    "            shutil.copy(file_path, new_path)\n",
    "            print(\"{} -> docs로 복사\".format(file))\n",
    "            \n",
    "        elif file_extension in img_ext:\n",
    "            if \"screenshot\" in file_name:\n",
    "                new_path = os.path.join(dst_dir, \"screenshots\", file)\n",
    "                shutil.copy(file_path, new_path)\n",
    "                print(\"{} -> screenshots로 복사\".format(file))\n",
    "            else:\n",
    "                new_path = os.path.join(dst_dir, \"images\", file)\n",
    "                shutil.copy(file_path, new_path)\n",
    "                print(\"{} -> images로 복사\".format(file))\n",
    "        else:\n",
    "            new_path = os.path.join(dst_dir, \"etc\", file)\n",
    "            shutil.copy(file_path, new_path)\n",
    "            print(\"{} -> etc로 복사\".format(file))​"
   ]
  },
  {
   "cell_type": "code",
   "execution_count": null,
   "id": "86076e72",
   "metadata": {},
   "outputs": [],
   "source": []
  },
  {
   "cell_type": "code",
   "execution_count": null,
   "id": "5171a2be",
   "metadata": {},
   "outputs": [],
   "source": []
  },
  {
   "cell_type": "code",
   "execution_count": null,
   "id": "695c388c",
   "metadata": {},
   "outputs": [],
   "source": []
  },
  {
   "cell_type": "code",
   "execution_count": null,
   "id": "20e449f5",
   "metadata": {},
   "outputs": [],
   "source": []
  },
  {
   "cell_type": "code",
   "execution_count": null,
   "id": "8cfbad00",
   "metadata": {},
   "outputs": [],
   "source": []
  },
  {
   "cell_type": "code",
   "execution_count": null,
   "id": "49039da9",
   "metadata": {},
   "outputs": [],
   "source": []
  }
 ],
 "metadata": {
  "hide_input": false,
  "kernelspec": {
   "display_name": "Python 3 (ipykernel)",
   "language": "python",
   "name": "python3"
  },
  "language_info": {
   "codemirror_mode": {
    "name": "ipython",
    "version": 3
   },
   "file_extension": ".py",
   "mimetype": "text/x-python",
   "name": "python",
   "nbconvert_exporter": "python",
   "pygments_lexer": "ipython3",
   "version": "3.9.12"
  },
  "toc": {
   "base_numbering": 1,
   "nav_menu": {},
   "number_sections": true,
   "sideBar": true,
   "skip_h1_title": false,
   "title_cell": "Table of Contents",
   "title_sidebar": "Contents",
   "toc_cell": false,
   "toc_position": {},
   "toc_section_display": true,
   "toc_window_display": false
  },
  "varInspector": {
   "cols": {
    "lenName": 16,
    "lenType": 16,
    "lenVar": 40
   },
   "kernels_config": {
    "python": {
     "delete_cmd_postfix": "",
     "delete_cmd_prefix": "del ",
     "library": "var_list.py",
     "varRefreshCmd": "print(var_dic_list())"
    },
    "r": {
     "delete_cmd_postfix": ") ",
     "delete_cmd_prefix": "rm(",
     "library": "var_list.r",
     "varRefreshCmd": "cat(var_dic_list()) "
    }
   },
   "position": {
    "height": "470.844px",
    "left": "687px",
    "right": "20px",
    "top": "113px",
    "width": "339px"
   },
   "types_to_exclude": [
    "module",
    "function",
    "builtin_function_or_method",
    "instance",
    "_Feature"
   ],
   "window_display": false
  }
 },
 "nbformat": 4,
 "nbformat_minor": 5
}
