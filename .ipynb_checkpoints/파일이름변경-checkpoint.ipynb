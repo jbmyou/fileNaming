{
 "cells": [
  {
   "cell_type": "code",
   "execution_count": 2,
   "id": "e852d827",
   "metadata": {
    "ExecuteTime": {
     "end_time": "2022-07-06T05:21:07.300210Z",
     "start_time": "2022-07-06T05:21:07.287110Z"
    }
   },
   "outputs": [],
   "source": [
    "import os\n",
    "import shutil\n",
    "from tqdm import tqdm"
   ]
  },
  {
   "cell_type": "code",
   "execution_count": 3,
   "id": "6b651243",
   "metadata": {
    "ExecuteTime": {
     "end_time": "2022-07-06T05:21:09.090804Z",
     "start_time": "2022-07-06T05:21:09.078767Z"
    }
   },
   "outputs": [
    {
     "data": {
      "text/plain": [
       "'C:\\\\Users\\\\SL\\\\Desktop\\\\test'"
      ]
     },
     "execution_count": 3,
     "metadata": {},
     "output_type": "execute_result"
    }
   ],
   "source": [
    "##########작업 경로 설정하기 : 엑셀에서 미리 \\를 /로 바꿔서 입력할 것\n",
    "os.chdir(\"C:/Users/SL/Downloads/부산 공유폴더\")\n",
    "os.getcwd()"
   ]
  },
  {
   "cell_type": "code",
   "execution_count": 6,
   "id": "338bfa3c",
   "metadata": {
    "ExecuteTime": {
     "end_time": "2022-07-06T05:24:30.339918Z",
     "start_time": "2022-07-06T05:24:30.324268Z"
    }
   },
   "outputs": [],
   "source": [
    "for root, dirs, files in os.walk(os.getcwd()) :\n",
    "\n",
    "    for f in files :\n",
    "        f_s = root + \"\\\\\" + f\n",
    "        f_d = root + \"\\\\\" + f.strip().replace(\" \",\"_\")\n",
    "        os.rename(f_s, f_d)\n",
    "    "
   ]
  },
  {
   "cell_type": "code",
   "execution_count": null,
   "id": "644ef4ca",
   "metadata": {},
   "outputs": [],
   "source": []
  },
  {
   "cell_type": "code",
   "execution_count": null,
   "id": "aaaacf9d",
   "metadata": {},
   "outputs": [],
   "source": []
  },
  {
   "cell_type": "code",
   "execution_count": null,
   "id": "5e6d9a82",
   "metadata": {},
   "outputs": [],
   "source": []
  }
 ],
 "metadata": {
  "hide_input": false,
  "kernelspec": {
   "display_name": "Python 3 (ipykernel)",
   "language": "python",
   "name": "python3"
  },
  "language_info": {
   "codemirror_mode": {
    "name": "ipython",
    "version": 3
   },
   "file_extension": ".py",
   "mimetype": "text/x-python",
   "name": "python",
   "nbconvert_exporter": "python",
   "pygments_lexer": "ipython3",
   "version": "3.9.12"
  },
  "toc": {
   "base_numbering": 1,
   "nav_menu": {},
   "number_sections": true,
   "sideBar": true,
   "skip_h1_title": false,
   "title_cell": "Table of Contents",
   "title_sidebar": "Contents",
   "toc_cell": false,
   "toc_position": {},
   "toc_section_display": true,
   "toc_window_display": false
  },
  "varInspector": {
   "cols": {
    "lenName": 16,
    "lenType": 16,
    "lenVar": 40
   },
   "kernels_config": {
    "python": {
     "delete_cmd_postfix": "",
     "delete_cmd_prefix": "del ",
     "library": "var_list.py",
     "varRefreshCmd": "print(var_dic_list())"
    },
    "r": {
     "delete_cmd_postfix": ") ",
     "delete_cmd_prefix": "rm(",
     "library": "var_list.r",
     "varRefreshCmd": "cat(var_dic_list()) "
    }
   },
   "types_to_exclude": [
    "module",
    "function",
    "builtin_function_or_method",
    "instance",
    "_Feature"
   ],
   "window_display": false
  }
 },
 "nbformat": 4,
 "nbformat_minor": 5
}
