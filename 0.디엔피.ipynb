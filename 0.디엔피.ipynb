{
 "cells": [
  {
   "cell_type": "markdown",
   "metadata": {},
   "source": [
    "### pathlib 의 Path\n",
    "from pathlib import Path\n",
    "\n",
    "os.chdir(path)\n",
    "file_list = os.listdir(path)\n",
    "\n",
    "for f in file_list :\n",
    "  fullname = Path(Path.cwd() / f)\n",
    "\n",
    "  fullname : C:\\Users\\SL\\Desktop\\test\\20411362_원상철_2010가소2105_승계집행문.pdf  \n",
    "  fullname.name : 20411362_원상철_2010가소2105_승계집행문.pdf  \n",
    "  fullname.stem : 20411362_원상철_2010가소2105_승계집행문  \n",
    "  fullname.suffix : .pdf  \n",
    "  fullname.anchor : C:\\  \n",
    "- 새 파일/폴더를 만들때 fullname.joinpath(\"폴더1\",\"폴더2\")"
   ]
  },
  {
   "cell_type": "code",
   "execution_count": 1,
   "metadata": {},
   "outputs": [],
   "source": [
    "import os\n",
    "import shutil\n",
    "import time\n",
    "import pandas as pd\n",
    "from tqdm.notebook import tqdm\n",
    "import re\n",
    "from pathlib import Path\n",
    "import file_function as ff\n",
    "import traceback\n"
   ]
  },
  {
   "cell_type": "code",
   "execution_count": 16,
   "metadata": {},
   "outputs": [
    {
     "name": "stderr",
     "output_type": "stream",
     "text": [
      "1it [00:00, 334.42it/s]\n"
     ]
    }
   ],
   "source": [
    "##### 공백 정리\n",
    "path = r'C:\\Users\\SL\\Downloads\\부산 공유폴더\\0. DNP_헬프\\6. 판결문'\n",
    "ff.change_spaceTo_(path)"
   ]
  },
  {
   "cell_type": "code",
   "execution_count": 14,
   "metadata": {},
   "outputs": [
    {
     "name": "stdout",
     "output_type": "stream",
     "text": [
      "12 개의 파일 이름 변경 완료\n"
     ]
    }
   ],
   "source": [
    "##### 단순 이동 + 넘버링 리뉴얼\n",
    "path = r'D:\\1.다운로드\\부산 공유폴더\\3. (9008) 더키움자산관리대부_헬프\\11. 결정등본'\n",
    "f_d = r'D:\\부산 정리\\더키움자산관리대부'\n",
    "ff.move_plus(path, f_d)"
   ]
  },
  {
   "cell_type": "code",
   "execution_count": 16,
   "metadata": {},
   "outputs": [
    {
     "name": "stdout",
     "output_type": "stream",
     "text": [
      "p2\n",
      "20407851_이미선_원인서류.pdf\n",
      "p1\n",
      "20407851_이미선_원인서류.pdf\n",
      "20407851_이미선_원인서류\n"
     ]
    }
   ],
   "source": [
    "file_list = ['20407851_이미선_원인서류(1)(1)(1).pdf', '20407851_이미선_원인서류_(1).pdf', '20407851_이미선_원인서류']\n",
    "for f in file_list:\n",
    "    new_name = f\n",
    "            \n",
    "    p1 = re.compile(r'_\\(\\d\\)')\n",
    "    p2 = re.compile(r'\\(\\d\\)')\n",
    "\n",
    "    # 원래 있던 넘버링이 있는 경우 지우고 새로 시작\n",
    "    if p1.search(new_name) :\n",
    "        new_name = p1.sub(\"\", new_name)\n",
    "        print(\"p1\")\n",
    "    if p2.search(new_name) :\n",
    "        new_name = p2.sub(\"\", new_name)\n",
    "        print(\"p2\")\n",
    "        \n",
    "    new_name = re.sub('_{2,}', '_', new_name)\n",
    "        \n",
    "    print(new_name)\n"
   ]
  },
  {
   "cell_type": "code",
   "execution_count": 31,
   "metadata": {},
   "outputs": [
    {
     "data": {
      "application/vnd.jupyter.widget-view+json": {
       "model_id": "026d3bad7065451f9bc3d851b5c78c98",
       "version_major": 2,
       "version_minor": 0
      },
      "text/plain": [
       "0it [00:00, ?it/s]"
      ]
     },
     "metadata": {},
     "output_type": "display_data"
    }
   ],
   "source": [
    "path = r'D:\\부산 정리\\산은캐피탈'\n",
    "ff.change_spaceTo_(path)"
   ]
  },
  {
   "cell_type": "code",
   "execution_count": 36,
   "metadata": {},
   "outputs": [
    {
     "data": {
      "application/vnd.jupyter.widget-view+json": {
       "model_id": "8459b59cbf50409297c545fc9dace0d6",
       "version_major": 2,
       "version_minor": 0
      },
      "text/plain": [
       "0it [00:00, ?it/s]"
      ]
     },
     "metadata": {},
     "output_type": "display_data"
    }
   ],
   "source": [
    "#양도통지서 -> 채권양도통지서\n",
    "path = r'D:\\부산 정리'\n",
    "os.chdir(path)\n",
    "\n",
    "for a, b, files in tqdm(os.walk(path), desc=\"바깥\") : \n",
    "\n",
    "    for f in tqdm(files, desc=\"안\") : \n",
    "        changed = False\n",
    "        new_name = f\n",
    "        if re.search(\"양도통지서\", new_name) :\n",
    "            new_name = re.sub(\"양도통지서\", \"채권양도통지서\", new_name)\n",
    "            changed = True\n",
    "\n",
    "        if changed :\n",
    "            os.rename(a + \"/\" + f, a + \"/\" + new_name)\n",
    "\n",
    "os.chdir('c:/')"
   ]
  },
  {
   "cell_type": "code",
   "execution_count": 2,
   "metadata": {},
   "outputs": [
    {
     "data": {
      "application/vnd.jupyter.widget-view+json": {
       "model_id": "005ae7cd381d4e04a8f7e3ae6107e53b",
       "version_major": 2,
       "version_minor": 0
      },
      "text/plain": [
       "  0%|          | 0/43721 [00:00<?, ?it/s]"
      ]
     },
     "metadata": {},
     "output_type": "display_data"
    },
    {
     "name": "stdout",
     "output_type": "stream",
     "text": [
      "43720 개의 파일 이름 변경 완료\n"
     ]
    }
   ],
   "source": []
  },
  {
   "cell_type": "code",
   "execution_count": 3,
   "metadata": {},
   "outputs": [
    {
     "ename": "NameError",
     "evalue": "name 'ff' is not defined",
     "output_type": "error",
     "traceback": [
      "\u001b[1;31m---------------------------------------------------------------------------\u001b[0m",
      "\u001b[1;31mNameError\u001b[0m                                 Traceback (most recent call last)",
      "\u001b[1;32md:\\workspace\\python_work\\0.디엔피.ipynb 셀 9\u001b[0m in \u001b[0;36m<cell line: 2>\u001b[1;34m()\u001b[0m\n\u001b[0;32m      <a href='vscode-notebook-cell:/d%3A/workspace/python_work/0.%EB%94%94%EC%97%94%ED%94%BC.ipynb#ch0000009?line=0'>1</a>\u001b[0m path \u001b[39m=\u001b[39m \u001b[39mr\u001b[39m\u001b[39m'\u001b[39m\u001b[39mDD:\u001b[39m\u001b[39m\\\u001b[39m\u001b[39m부산 정리\u001b[39m\u001b[39m\\\u001b[39m\u001b[39mKB국민카드\u001b[39m\u001b[39m'\u001b[39m\n\u001b[1;32m----> <a href='vscode-notebook-cell:/d%3A/workspace/python_work/0.%EB%94%94%EC%97%94%ED%94%BC.ipynb#ch0000009?line=1'>2</a>\u001b[0m ff\u001b[39m.\u001b[39mfinal_check(path)\n",
      "\u001b[1;31mNameError\u001b[0m: name 'ff' is not defined"
     ]
    }
   ],
   "source": []
  },
  {
   "cell_type": "code",
   "execution_count": 16,
   "metadata": {},
   "outputs": [
    {
     "name": "stdout",
     "output_type": "stream",
     "text": [
      "0\n",
      "1\n",
      "2\n",
      "3\n",
      "4\n",
      "5\n",
      "6\n",
      "7\n",
      "8\n",
      "9\n"
     ]
    }
   ],
   "source": [
    "a = 6\n",
    "for i in range(10) :\n",
    "    print(i)\n",
    "    if a % 2 == 0 :\n",
    "        pass\n",
    "    elif a % 3 == 0 :\n",
    "        print(\"3의배수\")"
   ]
  },
  {
   "cell_type": "code",
   "execution_count": 23,
   "metadata": {},
   "outputs": [
    {
     "data": {
      "text/plain": [
       "<re.Match object; span=(0, 3), match='판결문'>"
      ]
     },
     "execution_count": 23,
     "metadata": {},
     "output_type": "execute_result"
    }
   ],
   "source": [
    "str = \"판결문\"\n",
    "re.search(\"(양도통지서|판결문)\", str)"
   ]
  },
  {
   "cell_type": "code",
   "execution_count": 27,
   "metadata": {},
   "outputs": [
    {
     "name": "stderr",
     "output_type": "stream",
     "text": [
      "0it [02:42, ?it/s]\n"
     ]
    },
    {
     "ename": "FileExistsError",
     "evalue": "[WinError 183] 파일이 이미 있으므로 만들 수 없습니다: 'D:\\\\부산 정리\\\\더키움자산관리대부\\\\20427730_서정국__초본.pdf' -> 'D:\\\\부산 정리\\\\더키움자산관리대부\\\\20427730_서정국_초본.pdf'",
     "output_type": "error",
     "traceback": [
      "\u001b[1;31m---------------------------------------------------------------------------\u001b[0m",
      "\u001b[1;31mFileExistsError\u001b[0m                           Traceback (most recent call last)",
      "\u001b[1;32md:\\workspace\\python_work\\0.디엔피.ipynb 셀 7\u001b[0m in \u001b[0;36m<cell line: 8>\u001b[1;34m()\u001b[0m\n\u001b[0;32m     <a href='vscode-notebook-cell:/d%3A/workspace/python_work/0.%EB%94%94%EC%97%94%ED%94%BC.ipynb#ch0000012?line=12'>13</a>\u001b[0m f_s \u001b[39m=\u001b[39m root \u001b[39m+\u001b[39m \u001b[39m\"\u001b[39m\u001b[39m\\\\\u001b[39;00m\u001b[39m\"\u001b[39m \u001b[39m+\u001b[39m f\n\u001b[0;32m     <a href='vscode-notebook-cell:/d%3A/workspace/python_work/0.%EB%94%94%EC%97%94%ED%94%BC.ipynb#ch0000012?line=13'>14</a>\u001b[0m f_d \u001b[39m=\u001b[39m root \u001b[39m+\u001b[39m \u001b[39m\"\u001b[39m\u001b[39m\\\\\u001b[39;00m\u001b[39m\"\u001b[39m \u001b[39m+\u001b[39m f_a\n\u001b[1;32m---> <a href='vscode-notebook-cell:/d%3A/workspace/python_work/0.%EB%94%94%EC%97%94%ED%94%BC.ipynb#ch0000012?line=14'>15</a>\u001b[0m os\u001b[39m.\u001b[39;49mrename(f_s, f_d)\n\u001b[0;32m     <a href='vscode-notebook-cell:/d%3A/workspace/python_work/0.%EB%94%94%EC%97%94%ED%94%BC.ipynb#ch0000012?line=15'>16</a>\u001b[0m index \u001b[39m+\u001b[39m\u001b[39m=\u001b[39m \u001b[39m1\u001b[39m\n\u001b[0;32m     <a href='vscode-notebook-cell:/d%3A/workspace/python_work/0.%EB%94%94%EC%97%94%ED%94%BC.ipynb#ch0000012?line=16'>17</a>\u001b[0m time\u001b[39m.\u001b[39msleep(\u001b[39m0.001\u001b[39m)\n",
      "\u001b[1;31mFileExistsError\u001b[0m: [WinError 183] 파일이 이미 있으므로 만들 수 없습니다: 'D:\\\\부산 정리\\\\더키움자산관리대부\\\\20427730_서정국__초본.pdf' -> 'D:\\\\부산 정리\\\\더키움자산관리대부\\\\20427730_서정국_초본.pdf'"
     ]
    }
   ],
   "source": [
    "import time\n",
    "from tqdm import tqdm\n",
    "import re\n",
    "\n",
    "s = r'D:\\부산 정리\\대산대부'\n",
    "os.chdir(s)\n",
    "index = 0\n",
    "file_list = os.listdir(s)\n",
    "for root, __dirs__, files in tqdm(file_list) :\n",
    "\n",
    "    for f in files :\n",
    "        f_a = re.sub('_{2,}', '_', f)\n",
    "        \n",
    "        \n",
    "        f_d = root + \"\\\\\" + f_a\n",
    "        os.rename(f, f_d)\n",
    "        index += 1\n",
    "        time.sleep(0.001)\n",
    "print(index, \"개 완료\")"
   ]
  },
  {
   "cell_type": "code",
   "execution_count": 20,
   "metadata": {},
   "outputs": [],
   "source": [
    "##### 법원 문서 파일명 정리된 것\n",
    "#[시작]##########################################################\n",
    "# 사건번호 지우고, 기타 정보 살리기\n",
    "########################\n",
    "path = r'D:\\1.다운로드\\부산 공유폴더\\4. (9013) KB국민카드_솔림헬프\\5. 승계집행문\\판결문'\n",
    "f_d = r\"D:\\부산 정리\\KB국민카드\"\n",
    "docu_kind = \"판결문\" # 문서종류\n",
    "etc_info = [\"재도\", \"확정증명원\", \"보증인\"] # 기타정보 있는 경우\n",
    "\n",
    "########################\n"
   ]
  },
  {
   "cell_type": "code",
   "execution_count": 21,
   "metadata": {},
   "outputs": [
    {
     "name": "stdout",
     "output_type": "stream",
     "text": [
      "34 개의 파일 이름 변경 완료\n"
     ]
    }
   ],
   "source": [
    "#원본에 _1, _2.. 이런 파일 있어도 문제 없음\n",
    "os.chdir(path)\n",
    "file_list = os.listdir(path)\n",
    "_ = '_'\n",
    "index = 0\n",
    "\n",
    "for f in file_list:\n",
    "    # 새 파일명 만들기\n",
    "    fullname = Path(Path.cwd() / f)  # 경로+파일명+확장자\n",
    "    splitname = fullname.stem.split('_')  # _로 쪼개기(배열)\n",
    "   \n",
    "#기타정보 있는지 체크하기\n",
    "    etc_str = \"\" #for문 벗어나면 안 돼!!!\n",
    "    for e in etc_info :\n",
    "        if re.search(e, fullname.stem):\n",
    "            etc_str += ( _ + e )\n",
    "            # 기타정보 여러개일 수 있으니 여기서 break는 걸지 않는다.\n",
    "        else:\n",
    "            continue\n",
    "\n",
    "#파일명 작성\n",
    "    new_name = splitname[0] + _ + splitname[1] + \\\n",
    "                _ + docu_kind + etc_str + fullname.suffix\n",
    "    \n",
    "#이름 같은 파일은 넘버링\n",
    "    temp = Path(f_d + \"/\"+ new_name) #넘버링 없는 상태라 문제없음\n",
    "    i = 1\n",
    "    while os.path.exists(f_d+\"/\"+new_name): # os.path는 무조건 경로를 매개변수로..작업디렉토리가 아니므로 풀경로, new_name이 매개변수에 포함되어야 함!\n",
    "        new_name = temp.stem + _ +\"(\"+str(i)+\")\"+temp.suffix\n",
    "        i += 1\n",
    "                    \n",
    "    f_d_final = f_d + \"/\" + new_name\n",
    "    shutil.move(f, f_d_final)\n",
    "    index += 1\n",
    "\n",
    "print(index, \"개의 파일 이름 변경 완료\")\n",
    "os.chdir('C:/') # 작업디렉토리 옮겨줘야 폴더 삭제 가능\n",
    "#[끝]##########################################################"
   ]
  },
  {
   "cell_type": "code",
   "execution_count": 43,
   "metadata": {},
   "outputs": [],
   "source": [
    "os.chdir('C:/')"
   ]
  },
  {
   "cell_type": "code",
   "execution_count": 11,
   "metadata": {},
   "outputs": [],
   "source": [
    "##### 등초본 정리된 파일명\n",
    "#[시작]##########################################################\n",
    "# 0) 보증인 옮기기 - 파일네이머로 해도 좋다.\n",
    "# 1) 날짜지우기\n",
    "#   파일명 같아도 모두 저장(변경되어서 예전 파일이 필요할 때가 있다.)\n",
    "########################\n",
    "path = r'D:\\1.다운로드\\부산 공유폴더\\3. (9008) 더키움자산관리대부_헬프\\4. 승계집행문\\지급명령'\n",
    "f_d = r\"D:\\부산 정리\\더키움자산관리대부\"\n",
    "########################"
   ]
  },
  {
   "cell_type": "code",
   "execution_count": 12,
   "metadata": {},
   "outputs": [
    {
     "name": "stdout",
     "output_type": "stream",
     "text": [
      "30 개의 파일 이름 변경 완료\n"
     ]
    }
   ],
   "source": [
    "os.chdir(path)\n",
    "file_list = os.listdir(path)\n",
    "_ = '_'\n",
    "index = 0\n",
    "\n",
    "for f in file_list:\n",
    "    # 날짜 지우기\n",
    "    new_name = re.sub(r\"_\\d\\d\\d\\d.\\d\\d.\\d\\d\", \"\", f)\n",
    "\n",
    "    f_d_final = f_d + \"/\"+ new_name\n",
    "    temp = Path(f_d_final)\n",
    "\n",
    "## 파일명 같은 경우 넘버링 #날짜가 있어서 stem에 넘버링이 따로 없다.\n",
    "    i = 1\n",
    "    while os.path.exists(f_d+\"/\"+new_name): # 작업디렉토리가 아니므로 풀경로, new_name이 매개변수에 포함되어야 함!\n",
    "        new_name = temp.stem + _ +\"(\"+str(i)+\")\"+temp.suffix\n",
    "        i += 1\n",
    "            \n",
    "    f_d_final = f_d + \"/\" + new_name\n",
    "    shutil.move(f, f_d_final)\n",
    "    index += 1\n",
    "\n",
    "## 최신본만 남기는 경우\n",
    "    # if temp.exists() :\n",
    "    #     r = os.path.getmtime(f)\n",
    "    #     d = os.path.getmtime(f_d_final)\n",
    "        \n",
    "    #     print(f, r,\"    \", d)\n",
    "        \n",
    "    #     if r > d :  # 숫자가 클수록 최신\n",
    "    #         shutil.move(f, f_d_final)\n",
    "    #     else :\n",
    "    #         os.remove(f)\n",
    "    # else :\n",
    "    #     shutil.move(f, f_d_final)\n",
    "    # index += 1\n",
    "\n",
    "print(index, \"개의 파일 이름 변경 완료\")\n",
    "os.chdir('C:/') # 작업디렉토리 옮겨줘야 폴더 삭제 가능\n",
    "#[끝]##########################################################"
   ]
  },
  {
   "cell_type": "code",
   "execution_count": 15,
   "metadata": {},
   "outputs": [
    {
     "name": "stdout",
     "output_type": "stream",
     "text": [
      "189\n"
     ]
    }
   ],
   "source": [
    "#[시작]##########################################################\n",
    "#지급명령(차전)/판결문,이행권고,화해권고(가~) 분류하기\n",
    "path = r'D:\\1.다운로드\\부산 공유폴더\\4. (9013) KB국민카드_솔림헬프\\5. 승계집행문'\n",
    "f_d = r'D:\\1.다운로드\\부산 공유폴더\\4. (9013) KB국민카드_솔림헬프\\5. 승계집행문\\지급명령'\n",
    "os.chdir(path)\n",
    "file_list = os.listdir(path)\n",
    "p1 = re.compile(r'\\d+차')\n",
    "index = 0\n",
    "for f in file_list :\n",
    "    if p1.search(f) :\n",
    "        new_name = f\n",
    "        f_d_final = f_d + \"/\"+ new_name\n",
    "        temp = Path(f_d_final)\n",
    "\n",
    "    ## 파일명 같은 경우 넘버링 #날짜가 있어서 stem에 넘버링이 따로 없다.\n",
    "        i = 1\n",
    "        while os.path.exists(f_d+\"/\"+new_name): # 작업디렉토리가 아니므로 풀경로, new_name이 매개변수에 포함되어야 함!\n",
    "            new_name = temp.stem + _ +\"(\"+str(i)+\")\"+temp.suffix\n",
    "            i += 1\n",
    "                \n",
    "        f_d_final = f_d + \"/\" + new_name\n",
    "        shutil.move(f, f_d_final)\n",
    "        index += 1\n",
    "print(index)"
   ]
  }
 ],
 "metadata": {
  "kernelspec": {
   "display_name": "Python 3.9.12 ('base')",
   "language": "python",
   "name": "python3"
  },
  "language_info": {
   "codemirror_mode": {
    "name": "ipython",
    "version": 3
   },
   "file_extension": ".py",
   "mimetype": "text/x-python",
   "name": "python",
   "nbconvert_exporter": "python",
   "pygments_lexer": "ipython3",
   "version": "3.9.12"
  },
  "orig_nbformat": 4,
  "vscode": {
   "interpreter": {
    "hash": "38d617750889899e5f2f65cac6f27a322f361a63d334879a800ee5491961f90c"
   }
  }
 },
 "nbformat": 4,
 "nbformat_minor": 2
}
