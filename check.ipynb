{
 "cells": [
  {
   "cell_type": "code",
   "execution_count": 1,
   "metadata": {},
   "outputs": [],
   "source": [
    "import os\n",
    "import shutil\n",
    "import time\n",
    "import pandas as pd\n",
    "from tqdm.notebook import tqdm      #tqdm(filelist, total = len(filelist), position=0, leave=True)\n",
    "import re\n",
    "from pathlib import Path\n",
    "import traceback\n",
    "from os.path import join\n",
    "import file_function as ff\n",
    "import schedule"
   ]
  },
  {
   "cell_type": "code",
   "execution_count": 56,
   "metadata": {},
   "outputs": [],
   "source": [
    "path = r'C:\\Users\\jbmyo\\Desktop\\test'\n",
    "os.chdir(path)\n",
    "file_list = [f.name for f in os.scandir(path) if f.is_file()]\n",
    "cnt = 0\n",
    "\n",
    "docu_kind = r'원인서류|양도통지서[\\s]?[\\d]?[차]?|집행권원[\\s]?[재]?[도]?|집행권원 재도|집행권원재도|강제집행|등본|초본|외국인증명|개인회생|신용회복|파산|재산조사|기타'\n",
    "\n",
    "p_basic = re.compile(r'([\\d]{8})([\\D]+)('+docu_kind+')')\n",
    "p_event = re.compile(r\"[\\D]([\\d]{4}[ㄱ-ㅎ가-힣]{1,3}[0-9]+)\")\n"
   ]
  },
  {
   "cell_type": "code",
   "execution_count": 57,
   "metadata": {},
   "outputs": [
    {
     "name": "stdout",
     "output_type": "stream",
     "text": [
      "2 개의 파일 이동 완료\n"
     ]
    }
   ],
   "source": [
    "for f in file_list :\n",
    "    try :\n",
    "        stem = os.path.splitext(f)[0]\n",
    "        ext = os.path.splitext(f)[1]\n",
    "        basic = p_basic.match(stem)\n",
    "        \n",
    "        key = basic.group(1)\n",
    "        name = basic.group(2).strip()\n",
    "        docu = basic.group(3)\n",
    "        \n",
    "        if p_event.search(stem) :\n",
    "            temp_event = p_event.search(stem)\n",
    "            event = temp_event.group()\n",
    "            extra = stem[temp_event.end():].strip().replace(\" \", \"_\")\n",
    "        else :\n",
    "            extra = stem[basic.end():].strip().replace(\" \", \"_\")\n",
    "\n",
    "        if extra :\n",
    "            name_items = [key, name, docu, event, extra]\n",
    "        else :\n",
    "            name_items = [key, name, docu, event]\n",
    "\n",
    "        new_name = \"_\".join(name_items)+ext\n",
    "        new_name = re.sub(\"[_]{2,}\", \"_\", new_name)\n",
    "        \n",
    "        shutil.move(f, join(path, \"최종변경 완료\",new_name))\n",
    "        cnt += 1\n",
    "    except :\n",
    "        print(traceback.format_exc())\n",
    "        continue\n",
    "\n",
    "print(cnt, \"개의 파일 이동 완료\")"
   ]
  },
  {
   "cell_type": "code",
   "execution_count": 2,
   "metadata": {},
   "outputs": [
    {
     "name": "stdout",
     "output_type": "stream",
     "text": [
      "0\n",
      "1\n",
      "스케쥴 실행중...\n",
      "2\n",
      "3\n",
      "스케쥴 실행중...\n",
      "4\n",
      "5\n",
      "스케쥴 실행중...\n",
      "6\n",
      "7\n",
      "스케쥴 실행중...\n",
      "8\n",
      "9\n",
      "스케쥴 실행중...\n",
      "10\n",
      "11\n"
     ]
    },
    {
     "ename": "KeyboardInterrupt",
     "evalue": "",
     "output_type": "error",
     "traceback": [
      "\u001b[1;31m---------------------------------------------------------------------------\u001b[0m",
      "\u001b[1;31mKeyboardInterrupt\u001b[0m                         Traceback (most recent call last)",
      "\u001b[1;32md:\\workspace\\old_fileNaming\\check.ipynb 셀 4\u001b[0m in \u001b[0;36m<cell line: 6>\u001b[1;34m()\u001b[0m\n\u001b[0;32m      <a href='vscode-notebook-cell:/d%3A/workspace/old_fileNaming/check.ipynb#X25sZmlsZQ%3D%3D?line=6'>7</a>\u001b[0m \u001b[39mprint\u001b[39m(i)\n\u001b[0;32m      <a href='vscode-notebook-cell:/d%3A/workspace/old_fileNaming/check.ipynb#X25sZmlsZQ%3D%3D?line=7'>8</a>\u001b[0m i \u001b[39m+\u001b[39m\u001b[39m=\u001b[39m \u001b[39m1\u001b[39m\n\u001b[1;32m----> <a href='vscode-notebook-cell:/d%3A/workspace/old_fileNaming/check.ipynb#X25sZmlsZQ%3D%3D?line=8'>9</a>\u001b[0m time\u001b[39m.\u001b[39;49msleep(\u001b[39m1\u001b[39;49m)\n",
      "\u001b[1;31mKeyboardInterrupt\u001b[0m: "
     ]
    }
   ],
   "source": [
    "i = 0\n",
    "def message():\n",
    "    print(\"스케쥴 실행중...\")\n",
    "schedule.every(2).seconds.do(message)\n",
    "while True:\n",
    "    schedule.run_pending()\n",
    "    print(i)\n",
    "    i += 1\n",
    "    time.sleep(1)\n"
   ]
  },
  {
   "cell_type": "code",
   "execution_count": null,
   "metadata": {},
   "outputs": [],
   "source": []
  },
  {
   "cell_type": "code",
   "execution_count": null,
   "metadata": {},
   "outputs": [],
   "source": []
  },
  {
   "cell_type": "code",
   "execution_count": null,
   "metadata": {},
   "outputs": [],
   "source": []
  },
  {
   "cell_type": "code",
   "execution_count": null,
   "metadata": {},
   "outputs": [],
   "source": []
  },
  {
   "cell_type": "code",
   "execution_count": null,
   "metadata": {},
   "outputs": [],
   "source": []
  },
  {
   "cell_type": "code",
   "execution_count": null,
   "metadata": {},
   "outputs": [],
   "source": []
  },
  {
   "cell_type": "code",
   "execution_count": null,
   "metadata": {},
   "outputs": [],
   "source": []
  },
  {
   "cell_type": "code",
   "execution_count": null,
   "metadata": {},
   "outputs": [],
   "source": []
  },
  {
   "cell_type": "code",
   "execution_count": null,
   "metadata": {},
   "outputs": [],
   "source": []
  },
  {
   "cell_type": "code",
   "execution_count": null,
   "metadata": {},
   "outputs": [],
   "source": []
  },
  {
   "cell_type": "code",
   "execution_count": null,
   "metadata": {},
   "outputs": [],
   "source": []
  },
  {
   "cell_type": "code",
   "execution_count": null,
   "metadata": {},
   "outputs": [],
   "source": []
  },
  {
   "cell_type": "code",
   "execution_count": null,
   "metadata": {},
   "outputs": [],
   "source": []
  },
  {
   "cell_type": "code",
   "execution_count": null,
   "metadata": {},
   "outputs": [],
   "source": []
  },
  {
   "cell_type": "code",
   "execution_count": null,
   "metadata": {},
   "outputs": [],
   "source": []
  },
  {
   "cell_type": "code",
   "execution_count": null,
   "metadata": {},
   "outputs": [],
   "source": []
  }
 ],
 "metadata": {
  "kernelspec": {
   "display_name": "Python 3.9.12 ('base')",
   "language": "python",
   "name": "python3"
  },
  "language_info": {
   "codemirror_mode": {
    "name": "ipython",
    "version": 3
   },
   "file_extension": ".py",
   "mimetype": "text/x-python",
   "name": "python",
   "nbconvert_exporter": "python",
   "pygments_lexer": "ipython3",
   "version": "3.9.12"
  },
  "orig_nbformat": 4,
  "vscode": {
   "interpreter": {
    "hash": "bde8bb0732dc4e1332dd7de11e8fd6f025a3253132c4935c7925a70cc079a91c"
   }
  }
 },
 "nbformat": 4,
 "nbformat_minor": 2
}
