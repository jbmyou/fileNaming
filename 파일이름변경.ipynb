{
 "cells": [
  {
   "cell_type": "code",
   "execution_count": 1,
   "id": "b00d4f65",
   "metadata": {
    "ExecuteTime": {
     "end_time": "2022-07-06T05:21:07.300210Z",
     "start_time": "2022-07-06T05:21:07.287110Z"
    }
   },
   "outputs": [],
   "source": [
    "import os\n",
    "import shutil\n",
    "import time\n",
    "import pandas as pd\n",
    "from tqdm.notebook import tqdm\n",
    "import re\n",
    "from pathlib import Path\n",
    "import traceback\n",
    "import file_function as ff"
   ]
  },
  {
   "cell_type": "code",
   "execution_count": 2,
   "id": "308aeff7",
   "metadata": {},
   "outputs": [],
   "source": [
    "f_s = r'D:\\1.다운로드\\부산 공유폴더\\7. 전북은행\\3. 채권양도통지서\\2차발송'"
   ]
  },
  {
   "cell_type": "code",
   "execution_count": 3,
   "id": "489bdb28",
   "metadata": {},
   "outputs": [
    {
     "name": "stderr",
     "output_type": "stream",
     "text": [
      "541it [00:19, 28.17it/s]\n"
     ]
    }
   ],
   "source": [
    "ff.all_files(f_s, '부산')"
   ]
  },
  {
   "cell_type": "code",
   "execution_count": 3,
   "id": "903bbcfd",
   "metadata": {},
   "outputs": [
    {
     "name": "stderr",
     "output_type": "stream",
     "text": [
      "1it [00:00, 91.10it/s]\n"
     ]
    }
   ],
   "source": [
    "###### 공백을 _로 \n",
    "ff.change_spaceTo_(f_s)"
   ]
  },
  {
   "cell_type": "code",
   "execution_count": null,
   "id": "cd0d4d74",
   "metadata": {},
   "outputs": [],
   "source": [
    "###### 보증인 자리 변경\n",
    "ff.change_guarantee(f_s)"
   ]
  },
  {
   "cell_type": "code",
   "execution_count": 7,
   "id": "caf7348e",
   "metadata": {
    "ExecuteTime": {
     "end_time": "2022-07-06T05:25:19.289988Z",
     "start_time": "2022-07-06T05:25:19.279025Z"
    }
   },
   "outputs": [
    {
     "data": {
      "text/plain": [
       "'C:\\\\Users\\\\SL\\\\Downloads\\\\부산 공유폴더'"
      ]
     },
     "execution_count": 7,
     "metadata": {},
     "output_type": "execute_result"
    }
   ],
   "source": [
    "##### 연속 _ 제거\n",
    "ff.change__(f_s)"
   ]
  },
  {
   "cell_type": "code",
   "execution_count": null,
   "id": "9abefcc9",
   "metadata": {},
   "outputs": [],
   "source": []
  },
  {
   "cell_type": "code",
   "execution_count": 2,
   "id": "3474ac5d",
   "metadata": {},
   "outputs": [
    {
     "data": {
      "application/vnd.jupyter.widget-view+json": {
       "model_id": "085ec63fe81f436b8b534ed398352f9c",
       "version_major": 2,
       "version_minor": 0
      },
      "text/plain": [
       "  0%|          | 0/5 [00:00<?, ?it/s]"
      ]
     },
     "metadata": {},
     "output_type": "display_data"
    },
    {
     "name": "stdout",
     "output_type": "stream",
     "text": [
      "5 개의 파일 이름 변경 완료\n",
      "error : \n",
      "파일명 변경 목록 : \n",
      "['20407822_김대식_초본_(1).pdf', '20407822_김대식_초본_(2).pdf']\n",
      "['20447360_ALSERRI_HAMED_OMAR_ABDULQADER_외국인증명.pdf', '20447360_ALSERRIHAMEDOMARABDULQADER_외국인증명.pdf']\n"
     ]
    }
   ],
   "source": [
    "#### 최종확인 1\n",
    "path = r'C:\\Users\\SL\\Desktop\\test'\n",
    "ff.final_rename(path)"
   ]
  },
  {
   "cell_type": "code",
   "execution_count": 19,
   "id": "a7e095db",
   "metadata": {},
   "outputs": [
    {
     "data": {
      "text/html": [
       "<div>\n",
       "<style scoped>\n",
       "    .dataframe tbody tr th:only-of-type {\n",
       "        vertical-align: middle;\n",
       "    }\n",
       "\n",
       "    .dataframe tbody tr th {\n",
       "        vertical-align: top;\n",
       "    }\n",
       "\n",
       "    .dataframe thead th {\n",
       "        text-align: right;\n",
       "    }\n",
       "</style>\n",
       "<table border=\"1\" class=\"dataframe\">\n",
       "  <thead>\n",
       "    <tr style=\"text-align: right;\">\n",
       "      <th></th>\n",
       "      <th>채무자키</th>\n",
       "      <th>매각사구분</th>\n",
       "      <th>성명</th>\n",
       "      <th>주민번호인</th>\n",
       "      <th>성별</th>\n",
       "      <th>매각사</th>\n",
       "      <th>회생사건결과</th>\n",
       "      <th>관리자기타</th>\n",
       "      <th>보증인성명</th>\n",
       "      <th>변경전성명인</th>\n",
       "      <th>변경전주민번호인</th>\n",
       "      <th>보증인수</th>\n",
       "      <th>파산사건결과</th>\n",
       "    </tr>\n",
       "  </thead>\n",
       "  <tbody>\n",
       "    <tr>\n",
       "      <th>67722</th>\n",
       "      <td>20459682</td>\n",
       "      <td>KB카드-01</td>\n",
       "      <td>YOON HYUN WOOK</td>\n",
       "      <td>671224-5600173</td>\n",
       "      <td>남자</td>\n",
       "      <td>KB국민카드</td>\n",
       "      <td>NaN</td>\n",
       "      <td>9013302712</td>\n",
       "      <td>NaN</td>\n",
       "      <td>NaN</td>\n",
       "      <td>NaN</td>\n",
       "      <td>0</td>\n",
       "      <td>NaN</td>\n",
       "    </tr>\n",
       "    <tr>\n",
       "      <th>67723</th>\n",
       "      <td>20459636</td>\n",
       "      <td>KB카드-01</td>\n",
       "      <td>YUTAIJI</td>\n",
       "      <td>830211-5140013</td>\n",
       "      <td>남자</td>\n",
       "      <td>KB국민카드</td>\n",
       "      <td>NaN</td>\n",
       "      <td>9013302093</td>\n",
       "      <td>NaN</td>\n",
       "      <td>NaN</td>\n",
       "      <td>NaN</td>\n",
       "      <td>0</td>\n",
       "      <td>NaN</td>\n",
       "    </tr>\n",
       "    <tr>\n",
       "      <th>67724</th>\n",
       "      <td>20447783</td>\n",
       "      <td>KB카드-01</td>\n",
       "      <td>ZAHER KAREEM ATIA</td>\n",
       "      <td>900803-5100144</td>\n",
       "      <td>남자</td>\n",
       "      <td>KB국민카드</td>\n",
       "      <td>NaN</td>\n",
       "      <td>9013302590</td>\n",
       "      <td>NaN</td>\n",
       "      <td>NaN</td>\n",
       "      <td>NaN</td>\n",
       "      <td>0</td>\n",
       "      <td>NaN</td>\n",
       "    </tr>\n",
       "    <tr>\n",
       "      <th>67725</th>\n",
       "      <td>20459338</td>\n",
       "      <td>KB카드-01</td>\n",
       "      <td>ZHANG FANJING</td>\n",
       "      <td>871111-6340392</td>\n",
       "      <td>여자</td>\n",
       "      <td>KB국민카드</td>\n",
       "      <td>NaN</td>\n",
       "      <td>9013202025</td>\n",
       "      <td>NaN</td>\n",
       "      <td>NaN</td>\n",
       "      <td>NaN</td>\n",
       "      <td>0</td>\n",
       "      <td>NaN</td>\n",
       "    </tr>\n",
       "    <tr>\n",
       "      <th>67726</th>\n",
       "      <td>20459630</td>\n",
       "      <td>KB카드-01</td>\n",
       "      <td>ZONG WEI</td>\n",
       "      <td>580805-6101696</td>\n",
       "      <td>여자</td>\n",
       "      <td>KB국민카드</td>\n",
       "      <td>NaN</td>\n",
       "      <td>9013302001</td>\n",
       "      <td>NaN</td>\n",
       "      <td>NaN</td>\n",
       "      <td>NaN</td>\n",
       "      <td>0</td>\n",
       "      <td>NaN</td>\n",
       "    </tr>\n",
       "  </tbody>\n",
       "</table>\n",
       "</div>"
      ],
      "text/plain": [
       "           채무자키    매각사구분                 성명           주민번호인  성별     매각사  \\\n",
       "67722  20459682  KB카드-01     YOON HYUN WOOK  671224-5600173  남자  KB국민카드   \n",
       "67723  20459636  KB카드-01            YUTAIJI  830211-5140013  남자  KB국민카드   \n",
       "67724  20447783  KB카드-01  ZAHER KAREEM ATIA  900803-5100144  남자  KB국민카드   \n",
       "67725  20459338  KB카드-01      ZHANG FANJING  871111-6340392  여자  KB국민카드   \n",
       "67726  20459630  KB카드-01           ZONG WEI  580805-6101696  여자  KB국민카드   \n",
       "\n",
       "      회생사건결과       관리자기타 보증인성명 변경전성명인 변경전주민번호인  보증인수 파산사건결과  \n",
       "67722    NaN  9013302712   NaN    NaN      NaN     0    NaN  \n",
       "67723    NaN  9013302093   NaN    NaN      NaN     0    NaN  \n",
       "67724    NaN  9013302590   NaN    NaN      NaN     0    NaN  \n",
       "67725    NaN  9013202025   NaN    NaN      NaN     0    NaN  \n",
       "67726    NaN  9013302001   NaN    NaN      NaN     0    NaN  "
      ]
     },
     "execution_count": 19,
     "metadata": {},
     "output_type": "execute_result"
    }
   ],
   "source": [
    "#[시작]외국인 이름 바꾸기##########################################################\n",
    "df_c = pd.read_excel(r'C:\\Users\\SL\\Desktop\\채무자조회.xlsx') \n",
    "df_c.tail()"
   ]
  },
  {
   "cell_type": "code",
   "execution_count": 45,
   "id": "2e7a14cf",
   "metadata": {},
   "outputs": [],
   "source": [
    "dict = {}\n",
    "for key, row in df_c.iterrows() :\n",
    "    dict[str(row.채무자키)] = row[1:] # 시리즈를 value로 하는 딕셔너리 완성\n",
    "    # dict[\"20495151\"].보증인성명 이렇게 읽으면 된다.\n",
    "\n",
    "    # 2차원 딕셔너리는 row[1:] 대신 아래를 사용\n",
    "    #{'매각사구분':row.매각사구분, '성명' : row.성명, \\\n",
    "        #'주민번호인':row.주민번호인, '관리자기타':str(row.관리자기타), '보증인성명':row.보증인성명}"
   ]
  },
  {
   "cell_type": "code",
   "execution_count": 46,
   "id": "3f90c6d2",
   "metadata": {},
   "outputs": [
    {
     "data": {
      "text/plain": [
       "'김원목'"
      ]
     },
     "execution_count": 46,
     "metadata": {},
     "output_type": "execute_result"
    }
   ],
   "source": [
    "dict[\"20495151\"].보증인성명"
   ]
  },
  {
   "cell_type": "code",
   "execution_count": 9,
   "id": "b872fe28",
   "metadata": {},
   "outputs": [
    {
     "data": {
      "text/plain": [
       "numpy.int64"
      ]
     },
     "execution_count": 9,
     "metadata": {},
     "output_type": "execute_result"
    }
   ],
   "source": [
    "# 보충작업 : 1) 이름 엑셀문서에서 불러오기. 보증인 있으면 보증인 이름으로\n",
    "path = r''\n",
    "os.chdir(path)\n",
    "file_list = os.listdir(path)\n",
    "\n",
    "docu_kind = '원인서류|채권양도통지서|판결문|지급명령|이행권고|화해권고|타채|결정문|등본|초본|개회|신복|파산|외국인증명'\n",
    "error = []\n",
    "\n",
    "p_docu = re.compile(docu_kind)\n",
    "\n",
    "for f in tqdm(file_list) : \n",
    "    if os.path.isfile(f) & (f != \"Thumbs.db\"):\n",
    "        key = f[:8]\n",
    "        docu = p_docu.search(f)\n",
    "        if docu == None :\n",
    "            error.append(f)\n",
    "            continue\n",
    "        else :\n",
    "            refer = df_c[df_c.채무자키 == key]\n",
    "\n",
    "\n",
    "        "
   ]
  },
  {
   "cell_type": "code",
   "execution_count": 2,
   "id": "b2de297e",
   "metadata": {},
   "outputs": [
    {
     "data": {
      "application/vnd.jupyter.widget-view+json": {
       "model_id": "165a1e6f49af42a699eca631a8a1409b",
       "version_major": 2,
       "version_minor": 0
      },
      "text/plain": [
       "  0%|          | 0/42746 [00:00<?, ?it/s]"
      ]
     },
     "metadata": {},
     "output_type": "display_data"
    },
    {
     "name": "stdout",
     "output_type": "stream",
     "text": [
      "70 개의 파일 처리 완료\n",
      "메인3개\n",
      "20412275_LE_THANH_HAI_외국인증명.pdf\n",
      "20412295_이미향_등,초본.pdf\n",
      "20412332_손보권_등,초본.pdf\n",
      "20412392_박재현_등,초본.pdf\n",
      "20412424_한국현_등,초본.pdf\n",
      "20412451_이주봉_등,초본.pdf\n",
      "20432140_YANG_XUEHUI_외국인증명.pdf\n",
      "20432517_XU_JI_외국인증명.pdf\n",
      "20433626_MOON_KYEOUNG_DON_외국인증명.pdf\n",
      "20433626_MOON_KYEOUNG_DON_외국인증명_(1).pdf\n",
      "20440157_LIJINHAI_외국인증명.pdf\n",
      "20440157_LIJINHAI_외국인증명_(1).pdf\n",
      "20445989_사공_진_초본.pdf\n",
      "20446083윤정희_등본.pdf\n",
      "20446182_정승우_등분.pdf\n",
      "20446424_이진혁_등,초본.pdf\n",
      "20446675_판결문_재도.pdf\n",
      "20446971_GAO_YINGYONG_외국인증명.pdf\n",
      "20446971_GAO_YINGYONG_외국인증명_(1).pdf\n",
      "20447075_NANMINGZI_외국인증명.pdf\n",
      "20447075_NAN_MINGZI_외국인증명.pdf\n",
      "20447123_JIANG_LAN_외국인증명.pdf\n",
      "20447123_JIANG_LAN_외국인증명_(1).pdf\n",
      "20447292_RAHAYU_SRI_외국인증명.pdf\n",
      "20447292_RAHAYU_SRI_외국인증명_(1).pdf\n",
      "20447300_TURAEV_SHUHRAT_외국인증명.pdf\n",
      "20447307_JIN_JINGHUA_외국인증명.pdf\n",
      "20447360_ALSERRI_HAMED_OMAR_ABDULQADER_외국인증명.pdf\n",
      "20447360_AL_SERRIHAMED_외국인증명.pdf\n",
      "20447464_SOE_YU_YU_HNIN_외국인증명.pdf\n",
      "20447471_VOKHIDOV_NEMATILLO_외국인증명.pdf\n",
      "20447484_KORUWAKANKANAMGE_외국인증명.pdf\n",
      "20447484_MAHESH_GAYANFERNANDO_외국인증명.pdf\n",
      "20447517_LI_DONGBI_외국인증명.pdf\n",
      "20447723_YANG_MING_외국인증명.pdf\n",
      "20447728_AN_CHAN_SU_외국인증명.pdf\n",
      "20447783_ZAHER_KAREEM_ATIA_외국인증명.pdf\n",
      "20448427_여세환_출입국사실증명.pdf\n",
      "20449444_심강보_등,초본.pdf\n",
      "20450050_함정훈_등,초본.pdf\n",
      "20450350_김민철_출입국사실증명.pdf\n",
      "20450940_홍한표(사해행위_피고_홍금숙)_초본.pdf\n",
      "20450970_차주한_출입국사실증명.pdf\n",
      "20459602_KOSTIN_KOSTIANTYN_외국인증명.pdf\n",
      "20459605_JIA_LINTAO_외국인증명.pdf\n",
      "20459608_QUAN_HEZHU_외국인증명.pdf\n",
      "20459609_JIN_HU_외국인증명.pdf\n",
      "20459610_WU_GUANGHAO_외국인증명.pdf\n",
      "20459612_LI_YULAN_외국인증명.pdf\n",
      "20459613_YIN_YONGZHE_외국인증명.pdf\n",
      "20459615_CHE_HUASHU_외국인증명.pdf\n",
      "20459618_JIN_CHANGXI_외국인증명.pdf\n",
      "20459630ZONG_WEI_외국인증명.pdf\n",
      "20459634_JIN_FUZI_외국인증명.pdf\n",
      "20459635_KILVINGTON_외국인증명.pdf\n",
      "20459636_YU_TAIJI_외국인증명.pdf\n",
      "20459640_HASSAN_ATEF_외국인증명.pdf\n",
      "20459642_XU_GUANGRI_외국인증명.pdf\n",
      "20459645_MANUEL_SOARES_외국인증명.pdf\n",
      "20459646_LI_YULONG_외국인증명.pdf\n",
      "20459652_SARMITA_GANESAN_외국인증명.pdf\n",
      "20459661_LIM_MAKSIM_외국인증명.pdf\n",
      "20459663_BAI_GUANGXUN_외국인증명.pdf\n",
      "20459672_SO_DE_RENI_외국인증명.pdf\n",
      "20459674_SAID_RASHID_AMOUR_외국인증명.pdf\n",
      "20459682_YOON_HYUN_WOOK_외국인증명.pdf\n",
      "언더바 개수 이상\n",
      "20412275_LE_THANH_HAI_외국인증명.pdf\n",
      "20412295_이미향_등,초본.pdf\n",
      "20412332_손보권_등,초본.pdf\n",
      "20412392_박재현_등,초본.pdf\n",
      "20412424_한국현_등,초본.pdf\n",
      "20412451_이주봉_등,초본.pdf\n",
      "20432140_YANG_XUEHUI_외국인증명.pdf\n",
      "20432517_XU_JI_외국인증명.pdf\n",
      "20433626_MOON_KYEOUNG_DON_외국인증명.pdf\n",
      "20433626_MOON_KYEOUNG_DON_외국인증명_(1).pdf\n",
      "20440157_LIJINHAI_외국인증명.pdf\n",
      "20440157_LIJINHAI_외국인증명_(1).pdf\n",
      "20445989_사공_진_초본.pdf\n",
      "20446083윤정희_등본.pdf\n",
      "20446182_정승우_등분.pdf\n",
      "20446424_이진혁_등,초본.pdf\n",
      "20446675_판결문_재도.pdf\n",
      "20446971_GAO_YINGYONG_외국인증명.pdf\n",
      "20446971_GAO_YINGYONG_외국인증명_(1).pdf\n",
      "20447075_NANMINGZI_외국인증명.pdf\n",
      "20447075_NAN_MINGZI_외국인증명.pdf\n",
      "20447123_JIANG_LAN_외국인증명.pdf\n",
      "20447123_JIANG_LAN_외국인증명_(1).pdf\n",
      "20447292_RAHAYU_SRI_외국인증명.pdf\n",
      "20447292_RAHAYU_SRI_외국인증명_(1).pdf\n",
      "20447300_TURAEV_SHUHRAT_외국인증명.pdf\n",
      "20447307_JIN_JINGHUA_외국인증명.pdf\n",
      "20447360_ALSERRI_HAMED_OMAR_ABDULQADER_외국인증명.pdf\n",
      "20447360_AL_SERRIHAMED_외국인증명.pdf\n",
      "20447464_SOE_YU_YU_HNIN_외국인증명.pdf\n",
      "20447471_VOKHIDOV_NEMATILLO_외국인증명.pdf\n",
      "20447484_KORUWAKANKANAMGE_외국인증명.pdf\n",
      "20447484_MAHESH_GAYANFERNANDO_외국인증명.pdf\n",
      "20447517_LI_DONGBI_외국인증명.pdf\n",
      "20447723_YANG_MING_외국인증명.pdf\n",
      "20447728_AN_CHAN_SU_외국인증명.pdf\n",
      "20447783_ZAHER_KAREEM_ATIA_외국인증명.pdf\n",
      "20448427_여세환_출입국사실증명.pdf\n",
      "20449444_심강보_등,초본.pdf\n",
      "20450050_함정훈_등,초본.pdf\n",
      "20450350_김민철_출입국사실증명.pdf\n",
      "20450940_홍한표(사해행위_피고_홍금숙)_초본.pdf\n",
      "20450970_차주한_출입국사실증명.pdf\n",
      "20459602_KOSTIN_KOSTIANTYN_외국인증명.pdf\n",
      "20459605_JIA_LINTAO_외국인증명.pdf\n",
      "20459608_QUAN_HEZHU_외국인증명.pdf\n",
      "20459609_JIN_HU_외국인증명.pdf\n",
      "20459610_WU_GUANGHAO_외국인증명.pdf\n",
      "20459612_LI_YULAN_외국인증명.pdf\n",
      "20459613_YIN_YONGZHE_외국인증명.pdf\n",
      "20459615_CHE_HUASHU_외국인증명.pdf\n",
      "20459618_JIN_CHANGXI_외국인증명.pdf\n",
      "20459630ZONG_WEI_외국인증명.pdf\n",
      "20459634_JIN_FUZI_외국인증명.pdf\n",
      "20459635_KILVINGTON_외국인증명.pdf\n",
      "20459636_YU_TAIJI_외국인증명.pdf\n",
      "20459640_HASSAN_ATEF_외국인증명.pdf\n",
      "20459642_XU_GUANGRI_외국인증명.pdf\n",
      "20459645_MANUEL_SOARES_외국인증명.pdf\n",
      "20459646_LI_YULONG_외국인증명.pdf\n",
      "20459652_SARMITA_GANESAN_외국인증명.pdf\n",
      "20459661_LIM_MAKSIM_외국인증명.pdf\n",
      "20459663_BAI_GUANGXUN_외국인증명.pdf\n",
      "20459672_SO_DE_RENI_외국인증명.pdf\n",
      "20459674_SAID_RASHID_AMOUR_외국인증명.pdf\n",
      "20459682_YOON_HYUN_WOOK_외국인증명.pdf\n"
     ]
    }
   ],
   "source": [
    "#### 최종확인 2\n",
    "path = r'D:\\부산 정리\\KB국민카드'\n",
    "ff.final_check(path)"
   ]
  },
  {
   "cell_type": "markdown",
   "id": "0e912b9f",
   "metadata": {},
   "source": [
    "### 모든 정보 파일에 매각사 추가하기\n",
    "- file_function에 추가 완료"
   ]
  },
  {
   "cell_type": "code",
   "execution_count": null,
   "id": "0386ea38",
   "metadata": {},
   "outputs": [],
   "source": [
    "## 최초 df 불러오기, 참조매각\n",
    "df_s = pd.read_csv(r'C:\\Users\\SL\\Desktop\\부산 모든 파일 정보.csv', encoding='euc-kr', index_col=0)\n"
   ]
  },
  {
   "cell_type": "code",
   "execution_count": null,
   "id": "7c7f5ec7",
   "metadata": {},
   "outputs": [],
   "source": [
    "\n",
    "## 매각사 칼럼 추가하기\n",
    "df_matching = pd.read_excel(r'C:\\Users\\SL\\Desktop\\부산 매각사 이름매칭.xlsx')\n",
    "\n",
    "sell = []\n",
    "\n",
    "for i in df_s.경로 : \n",
    "    for index, row in df_matching.iterrows() :\n",
    "        if re.search(row[0], i) : \n",
    "            sell.append(row[1])\n",
    "            continue"
   ]
  },
  {
   "cell_type": "code",
   "execution_count": null,
   "id": "b33da504",
   "metadata": {},
   "outputs": [
    {
     "data": {
      "text/html": [
       "<div>\n",
       "<style scoped>\n",
       "    .dataframe tbody tr th:only-of-type {\n",
       "        vertical-align: middle;\n",
       "    }\n",
       "\n",
       "    .dataframe tbody tr th {\n",
       "        vertical-align: top;\n",
       "    }\n",
       "\n",
       "    .dataframe thead th {\n",
       "        text-align: right;\n",
       "    }\n",
       "</style>\n",
       "<table border=\"1\" class=\"dataframe\">\n",
       "  <thead>\n",
       "    <tr style=\"text-align: right;\">\n",
       "      <th></th>\n",
       "      <th>경로</th>\n",
       "      <th>파일명</th>\n",
       "      <th>중복수</th>\n",
       "      <th>크기</th>\n",
       "      <th>생성일</th>\n",
       "      <th>수정일</th>\n",
       "      <th>확장자</th>\n",
       "      <th>매각사</th>\n",
       "    </tr>\n",
       "  </thead>\n",
       "  <tbody>\n",
       "    <tr>\n",
       "      <th>0</th>\n",
       "      <td>C:/Users/SL/Downloads/부산 공유폴더\\0. DNP_헬프\\10. 초본</td>\n",
       "      <td>20407803_이형구_초본_2020.10.23.pdf</td>\n",
       "      <td>1</td>\n",
       "      <td>2031607</td>\n",
       "      <td>2022.07.05 - 14:52:19</td>\n",
       "      <td>2020.10.23 - 16:56:39</td>\n",
       "      <td>.pdf</td>\n",
       "      <td>디엔피에이엠씨대부㈜</td>\n",
       "    </tr>\n",
       "    <tr>\n",
       "      <th>1</th>\n",
       "      <td>C:/Users/SL/Downloads/부산 공유폴더\\0. DNP_헬프\\10. 초본</td>\n",
       "      <td>20408088_김혜성_초본_2021.01.18.pdf</td>\n",
       "      <td>1</td>\n",
       "      <td>1455297</td>\n",
       "      <td>2022.07.05 - 14:52:19</td>\n",
       "      <td>2021.01.18 - 16:00:25</td>\n",
       "      <td>.pdf</td>\n",
       "      <td>디엔피에이엠씨대부㈜</td>\n",
       "    </tr>\n",
       "    <tr>\n",
       "      <th>2</th>\n",
       "      <td>C:/Users/SL/Downloads/부산 공유폴더\\0. DNP_헬프\\10. 초본</td>\n",
       "      <td>20408405_박성룡_초본_2020.11.13.pdf</td>\n",
       "      <td>1</td>\n",
       "      <td>1077317</td>\n",
       "      <td>2022.07.05 - 14:52:19</td>\n",
       "      <td>2020.11.13 - 14:06:44</td>\n",
       "      <td>.pdf</td>\n",
       "      <td>디엔피에이엠씨대부㈜</td>\n",
       "    </tr>\n",
       "    <tr>\n",
       "      <th>3</th>\n",
       "      <td>C:/Users/SL/Downloads/부산 공유폴더\\0. DNP_헬프\\10. 초본</td>\n",
       "      <td>20411188_임종우_초본_2021.05.07.pdf</td>\n",
       "      <td>1</td>\n",
       "      <td>814947</td>\n",
       "      <td>2022.07.05 - 14:52:19</td>\n",
       "      <td>2021.05.07 - 13:30:44</td>\n",
       "      <td>.pdf</td>\n",
       "      <td>디엔피에이엠씨대부㈜</td>\n",
       "    </tr>\n",
       "    <tr>\n",
       "      <th>4</th>\n",
       "      <td>C:/Users/SL/Downloads/부산 공유폴더\\0. DNP_헬프\\10. 초본</td>\n",
       "      <td>20411194_김정하_초본_2020.10.21.pdf</td>\n",
       "      <td>1</td>\n",
       "      <td>2569639</td>\n",
       "      <td>2022.07.05 - 14:52:19</td>\n",
       "      <td>2020.10.21 - 16:30:19</td>\n",
       "      <td>.pdf</td>\n",
       "      <td>디엔피에이엠씨대부㈜</td>\n",
       "    </tr>\n",
       "    <tr>\n",
       "      <th>...</th>\n",
       "      <td>...</td>\n",
       "      <td>...</td>\n",
       "      <td>...</td>\n",
       "      <td>...</td>\n",
       "      <td>...</td>\n",
       "      <td>...</td>\n",
       "      <td>...</td>\n",
       "      <td>...</td>\n",
       "    </tr>\n",
       "    <tr>\n",
       "      <th>72412</th>\n",
       "      <td>C:/Users/SL/Downloads/부산 공유폴더\\7. 전북은행\\3. 채권양도통...</td>\n",
       "      <td>20496704_박수묵_양도통지서.pdf</td>\n",
       "      <td>1</td>\n",
       "      <td>469523</td>\n",
       "      <td>2022.07.05 - 15:01:45</td>\n",
       "      <td>2022.05.19 - 15:38:05</td>\n",
       "      <td>.pdf</td>\n",
       "      <td>㈜전북은행</td>\n",
       "    </tr>\n",
       "    <tr>\n",
       "      <th>72413</th>\n",
       "      <td>C:/Users/SL/Downloads/부산 공유폴더\\7. 전북은행\\3. 채권양도통...</td>\n",
       "      <td>S28BW-5e22051915400_0027.pdf</td>\n",
       "      <td>1</td>\n",
       "      <td>471395</td>\n",
       "      <td>2022.07.05 - 15:01:45</td>\n",
       "      <td>2022.05.19 - 15:38:11</td>\n",
       "      <td>.pdf</td>\n",
       "      <td>㈜전북은행</td>\n",
       "    </tr>\n",
       "    <tr>\n",
       "      <th>72414</th>\n",
       "      <td>C:/Users/SL/Downloads/부산 공유폴더\\7. 전북은행\\3. 채권양도통...</td>\n",
       "      <td>S28BW-5e22051915400_0028.pdf</td>\n",
       "      <td>1</td>\n",
       "      <td>509887</td>\n",
       "      <td>2022.07.05 - 15:01:45</td>\n",
       "      <td>2022.05.19 - 15:38:12</td>\n",
       "      <td>.pdf</td>\n",
       "      <td>㈜전북은행</td>\n",
       "    </tr>\n",
       "    <tr>\n",
       "      <th>72415</th>\n",
       "      <td>C:/Users/SL/Downloads/부산 공유폴더\\8. 베리타스\\양수도계약서</td>\n",
       "      <td>베리타스_양수도_계약서.pdf</td>\n",
       "      <td>1</td>\n",
       "      <td>31019960</td>\n",
       "      <td>2022.07.05 - 15:01:46</td>\n",
       "      <td>2022.07.01 - 18:04:05</td>\n",
       "      <td>.pdf</td>\n",
       "      <td>㈜베리타스자산대부</td>\n",
       "    </tr>\n",
       "    <tr>\n",
       "      <th>72416</th>\n",
       "      <td>C:/Users/SL/Downloads/부산 공유폴더\\8. 베리타스\\양수도계약서</td>\n",
       "      <td>베리타스양수도계약서-축약본.pdf</td>\n",
       "      <td>1</td>\n",
       "      <td>843023</td>\n",
       "      <td>2022.07.05 - 15:01:46</td>\n",
       "      <td>2022.07.01 - 18:17:47</td>\n",
       "      <td>.pdf</td>\n",
       "      <td>㈜베리타스자산대부</td>\n",
       "    </tr>\n",
       "  </tbody>\n",
       "</table>\n",
       "<p>72417 rows × 8 columns</p>\n",
       "</div>"
      ],
      "text/plain": [
       "                                                      경로  \\\n",
       "0         C:/Users/SL/Downloads/부산 공유폴더\\0. DNP_헬프\\10. 초본   \n",
       "1         C:/Users/SL/Downloads/부산 공유폴더\\0. DNP_헬프\\10. 초본   \n",
       "2         C:/Users/SL/Downloads/부산 공유폴더\\0. DNP_헬프\\10. 초본   \n",
       "3         C:/Users/SL/Downloads/부산 공유폴더\\0. DNP_헬프\\10. 초본   \n",
       "4         C:/Users/SL/Downloads/부산 공유폴더\\0. DNP_헬프\\10. 초본   \n",
       "...                                                  ...   \n",
       "72412  C:/Users/SL/Downloads/부산 공유폴더\\7. 전북은행\\3. 채권양도통...   \n",
       "72413  C:/Users/SL/Downloads/부산 공유폴더\\7. 전북은행\\3. 채권양도통...   \n",
       "72414  C:/Users/SL/Downloads/부산 공유폴더\\7. 전북은행\\3. 채권양도통...   \n",
       "72415       C:/Users/SL/Downloads/부산 공유폴더\\8. 베리타스\\양수도계약서   \n",
       "72416       C:/Users/SL/Downloads/부산 공유폴더\\8. 베리타스\\양수도계약서   \n",
       "\n",
       "                                  파일명  중복수        크기                    생성일  \\\n",
       "0      20407803_이형구_초본_2020.10.23.pdf    1   2031607  2022.07.05 - 14:52:19   \n",
       "1      20408088_김혜성_초본_2021.01.18.pdf    1   1455297  2022.07.05 - 14:52:19   \n",
       "2      20408405_박성룡_초본_2020.11.13.pdf    1   1077317  2022.07.05 - 14:52:19   \n",
       "3      20411188_임종우_초본_2021.05.07.pdf    1    814947  2022.07.05 - 14:52:19   \n",
       "4      20411194_김정하_초본_2020.10.21.pdf    1   2569639  2022.07.05 - 14:52:19   \n",
       "...                               ...  ...       ...                    ...   \n",
       "72412          20496704_박수묵_양도통지서.pdf    1    469523  2022.07.05 - 15:01:45   \n",
       "72413    S28BW-5e22051915400_0027.pdf    1    471395  2022.07.05 - 15:01:45   \n",
       "72414    S28BW-5e22051915400_0028.pdf    1    509887  2022.07.05 - 15:01:45   \n",
       "72415                베리타스_양수도_계약서.pdf    1  31019960  2022.07.05 - 15:01:46   \n",
       "72416              베리타스양수도계약서-축약본.pdf    1    843023  2022.07.05 - 15:01:46   \n",
       "\n",
       "                         수정일   확장자         매각사  \n",
       "0      2020.10.23 - 16:56:39  .pdf  디엔피에이엠씨대부㈜  \n",
       "1      2021.01.18 - 16:00:25  .pdf  디엔피에이엠씨대부㈜  \n",
       "2      2020.11.13 - 14:06:44  .pdf  디엔피에이엠씨대부㈜  \n",
       "3      2021.05.07 - 13:30:44  .pdf  디엔피에이엠씨대부㈜  \n",
       "4      2020.10.21 - 16:30:19  .pdf  디엔피에이엠씨대부㈜  \n",
       "...                      ...   ...         ...  \n",
       "72412  2022.05.19 - 15:38:05  .pdf       ㈜전북은행  \n",
       "72413  2022.05.19 - 15:38:11  .pdf       ㈜전북은행  \n",
       "72414  2022.05.19 - 15:38:12  .pdf       ㈜전북은행  \n",
       "72415  2022.07.01 - 18:04:05  .pdf   ㈜베리타스자산대부  \n",
       "72416  2022.07.01 - 18:17:47  .pdf   ㈜베리타스자산대부  \n",
       "\n",
       "[72417 rows x 8 columns]"
      ]
     },
     "metadata": {},
     "output_type": "display_data"
    }
   ],
   "source": [
    "df_s['매각사'] = sell\n",
    "df_s\n",
    "    "
   ]
  },
  {
   "cell_type": "markdown",
   "id": "90aff7ad",
   "metadata": {},
   "source": [
    "### 채무자키 집어넣기"
   ]
  },
  {
   "cell_type": "code",
   "execution_count": 59,
   "id": "c91688f4",
   "metadata": {},
   "outputs": [
    {
     "name": "stderr",
     "output_type": "stream",
     "text": [
      "541it [00:20, 26.44it/s]\n"
     ]
    },
    {
     "data": {
      "text/html": [
       "<div>\n",
       "<style scoped>\n",
       "    .dataframe tbody tr th:only-of-type {\n",
       "        vertical-align: middle;\n",
       "    }\n",
       "\n",
       "    .dataframe tbody tr th {\n",
       "        vertical-align: top;\n",
       "    }\n",
       "\n",
       "    .dataframe thead th {\n",
       "        text-align: right;\n",
       "    }\n",
       "</style>\n",
       "<table border=\"1\" class=\"dataframe\">\n",
       "  <thead>\n",
       "    <tr style=\"text-align: right;\">\n",
       "      <th></th>\n",
       "      <th>경로</th>\n",
       "      <th>매각사</th>\n",
       "      <th>파일명</th>\n",
       "      <th>중복수</th>\n",
       "      <th>크기</th>\n",
       "      <th>생성일</th>\n",
       "      <th>수정일</th>\n",
       "      <th>확장자</th>\n",
       "    </tr>\n",
       "  </thead>\n",
       "  <tbody>\n",
       "    <tr>\n",
       "      <th>0</th>\n",
       "      <td>C:\\Users\\SL\\Downloads\\부산 공유폴더\\0. DNP_헬프\\10. 초본</td>\n",
       "      <td>디엔피에이엠씨대부㈜</td>\n",
       "      <td>20407803_이형구_초본_2020.10.23.pdf</td>\n",
       "      <td>1</td>\n",
       "      <td>2031607</td>\n",
       "      <td>2022.07.05 - 14:52:19</td>\n",
       "      <td>2020.10.23 - 16:56:39</td>\n",
       "      <td>.pdf</td>\n",
       "    </tr>\n",
       "    <tr>\n",
       "      <th>1</th>\n",
       "      <td>C:\\Users\\SL\\Downloads\\부산 공유폴더\\0. DNP_헬프\\10. 초본</td>\n",
       "      <td>디엔피에이엠씨대부㈜</td>\n",
       "      <td>20408088_김혜성_초본_2021.01.18.pdf</td>\n",
       "      <td>1</td>\n",
       "      <td>1455297</td>\n",
       "      <td>2022.07.05 - 14:52:19</td>\n",
       "      <td>2021.01.18 - 16:00:25</td>\n",
       "      <td>.pdf</td>\n",
       "    </tr>\n",
       "    <tr>\n",
       "      <th>2</th>\n",
       "      <td>C:\\Users\\SL\\Downloads\\부산 공유폴더\\0. DNP_헬프\\10. 초본</td>\n",
       "      <td>디엔피에이엠씨대부㈜</td>\n",
       "      <td>20408405_박성룡_초본_2020.11.13.pdf</td>\n",
       "      <td>1</td>\n",
       "      <td>1077317</td>\n",
       "      <td>2022.07.05 - 14:52:19</td>\n",
       "      <td>2020.11.13 - 14:06:44</td>\n",
       "      <td>.pdf</td>\n",
       "    </tr>\n",
       "    <tr>\n",
       "      <th>3</th>\n",
       "      <td>C:\\Users\\SL\\Downloads\\부산 공유폴더\\0. DNP_헬프\\10. 초본</td>\n",
       "      <td>디엔피에이엠씨대부㈜</td>\n",
       "      <td>20411188_임종우_초본_2021.05.07.pdf</td>\n",
       "      <td>1</td>\n",
       "      <td>814947</td>\n",
       "      <td>2022.07.05 - 14:52:19</td>\n",
       "      <td>2021.05.07 - 13:30:44</td>\n",
       "      <td>.pdf</td>\n",
       "    </tr>\n",
       "    <tr>\n",
       "      <th>4</th>\n",
       "      <td>C:\\Users\\SL\\Downloads\\부산 공유폴더\\0. DNP_헬프\\10. 초본</td>\n",
       "      <td>디엔피에이엠씨대부㈜</td>\n",
       "      <td>20411194_김정하_초본_2020.10.21.pdf</td>\n",
       "      <td>1</td>\n",
       "      <td>2569639</td>\n",
       "      <td>2022.07.05 - 14:52:19</td>\n",
       "      <td>2020.10.21 - 16:30:19</td>\n",
       "      <td>.pdf</td>\n",
       "    </tr>\n",
       "  </tbody>\n",
       "</table>\n",
       "</div>"
      ],
      "text/plain": [
       "                                               경로         매각사  \\\n",
       "0  C:\\Users\\SL\\Downloads\\부산 공유폴더\\0. DNP_헬프\\10. 초본  디엔피에이엠씨대부㈜   \n",
       "1  C:\\Users\\SL\\Downloads\\부산 공유폴더\\0. DNP_헬프\\10. 초본  디엔피에이엠씨대부㈜   \n",
       "2  C:\\Users\\SL\\Downloads\\부산 공유폴더\\0. DNP_헬프\\10. 초본  디엔피에이엠씨대부㈜   \n",
       "3  C:\\Users\\SL\\Downloads\\부산 공유폴더\\0. DNP_헬프\\10. 초본  디엔피에이엠씨대부㈜   \n",
       "4  C:\\Users\\SL\\Downloads\\부산 공유폴더\\0. DNP_헬프\\10. 초본  디엔피에이엠씨대부㈜   \n",
       "\n",
       "                              파일명  중복수       크기                    생성일  \\\n",
       "0  20407803_이형구_초본_2020.10.23.pdf    1  2031607  2022.07.05 - 14:52:19   \n",
       "1  20408088_김혜성_초본_2021.01.18.pdf    1  1455297  2022.07.05 - 14:52:19   \n",
       "2  20408405_박성룡_초본_2020.11.13.pdf    1  1077317  2022.07.05 - 14:52:19   \n",
       "3  20411188_임종우_초본_2021.05.07.pdf    1   814947  2022.07.05 - 14:52:19   \n",
       "4  20411194_김정하_초본_2020.10.21.pdf    1  2569639  2022.07.05 - 14:52:19   \n",
       "\n",
       "                     수정일   확장자  \n",
       "0  2020.10.23 - 16:56:39  .pdf  \n",
       "1  2021.01.18 - 16:00:25  .pdf  \n",
       "2  2020.11.13 - 14:06:44  .pdf  \n",
       "3  2021.05.07 - 13:30:44  .pdf  \n",
       "4  2020.10.21 - 16:30:19  .pdf  "
      ]
     },
     "execution_count": 59,
     "metadata": {},
     "output_type": "execute_result"
    }
   ],
   "source": [
    "## 모든 파일 정보 불러오기\n",
    "df_s = ff.all_files(r'C:\\Users\\SL\\Downloads\\부산 공유폴더', '부산')\n",
    "df_s.head()"
   ]
  },
  {
   "cell_type": "code",
   "execution_count": 124,
   "id": "60cda30c",
   "metadata": {},
   "outputs": [
    {
     "name": "stderr",
     "output_type": "stream",
     "text": [
      "c:\\Users\\SL\\anaconda3\\lib\\site-packages\\openpyxl\\styles\\stylesheet.py:226: UserWarning: Workbook contains no default style, apply openpyxl's default\n",
      "  warn(\"Workbook contains no default style, apply openpyxl's default\")\n"
     ]
    },
    {
     "data": {
      "text/html": [
       "<div>\n",
       "<style scoped>\n",
       "    .dataframe tbody tr th:only-of-type {\n",
       "        vertical-align: middle;\n",
       "    }\n",
       "\n",
       "    .dataframe tbody tr th {\n",
       "        vertical-align: top;\n",
       "    }\n",
       "\n",
       "    .dataframe thead th {\n",
       "        text-align: right;\n",
       "    }\n",
       "</style>\n",
       "<table border=\"1\" class=\"dataframe\">\n",
       "  <thead>\n",
       "    <tr style=\"text-align: right;\">\n",
       "      <th></th>\n",
       "      <th>채무자키</th>\n",
       "      <th>성명</th>\n",
       "      <th>주민번호</th>\n",
       "      <th>성별</th>\n",
       "      <th>연령</th>\n",
       "      <th>매각사</th>\n",
       "      <th>변경전성명</th>\n",
       "      <th>변경전주민번호</th>\n",
       "    </tr>\n",
       "  </thead>\n",
       "  <tbody>\n",
       "    <tr>\n",
       "      <th>0</th>\n",
       "      <td>20495151</td>\n",
       "      <td>(유)가람건설</td>\n",
       "      <td>403-81-18275</td>\n",
       "      <td>법인</td>\n",
       "      <td>82</td>\n",
       "      <td>㈜전북은행</td>\n",
       "      <td>NaN</td>\n",
       "      <td>NaN</td>\n",
       "    </tr>\n",
       "    <tr>\n",
       "      <th>1</th>\n",
       "      <td>20495152</td>\n",
       "      <td>(유)가람건설</td>\n",
       "      <td>403-81-18275</td>\n",
       "      <td>법인</td>\n",
       "      <td>82</td>\n",
       "      <td>㈜전북은행</td>\n",
       "      <td>NaN</td>\n",
       "      <td>NaN</td>\n",
       "    </tr>\n",
       "    <tr>\n",
       "      <th>2</th>\n",
       "      <td>20495238</td>\n",
       "      <td>(유)가람건설</td>\n",
       "      <td>403-81-18275</td>\n",
       "      <td>법인</td>\n",
       "      <td>82</td>\n",
       "      <td>㈜전북은행</td>\n",
       "      <td>NaN</td>\n",
       "      <td>NaN</td>\n",
       "    </tr>\n",
       "    <tr>\n",
       "      <th>3</th>\n",
       "      <td>20417854</td>\n",
       "      <td>(유)가람관광여행사</td>\n",
       "      <td>403-81-30809</td>\n",
       "      <td>법인</td>\n",
       "      <td>81</td>\n",
       "      <td>디엔피에이엠씨대부㈜</td>\n",
       "      <td>NaN</td>\n",
       "      <td>NaN</td>\n",
       "    </tr>\n",
       "    <tr>\n",
       "      <th>4</th>\n",
       "      <td>20411449</td>\n",
       "      <td>(유)거성산업</td>\n",
       "      <td>407-81-06562</td>\n",
       "      <td>법인</td>\n",
       "      <td>81</td>\n",
       "      <td>디엔피에이엠씨대부㈜</td>\n",
       "      <td>NaN</td>\n",
       "      <td>NaN</td>\n",
       "    </tr>\n",
       "  </tbody>\n",
       "</table>\n",
       "</div>"
      ],
      "text/plain": [
       "       채무자키          성명          주민번호  성별  연령         매각사 변경전성명 변경전주민번호\n",
       "0  20495151     (유)가람건설  403-81-18275  법인  82       ㈜전북은행   NaN     NaN\n",
       "1  20495152     (유)가람건설  403-81-18275  법인  82       ㈜전북은행   NaN     NaN\n",
       "2  20495238     (유)가람건설  403-81-18275  법인  82       ㈜전북은행   NaN     NaN\n",
       "3  20417854  (유)가람관광여행사  403-81-30809  법인  81  디엔피에이엠씨대부㈜   NaN     NaN\n",
       "4  20411449     (유)거성산업  407-81-06562  법인  81  디엔피에이엠씨대부㈜   NaN     NaN"
      ]
     },
     "execution_count": 124,
     "metadata": {},
     "output_type": "execute_result"
    }
   ],
   "source": [
    "## 참조 df 불러오기\n",
    "## 참조할 col_name = '성명', '주민번호', '채무자키', '매각사', '보증인성명'\n",
    "df_c = pd.read_excel(r'C:\\Users\\SL\\Desktop\\채무자조회.xlsx')\n",
    "df_c.head()"
   ]
  },
  {
   "cell_type": "code",
   "execution_count": null,
   "id": "6d5655eb",
   "metadata": {},
   "outputs": [],
   "source": []
  },
  {
   "cell_type": "code",
   "execution_count": 152,
   "id": "6f58ab1c",
   "metadata": {},
   "outputs": [],
   "source": [
    "## 1) 채무자키 없는 경우 찾기 - 모든 파일 정보 파일명에서 숫자 8자리이상 있고, 9자리 이상은 없는 경우\n",
    "p_n8 = re.compile('[0-9]{8}') # 8자리 이상 연속 숫자(채무자키 + 관리자키)\n",
    "p_n9 = re.compile('[0-9]{9}')\n",
    "p_n10 = re.compile('[0-9]{10}') # 10자리 이상(관리자키 + ?) 9자리가 하나 있네?\n",
    "p_n11 = re.compile('[0-9]{11}') \n",
    "p_n12 = re.compile('[0-9]{12}')\n",
    "p_admin = re.compile('^\\d\\d\\d\\d-\\d\\d\\d\\d\\d\\d\\d|_\\d\\d\\d\\d-\\d\\d\\d\\d\\d\\d\\d')\n",
    "# Match함수(match, search)는 Match객체를 반환하는데, 표현식과 일치하는 부분의 시작인덱스와, \n",
    "# 끝인덱스, 해당문자열을 가지고있다.\n",
    "# match는 시작부분에 있어야 하고, search는 중간에 있어도 찾는다. 단 만족하는 값을 찾으면 추가검색은 하지 않는다.\n",
    "# findall은 겹치지 않게 모두를 검색한다. ex) ololo -> olo를 찾고, 나머지 lo에서 olo가 있는지 또 찾는다.\n"
   ]
  },
  {
   "cell_type": "code",
   "execution_count": 128,
   "id": "d8cfc06a",
   "metadata": {},
   "outputs": [
    {
     "name": "stderr",
     "output_type": "stream",
     "text": [
      "72362it [01:29, 809.97it/s]  "
     ]
    },
    {
     "name": "stdout",
     "output_type": "stream",
     "text": [
      "총 72362개 중, 채무자키 없는 것(df_s_noKey) : 54676\n",
      "                                                  경로      매각사  \\\n",
      "0  C:\\Users\\SL\\Downloads\\부산 공유폴더\\1.한울가람_헬프\\2. 원인서...  한울가람대부㈜   \n",
      "1  C:\\Users\\SL\\Downloads\\부산 공유폴더\\1.한울가람_헬프\\2. 원인서...  한울가람대부㈜   \n",
      "2  C:\\Users\\SL\\Downloads\\부산 공유폴더\\1.한울가람_헬프\\2. 원인서...  한울가람대부㈜   \n",
      "3  C:\\Users\\SL\\Downloads\\부산 공유폴더\\1.한울가람_헬프\\2. 원인서...  한울가람대부㈜   \n",
      "4  C:\\Users\\SL\\Downloads\\부산 공유폴더\\1.한울가람_헬프\\2. 원인서...  한울가람대부㈜   \n",
      "\n",
      "                                        파일명  중복수       크기  \\\n",
      "0                             1698_일진산기.pdf    1  6830222   \n",
      "1  1699_항진무역(주)_7001000032_120-81-02335.pdf    1  4058466   \n",
      "2                              1699항진무역.pdf    1  4058466   \n",
      "3  1700_신도광학(주)_7001000180_301-81-14556.pdf    1  3973249   \n",
      "4                             1700_신도광학.pdf    1  3973249   \n",
      "\n",
      "                     생성일                    수정일   확장자  \n",
      "0  2022.07.05 - 14:52:22  2020.10.19 - 14:03:58  .pdf  \n",
      "1  2022.07.05 - 14:52:22  2020.10.19 - 14:19:48  .pdf  \n",
      "2  2022.07.05 - 14:52:22  2020.10.19 - 14:19:48  .pdf  \n",
      "3  2022.07.05 - 14:52:22  2020.10.19 - 14:28:14  .pdf  \n",
      "4  2022.07.05 - 14:52:22  2020.10.19 - 14:28:14  .pdf  \n",
      "                                                      경로        매각사  \\\n",
      "54671              C:\\Users\\SL\\Downloads\\부산 공유폴더\\7. 전북은행      ㈜전북은행   \n",
      "54672  C:\\Users\\SL\\Downloads\\부산 공유폴더\\7. 전북은행\\3. 채권양도통...      ㈜전북은행   \n",
      "54673  C:\\Users\\SL\\Downloads\\부산 공유폴더\\7. 전북은행\\3. 채권양도통...      ㈜전북은행   \n",
      "54674       C:\\Users\\SL\\Downloads\\부산 공유폴더\\8. 베리타스\\양수도계약서  ㈜베리타스자산대부   \n",
      "54675       C:\\Users\\SL\\Downloads\\부산 공유폴더\\8. 베리타스\\양수도계약서  ㈜베리타스자산대부   \n",
      "\n",
      "                                파일명  중복수        크기                    생성일  \\\n",
      "54671               전북은행_양수도계약서.pdf    1   1921412  2022.07.05 - 15:01:46   \n",
      "54672  S28BW-5e22051915400_0027.pdf    1    471395  2022.07.05 - 15:01:45   \n",
      "54673  S28BW-5e22051915400_0028.pdf    1    509887  2022.07.05 - 15:01:45   \n",
      "54674              베리타스_양수도_계약서.pdf    1  31019960  2022.07.05 - 15:01:46   \n",
      "54675            베리타스양수도계약서-축약본.pdf    1    843023  2022.07.05 - 15:01:46   \n",
      "\n",
      "                         수정일   확장자  \n",
      "54671  2022.07.01 - 17:09:22  .pdf  \n",
      "54672  2022.05.19 - 15:38:11  .pdf  \n",
      "54673  2022.05.19 - 15:38:12  .pdf  \n",
      "54674  2022.07.01 - 18:04:05  .pdf  \n",
      "54675  2022.07.01 - 18:17:47  .pdf  \n"
     ]
    },
    {
     "name": "stderr",
     "output_type": "stream",
     "text": [
      "\n"
     ]
    }
   ],
   "source": [
    "# 채무자키 없는 거만 추려서 새df : df_s_noKey로\n",
    "df_s_noKey = pd.DataFrame()\n",
    "ex = len(df_s.index)\n",
    "\n",
    "for index, row in df_s.iterrows() :\n",
    "    s8 = p_n8.search(row.파일명)\n",
    "    s9 = p_n9.search(row.파일명)\n",
    "    if not (s8 != None) & ( s9== None) :\n",
    "           #__________________________\n",
    "     # not    채무자키 있는 거\n",
    "        df_s_noKey = pd.concat([df_s_noKey, df_s[index:index+1]], ignore_index=True)\n",
    "        \n",
    "\n",
    "print(\"총 \"+str(ex) + \"개 중, 채무자키 없는 것(df_s_noKey) : \" + str(len(df_s_noKey.index)))\n",
    "print(df_s_noKey.head())\n",
    "print(df_s_noKey.tail())"
   ]
  },
  {
   "cell_type": "code",
   "execution_count": 158,
   "id": "3b2437b8",
   "metadata": {},
   "outputs": [
    {
     "ename": "LookupError",
     "evalue": "unknown encoding: utf-sig-8",
     "output_type": "error",
     "traceback": [
      "\u001b[1;31m---------------------------------------------------------------------------\u001b[0m",
      "\u001b[1;31mLookupError\u001b[0m                               Traceback (most recent call last)",
      "\u001b[1;32md:\\전산\\workspace\\python_work\\파일이름변경.ipynb 셀 16\u001b[0m in \u001b[0;36m<cell line: 14>\u001b[1;34m()\u001b[0m\n\u001b[0;32m     <a href='vscode-notebook-cell:/d%3A/%EC%A0%84%EC%82%B0/workspace/python_work/%ED%8C%8C%EC%9D%BC%EC%9D%B4%EB%A6%84%EB%B3%80%EA%B2%BD.ipynb#ch0000044?line=10'>11</a>\u001b[0m     \u001b[39mif\u001b[39;00m s_admin1 \u001b[39m|\u001b[39m s_admin2 : \n\u001b[0;32m     <a href='vscode-notebook-cell:/d%3A/%EC%A0%84%EC%82%B0/workspace/python_work/%ED%8C%8C%EC%9D%BC%EC%9D%B4%EB%A6%84%EB%B3%80%EA%B2%BD.ipynb#ch0000044?line=11'>12</a>\u001b[0m         df_temp \u001b[39m=\u001b[39m pd\u001b[39m.\u001b[39mconcat([df_temp, df_s[index : index\u001b[39m+\u001b[39m\u001b[39m1\u001b[39m]], ignore_index\u001b[39m=\u001b[39m\u001b[39mTrue\u001b[39;00m)\n\u001b[1;32m---> <a href='vscode-notebook-cell:/d%3A/%EC%A0%84%EC%82%B0/workspace/python_work/%ED%8C%8C%EC%9D%BC%EC%9D%B4%EB%A6%84%EB%B3%80%EA%B2%BD.ipynb#ch0000044?line=13'>14</a>\u001b[0m df_temp\u001b[39m.\u001b[39;49mto_csv(\u001b[39mr\u001b[39;49m\u001b[39m'\u001b[39;49m\u001b[39mC:\u001b[39;49m\u001b[39m\\\u001b[39;49m\u001b[39mUsers\u001b[39;49m\u001b[39m\\\u001b[39;49m\u001b[39mSL\u001b[39;49m\u001b[39m\\\u001b[39;49m\u001b[39mDesktop\u001b[39;49m\u001b[39m\\\u001b[39;49m\u001b[39m관리자키있는거.csv\u001b[39;49m\u001b[39m'\u001b[39;49m, encoding\u001b[39m=\u001b[39;49m\u001b[39m'\u001b[39;49m\u001b[39mutf-sig-8\u001b[39;49m\u001b[39m'\u001b[39;49m)\n",
      "File \u001b[1;32mc:\\Users\\SL\\anaconda3\\lib\\site-packages\\pandas\\core\\generic.py:3551\u001b[0m, in \u001b[0;36mNDFrame.to_csv\u001b[1;34m(self, path_or_buf, sep, na_rep, float_format, columns, header, index, index_label, mode, encoding, compression, quoting, quotechar, line_terminator, chunksize, date_format, doublequote, escapechar, decimal, errors, storage_options)\u001b[0m\n\u001b[0;32m   3540\u001b[0m df \u001b[39m=\u001b[39m \u001b[39mself\u001b[39m \u001b[39mif\u001b[39;00m \u001b[39misinstance\u001b[39m(\u001b[39mself\u001b[39m, ABCDataFrame) \u001b[39melse\u001b[39;00m \u001b[39mself\u001b[39m\u001b[39m.\u001b[39mto_frame()\n\u001b[0;32m   3542\u001b[0m formatter \u001b[39m=\u001b[39m DataFrameFormatter(\n\u001b[0;32m   3543\u001b[0m     frame\u001b[39m=\u001b[39mdf,\n\u001b[0;32m   3544\u001b[0m     header\u001b[39m=\u001b[39mheader,\n\u001b[1;32m   (...)\u001b[0m\n\u001b[0;32m   3548\u001b[0m     decimal\u001b[39m=\u001b[39mdecimal,\n\u001b[0;32m   3549\u001b[0m )\n\u001b[1;32m-> 3551\u001b[0m \u001b[39mreturn\u001b[39;00m DataFrameRenderer(formatter)\u001b[39m.\u001b[39;49mto_csv(\n\u001b[0;32m   3552\u001b[0m     path_or_buf,\n\u001b[0;32m   3553\u001b[0m     line_terminator\u001b[39m=\u001b[39;49mline_terminator,\n\u001b[0;32m   3554\u001b[0m     sep\u001b[39m=\u001b[39;49msep,\n\u001b[0;32m   3555\u001b[0m     encoding\u001b[39m=\u001b[39;49mencoding,\n\u001b[0;32m   3556\u001b[0m     errors\u001b[39m=\u001b[39;49merrors,\n\u001b[0;32m   3557\u001b[0m     compression\u001b[39m=\u001b[39;49mcompression,\n\u001b[0;32m   3558\u001b[0m     quoting\u001b[39m=\u001b[39;49mquoting,\n\u001b[0;32m   3559\u001b[0m     columns\u001b[39m=\u001b[39;49mcolumns,\n\u001b[0;32m   3560\u001b[0m     index_label\u001b[39m=\u001b[39;49mindex_label,\n\u001b[0;32m   3561\u001b[0m     mode\u001b[39m=\u001b[39;49mmode,\n\u001b[0;32m   3562\u001b[0m     chunksize\u001b[39m=\u001b[39;49mchunksize,\n\u001b[0;32m   3563\u001b[0m     quotechar\u001b[39m=\u001b[39;49mquotechar,\n\u001b[0;32m   3564\u001b[0m     date_format\u001b[39m=\u001b[39;49mdate_format,\n\u001b[0;32m   3565\u001b[0m     doublequote\u001b[39m=\u001b[39;49mdoublequote,\n\u001b[0;32m   3566\u001b[0m     escapechar\u001b[39m=\u001b[39;49mescapechar,\n\u001b[0;32m   3567\u001b[0m     storage_options\u001b[39m=\u001b[39;49mstorage_options,\n\u001b[0;32m   3568\u001b[0m )\n",
      "File \u001b[1;32mc:\\Users\\SL\\anaconda3\\lib\\site-packages\\pandas\\io\\formats\\format.py:1180\u001b[0m, in \u001b[0;36mDataFrameRenderer.to_csv\u001b[1;34m(self, path_or_buf, encoding, sep, columns, index_label, mode, compression, quoting, quotechar, line_terminator, chunksize, date_format, doublequote, escapechar, errors, storage_options)\u001b[0m\n\u001b[0;32m   1159\u001b[0m     created_buffer \u001b[39m=\u001b[39m \u001b[39mFalse\u001b[39;00m\n\u001b[0;32m   1161\u001b[0m csv_formatter \u001b[39m=\u001b[39m CSVFormatter(\n\u001b[0;32m   1162\u001b[0m     path_or_buf\u001b[39m=\u001b[39mpath_or_buf,\n\u001b[0;32m   1163\u001b[0m     line_terminator\u001b[39m=\u001b[39mline_terminator,\n\u001b[1;32m   (...)\u001b[0m\n\u001b[0;32m   1178\u001b[0m     formatter\u001b[39m=\u001b[39m\u001b[39mself\u001b[39m\u001b[39m.\u001b[39mfmt,\n\u001b[0;32m   1179\u001b[0m )\n\u001b[1;32m-> 1180\u001b[0m csv_formatter\u001b[39m.\u001b[39;49msave()\n\u001b[0;32m   1182\u001b[0m \u001b[39mif\u001b[39;00m created_buffer:\n\u001b[0;32m   1183\u001b[0m     \u001b[39massert\u001b[39;00m \u001b[39misinstance\u001b[39m(path_or_buf, StringIO)\n",
      "File \u001b[1;32mc:\\Users\\SL\\anaconda3\\lib\\site-packages\\pandas\\io\\formats\\csvs.py:241\u001b[0m, in \u001b[0;36mCSVFormatter.save\u001b[1;34m(self)\u001b[0m\n\u001b[0;32m    237\u001b[0m \u001b[39m\"\"\"\u001b[39;00m\n\u001b[0;32m    238\u001b[0m \u001b[39mCreate the writer & save.\u001b[39;00m\n\u001b[0;32m    239\u001b[0m \u001b[39m\"\"\"\u001b[39;00m\n\u001b[0;32m    240\u001b[0m \u001b[39m# apply compression and byte/text conversion\u001b[39;00m\n\u001b[1;32m--> 241\u001b[0m \u001b[39mwith\u001b[39;00m get_handle(\n\u001b[0;32m    242\u001b[0m     \u001b[39mself\u001b[39;49m\u001b[39m.\u001b[39;49mfilepath_or_buffer,\n\u001b[0;32m    243\u001b[0m     \u001b[39mself\u001b[39;49m\u001b[39m.\u001b[39;49mmode,\n\u001b[0;32m    244\u001b[0m     encoding\u001b[39m=\u001b[39;49m\u001b[39mself\u001b[39;49m\u001b[39m.\u001b[39;49mencoding,\n\u001b[0;32m    245\u001b[0m     errors\u001b[39m=\u001b[39;49m\u001b[39mself\u001b[39;49m\u001b[39m.\u001b[39;49merrors,\n\u001b[0;32m    246\u001b[0m     compression\u001b[39m=\u001b[39;49m\u001b[39mself\u001b[39;49m\u001b[39m.\u001b[39;49mcompression,\n\u001b[0;32m    247\u001b[0m     storage_options\u001b[39m=\u001b[39;49m\u001b[39mself\u001b[39;49m\u001b[39m.\u001b[39;49mstorage_options,\n\u001b[0;32m    248\u001b[0m ) \u001b[39mas\u001b[39;00m handles:\n\u001b[0;32m    249\u001b[0m \n\u001b[0;32m    250\u001b[0m     \u001b[39m# Note: self.encoding is irrelevant here\u001b[39;00m\n\u001b[0;32m    251\u001b[0m     \u001b[39mself\u001b[39m\u001b[39m.\u001b[39mwriter \u001b[39m=\u001b[39m csvlib\u001b[39m.\u001b[39mwriter(\n\u001b[0;32m    252\u001b[0m         handles\u001b[39m.\u001b[39mhandle,\n\u001b[0;32m    253\u001b[0m         lineterminator\u001b[39m=\u001b[39m\u001b[39mself\u001b[39m\u001b[39m.\u001b[39mline_terminator,\n\u001b[1;32m   (...)\u001b[0m\n\u001b[0;32m    258\u001b[0m         quotechar\u001b[39m=\u001b[39m\u001b[39mself\u001b[39m\u001b[39m.\u001b[39mquotechar,\n\u001b[0;32m    259\u001b[0m     )\n\u001b[0;32m    261\u001b[0m     \u001b[39mself\u001b[39m\u001b[39m.\u001b[39m_save()\n",
      "File \u001b[1;32mc:\\Users\\SL\\anaconda3\\lib\\site-packages\\pandas\\io\\common.py:665\u001b[0m, in \u001b[0;36mget_handle\u001b[1;34m(path_or_buf, mode, encoding, compression, memory_map, is_text, errors, storage_options)\u001b[0m\n\u001b[0;32m    662\u001b[0m     mode \u001b[39m+\u001b[39m\u001b[39m=\u001b[39m \u001b[39m\"\u001b[39m\u001b[39mb\u001b[39m\u001b[39m\"\u001b[39m\n\u001b[0;32m    664\u001b[0m \u001b[39m# validate encoding and errors\u001b[39;00m\n\u001b[1;32m--> 665\u001b[0m codecs\u001b[39m.\u001b[39;49mlookup(encoding)\n\u001b[0;32m    666\u001b[0m \u001b[39mif\u001b[39;00m \u001b[39misinstance\u001b[39m(errors, \u001b[39mstr\u001b[39m):\n\u001b[0;32m    667\u001b[0m     codecs\u001b[39m.\u001b[39mlookup_error(errors)\n",
      "\u001b[1;31mLookupError\u001b[0m: unknown encoding: utf-sig-8"
     ]
    }
   ],
   "source": [
    "# 관리자키가 파일명에 들어가 있는 경우의 파일명을 확인해보자.\n",
    "df_temp = pd.DataFrame()\n",
    "for index, row in df_s.iterrows() :\n",
    "    s10 = p_n10.search(row.파일명)\n",
    "    s12 = p_n12.search(row.파일명)\n",
    "    s_admin1 = (s10 != None) & (s12 == None)\n",
    "    s_admin2 = (p_admin.search(row.파일명) != None)\n",
    "    \n",
    "    # 관리자키인 경우 df_temp에 추가\n",
    "    \n",
    "    if s_admin1 | s_admin2 : \n",
    "        df_temp = pd.concat([df_temp, df_s[index : index+1]], ignore_index=True)"
   ]
  },
  {
   "cell_type": "code",
   "execution_count": 159,
   "id": "a1c90714",
   "metadata": {},
   "outputs": [],
   "source": [
    "df_temp.to_csv(r'C:\\Users\\SL\\Desktop\\관리자키있는거.csv', encoding='utf-8-sig')"
   ]
  },
  {
   "cell_type": "code",
   "execution_count": 126,
   "id": "ab46ae0e",
   "metadata": {},
   "outputs": [
    {
     "name": "stderr",
     "output_type": "stream",
     "text": [
      "72362it [00:20, 3470.21it/s] "
     ]
    },
    {
     "name": "stdout",
     "output_type": "stream",
     "text": [
      "총 72362개 중, 채무자키 없는 행 : 20803\n",
      "                                               경로         매각사  \\\n",
      "0  C:\\Users\\SL\\Downloads\\부산 공유폴더\\0. DNP_헬프\\10. 초본  디엔피에이엠씨대부㈜   \n",
      "1  C:\\Users\\SL\\Downloads\\부산 공유폴더\\0. DNP_헬프\\10. 초본  디엔피에이엠씨대부㈜   \n",
      "2  C:\\Users\\SL\\Downloads\\부산 공유폴더\\0. DNP_헬프\\10. 초본  디엔피에이엠씨대부㈜   \n",
      "3  C:\\Users\\SL\\Downloads\\부산 공유폴더\\0. DNP_헬프\\10. 초본  디엔피에이엠씨대부㈜   \n",
      "4  C:\\Users\\SL\\Downloads\\부산 공유폴더\\0. DNP_헬프\\10. 초본  디엔피에이엠씨대부㈜   \n",
      "\n",
      "                              파일명  중복수       크기                    생성일  \\\n",
      "0  20407803_이형구_초본_2020.10.23.pdf    1  2031607  2022.07.05 - 14:52:19   \n",
      "1  20408088_김혜성_초본_2021.01.18.pdf    1  1455297  2022.07.05 - 14:52:19   \n",
      "2  20408405_박성룡_초본_2020.11.13.pdf    1  1077317  2022.07.05 - 14:52:19   \n",
      "3  20411188_임종우_초본_2021.05.07.pdf    1   814947  2022.07.05 - 14:52:19   \n",
      "4  20411194_김정하_초본_2020.10.21.pdf    1  2569639  2022.07.05 - 14:52:19   \n",
      "\n",
      "                     수정일   확장자  \n",
      "0  2020.10.23 - 16:56:39  .pdf  \n",
      "1  2021.01.18 - 16:00:25  .pdf  \n",
      "2  2020.11.13 - 14:06:44  .pdf  \n",
      "3  2021.05.07 - 13:30:44  .pdf  \n",
      "4  2020.10.21 - 16:30:19  .pdf  \n",
      "                                                      경로        매각사  \\\n",
      "20798  C:\\Users\\SL\\Downloads\\부산 공유폴더\\7. 전북은행\\3. 채권양도통...      ㈜전북은행   \n",
      "20799  C:\\Users\\SL\\Downloads\\부산 공유폴더\\7. 전북은행\\3. 채권양도통...      ㈜전북은행   \n",
      "20800  C:\\Users\\SL\\Downloads\\부산 공유폴더\\7. 전북은행\\3. 채권양도통...      ㈜전북은행   \n",
      "20801       C:\\Users\\SL\\Downloads\\부산 공유폴더\\8. 베리타스\\양수도계약서  ㈜베리타스자산대부   \n",
      "20802       C:\\Users\\SL\\Downloads\\부산 공유폴더\\8. 베리타스\\양수도계약서  ㈜베리타스자산대부   \n",
      "\n",
      "                          파일명  중복수        크기                    생성일  \\\n",
      "20798  20496667_송동현_양도통지서.pdf    1    472029  2022.07.05 - 15:01:45   \n",
      "20799  20496693_강민수_양도통지서.pdf    1    479158  2022.07.05 - 15:01:46   \n",
      "20800  20496704_박수묵_양도통지서.pdf    1    469523  2022.07.05 - 15:01:45   \n",
      "20801        베리타스_양수도_계약서.pdf    1  31019960  2022.07.05 - 15:01:46   \n",
      "20802      베리타스양수도계약서-축약본.pdf    1    843023  2022.07.05 - 15:01:46   \n",
      "\n",
      "                         수정일   확장자  \n",
      "20798  2022.05.19 - 15:37:48  .pdf  \n",
      "20799  2022.05.19 - 15:39:01  .pdf  \n",
      "20800  2022.05.19 - 15:38:05  .pdf  \n",
      "20801  2022.07.01 - 18:04:05  .pdf  \n",
      "20802  2022.07.01 - 18:17:47  .pdf  \n"
     ]
    },
    {
     "name": "stderr",
     "output_type": "stream",
     "text": [
      "\n"
     ]
    }
   ],
   "source": [
    "## 2) df_s_noKey에서 관리자 키가 있는 경우(10자리,11자리 == 10이상 & 12자리이상x)\n",
    "# 전체조회 결과 관리자키는 1)없거나, 2)10자리거나, 3)11자리거나, 4)4자리-7자리\n",
    "for index, row in df_s_noKey.iterrows() :\n",
    "    s10 = p_n10.search(row.파일명)\n",
    "    s12 = p_n12.search(row.파일명)\n",
    "    if (s10 != None) & (s12== None) :\n",
    "블라블라\n",
    "\n",
    "\n",
    "\n"
   ]
  },
  {
   "cell_type": "code",
   "execution_count": 123,
   "id": "10bff5bb",
   "metadata": {},
   "outputs": [
    {
     "name": "stdout",
     "output_type": "stream",
     "text": [
      "(4, 14)\n",
      "1234567891\n",
      "가나다__가나다_라마\n"
     ]
    }
   ],
   "source": [
    "a = \"가나다_9014000712_가나다_라마\"\n",
    "s10 = p_n10.search(a)\n",
    "s11 = p_n11.search(a)\n",
    "if (s10!= None) & ( s11== None) :\n",
    "\n",
    "# df_c에서 관리자키를 참조하여 채무자키 확보\n",
    "    for index, row in df_c.iterrows() :\n",
    "        if row.\n",
    "\n",
    "        s10.group()\n",
    "        re.sub(s10.group(),\"\",a)\n"
   ]
  },
  {
   "cell_type": "code",
   "execution_count": 151,
   "id": "305422a5",
   "metadata": {},
   "outputs": [
    {
     "data": {
      "text/plain": [
       "'_1234-1234567'"
      ]
     },
     "execution_count": 151,
     "metadata": {},
     "output_type": "execute_result"
    }
   ],
   "source": [
    "a = '34_1234-1234567_가나다'\n",
    "p_admin = re.compile('^\\d\\d\\d\\d-\\d\\d\\d\\d\\d\\d\\d|_\\d\\d\\d\\d-\\d\\d\\d\\d\\d\\d\\d')\n",
    "re.search(p_admin, a).group()"
   ]
  },
  {
   "cell_type": "code",
   "execution_count": null,
   "id": "4a91c7c4",
   "metadata": {},
   "outputs": [],
   "source": []
  },
  {
   "cell_type": "code",
   "execution_count": 28,
   "id": "97b6241a",
   "metadata": {},
   "outputs": [
    {
     "data": {
      "text/html": [
       "<div>\n",
       "<style scoped>\n",
       "    .dataframe tbody tr th:only-of-type {\n",
       "        vertical-align: middle;\n",
       "    }\n",
       "\n",
       "    .dataframe tbody tr th {\n",
       "        vertical-align: top;\n",
       "    }\n",
       "\n",
       "    .dataframe thead th {\n",
       "        text-align: right;\n",
       "    }\n",
       "</style>\n",
       "<table border=\"1\" class=\"dataframe\">\n",
       "  <thead>\n",
       "    <tr style=\"text-align: right;\">\n",
       "      <th></th>\n",
       "      <th>파일명</th>\n",
       "    </tr>\n",
       "  </thead>\n",
       "  <tbody>\n",
       "    <tr>\n",
       "      <th>0</th>\n",
       "      <td>12345678</td>\n",
       "    </tr>\n",
       "    <tr>\n",
       "      <th>1</th>\n",
       "      <td>123456789</td>\n",
       "    </tr>\n",
       "  </tbody>\n",
       "</table>\n",
       "</div>"
      ],
      "text/plain": [
       "         파일명\n",
       "0   12345678\n",
       "1  123456789"
      ]
     },
     "execution_count": 28,
     "metadata": {},
     "output_type": "execute_result"
    }
   ],
   "source": [
    "# 1) 관리자키 검색 : 10자리이상 11자리 none\n",
    "for index, row in df_s_noKey.iterrows() :\n",
    "    if (p_n10.match(row.파일명) != None) & (p_n11.match(row.파일명) == None) :\n",
    "        \n",
    "print(채무자키)\n",
    "\n",
    "# 2) df_c에서 관리자키를 참조하여 채무자키 확보\n",
    "# 3) 확보한 채무자키를 파일명에 넣고, 관리자키는 파일명에서 삭제(rename)\n",
    "# 4) df_s의 파일명도 수정 or '모든파일정보'함수 재실행\n"
   ]
  },
  {
   "cell_type": "code",
   "execution_count": 24,
   "id": "20ebcb04",
   "metadata": {},
   "outputs": [
    {
     "data": {
      "text/plain": [
       "0        20407803_이형구_초본_2020.10.23.pdf\n",
       "1        20408088_김혜성_초본_2021.01.18.pdf\n",
       "2        20408405_박성룡_초본_2020.11.13.pdf\n",
       "3        20411188_임종우_초본_2021.05.07.pdf\n",
       "4        20411194_김정하_초본_2020.10.21.pdf\n",
       "                      ...              \n",
       "72412            20496704_박수묵_양도통지서.pdf\n",
       "72413      S28BW-5e22051915400_0027.pdf\n",
       "72414      S28BW-5e22051915400_0028.pdf\n",
       "72415                  베리타스_양수도_계약서.pdf\n",
       "72416                베리타스양수도계약서-축약본.pdf\n",
       "Name: 파일명, Length: 72417, dtype: object"
      ]
     },
     "execution_count": 24,
     "metadata": {},
     "output_type": "execute_result"
    }
   ],
   "source": [
    "## 관리자키 있는 경우 보기\n",
    "\n",
    "for index, row in df_s.iterrows :\n",
    "    if (p_n8.search(row.파일명) != None) & (p_n9.search(row.파일명) == None) :\n",
    "        print(row.파일명)"
   ]
  },
  {
   "cell_type": "code",
   "execution_count": null,
   "id": "17959cfd",
   "metadata": {},
   "outputs": [],
   "source": [
    "p = p1.match('1234')\n",
    "print(p)\n",
    "\n",
    "if p != None : \n",
    "    print(p.group())\n",
    "    print(p.start())\n",
    "    print(p.end())\n",
    "    print(p.span())\n",
    "\n",
    "m = re.search('^\\d', '1234')\n",
    "print(m)\n",
    "if m != None : \n",
    "    print(m.group())\n",
    "    print(m.start())\n",
    "    print(m.end())\n",
    "    print(m.span())\n",
    "\n"
   ]
  },
  {
   "cell_type": "code",
   "execution_count": null,
   "id": "28c7d48b",
   "metadata": {},
   "outputs": [],
   "source": []
  },
  {
   "cell_type": "code",
   "execution_count": null,
   "id": "7b07349c",
   "metadata": {},
   "outputs": [],
   "source": []
  },
  {
   "cell_type": "code",
   "execution_count": null,
   "id": "02719ede",
   "metadata": {},
   "outputs": [],
   "source": []
  },
  {
   "cell_type": "code",
   "execution_count": null,
   "id": "97ea28c3",
   "metadata": {},
   "outputs": [],
   "source": []
  },
  {
   "cell_type": "code",
   "execution_count": null,
   "id": "599e05e3",
   "metadata": {},
   "outputs": [],
   "source": []
  },
  {
   "cell_type": "code",
   "execution_count": null,
   "id": "75ef1c22",
   "metadata": {},
   "outputs": [],
   "source": []
  }
 ],
 "metadata": {
  "hide_input": false,
  "kernelspec": {
   "display_name": "Python 3.9.12 ('base')",
   "language": "python",
   "name": "python3"
  },
  "language_info": {
   "codemirror_mode": {
    "name": "ipython",
    "version": 3
   },
   "file_extension": ".py",
   "mimetype": "text/x-python",
   "name": "python",
   "nbconvert_exporter": "python",
   "pygments_lexer": "ipython3",
   "version": "3.9.12"
  },
  "toc": {
   "base_numbering": 1,
   "nav_menu": {},
   "number_sections": true,
   "sideBar": true,
   "skip_h1_title": false,
   "title_cell": "Table of Contents",
   "title_sidebar": "Contents",
   "toc_cell": false,
   "toc_position": {},
   "toc_section_display": true,
   "toc_window_display": false
  },
  "varInspector": {
   "cols": {
    "lenName": 16,
    "lenType": 16,
    "lenVar": 40
   },
   "kernels_config": {
    "python": {
     "delete_cmd_postfix": "",
     "delete_cmd_prefix": "del ",
     "library": "var_list.py",
     "varRefreshCmd": "print(var_dic_list())"
    },
    "r": {
     "delete_cmd_postfix": ") ",
     "delete_cmd_prefix": "rm(",
     "library": "var_list.r",
     "varRefreshCmd": "cat(var_dic_list()) "
    }
   },
   "types_to_exclude": [
    "module",
    "function",
    "builtin_function_or_method",
    "instance",
    "_Feature"
   ],
   "window_display": false
  },
  "vscode": {
   "interpreter": {
    "hash": "38d617750889899e5f2f65cac6f27a322f361a63d334879a800ee5491961f90c"
   }
  }
 },
 "nbformat": 4,
 "nbformat_minor": 5
}
